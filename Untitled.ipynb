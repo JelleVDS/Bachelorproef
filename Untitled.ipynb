{
 "cells": [
  {
   "cell_type": "code",
   "execution_count": 1,
   "id": "2962855b-f5ad-4c56-9ffc-a2184751348b",
   "metadata": {},
   "outputs": [],
   "source": [
    "%matplotlib notebook\n",
    "import numpy as np\n",
    "import matplotlib.pyplot as plt\n",
    "import cv2\n",
    "import os\n",
    "import time\n",
    "import scipy.integrate as integr"
   ]
  },
  {
   "cell_type": "code",
   "execution_count": 2,
   "id": "30e8cd6f-3292-4aa0-9640-d947ef71dfde",
   "metadata": {},
   "outputs": [],
   "source": [
    "import InbeddingDiagramDNeg as Dia\n",
    "import WormholeRayTracer as w\n",
    "\n",
    "import Symplectic_DNeg as Smpl\n",
    "import RungeKutta as rk"
   ]
  },
  {
   "cell_type": "code",
   "execution_count": 3,
   "id": "560ec36f-b13c-47d7-9cf0-4a43c0617a9b",
   "metadata": {},
   "outputs": [],
   "source": [
    "path = os.getcwd()"
   ]
  },
  {
   "cell_type": "code",
   "execution_count": 4,
   "id": "bcfb52a3-4232-4e91-adb6-d2dd912d9807",
   "metadata": {},
   "outputs": [],
   "source": [
    "Par = np.array([0.43/1.42953, 8.6, 6]) # M, rho, a parameters wormhole\n",
    "q0 = np.array([12, np.pi, np.pi/2])\n",
    "t_end = 150\n",
    "N = 10000\n",
    "Nz = 50\n",
    "Ny = 100"
   ]
  },
  {
   "cell_type": "code",
   "execution_count": 5,
   "id": "b2a13a64-88fa-4fe0-ae86-cba8a36fb331",
   "metadata": {},
   "outputs": [
    {
     "name": "stdout",
     "output_type": "stream",
     "text": [
      "Initializing screen and calculating initial condition...\n"
     ]
    },
    {
     "data": {
      "application/vnd.jupyter.widget-view+json": {
       "model_id": "8f4f40c3aa994070819750db302cded7",
       "version_major": 2,
       "version_minor": 0
      },
      "text/plain": [
       "  0%|          | 0/196 [00:00<?, ?it/s]"
      ]
     },
     "metadata": {},
     "output_type": "display_data"
    }
   ],
   "source": [
    "Motion1 = w.simulate_raytracer_fullpath(t_end, Par, q0, N, Nz = 14**2, Ny = 14**2, methode = 'BDF')"
   ]
  },
  {
   "cell_type": "code",
   "execution_count": null,
   "id": "1aa346f9-163b-4fc8-b6fa-912409561ef9",
   "metadata": {},
   "outputs": [],
   "source": [
    "# Motion1 = sol[-1]\n",
    "# print(Motion1.shape)\n",
    "np.save('motion', Motion1)\n",
    "# Motion1 = np.load('motion.npy')"
   ]
  },
  {
   "cell_type": "code",
   "execution_count": null,
   "id": "e48dea86-dcfe-4cb7-8e5c-b36146ace493",
   "metadata": {},
   "outputs": [],
   "source": [
    "print(Motion1.shape)"
   ]
  },
  {
   "cell_type": "code",
   "execution_count": null,
   "id": "2629e0ff-c575-4f44-9080-918f04b0bbb6",
   "metadata": {},
   "outputs": [],
   "source": [
    "%matplotlib inline\n",
    "import WormholeGraphics as wg\n",
    "Geo_label = ['a', 'b', 'c', 'd']\n",
    "#Geo_Sel = None\n",
    "Geo_Sel = [[7,75],[95,95],[49,49],[80,80]]\n",
    "#Geo_Sel = [[68,200]] #noise symplectic [0.8/1.42953, 8.6*2/3, 4.3*2/3] [12, np.pi, np.pi/2]\n",
    "#Geo_Sel = [[360, 199]] #noise RK [0.8/1.42953, 8.6*2/3, 4.3*2/3] [12, np.pi, np.pi/2]\n",
    "if Geo_Sel == None:\n",
    "    Geo_txt = \"\"\n",
    "else:\n",
    "    Geo_txt = str(Geo_Sel)\n",
    "wg.gdsc(Motion1[:5000], Par, \"Pictures/geodesics \"+Geo_txt+\" DNeg Sympl\"+str(Par)+\" \"+str(q0)+\".png\", path, Geo_label, Geo_Sel)"
   ]
  },
  {
   "cell_type": "code",
   "execution_count": null,
   "id": "95973bbf-de25-4214-8deb-f80151e45f50",
   "metadata": {},
   "outputs": [],
   "source": []
  },
  {
   "cell_type": "code",
   "execution_count": null,
   "id": "e7f24e37-fc3e-4790-b50e-f0adfde10a3b",
   "metadata": {},
   "outputs": [],
   "source": []
  },
  {
   "cell_type": "code",
   "execution_count": null,
   "id": "5d9a33f6-4cd2-4370-a56b-54c99df21818",
   "metadata": {},
   "outputs": [],
   "source": []
  },
  {
   "cell_type": "code",
   "execution_count": null,
   "id": "fdc419b5-7de3-42cf-bd67-17edb1ac7728",
   "metadata": {},
   "outputs": [],
   "source": []
  }
 ],
 "metadata": {
  "kernelspec": {
   "display_name": "Python 3 (ipykernel)",
   "language": "python",
   "name": "python3"
  },
  "language_info": {
   "codemirror_mode": {
    "name": "ipython",
    "version": 3
   },
   "file_extension": ".py",
   "mimetype": "text/x-python",
   "name": "python",
   "nbconvert_exporter": "python",
   "pygments_lexer": "ipython3",
   "version": "3.9.7"
  }
 },
 "nbformat": 4,
 "nbformat_minor": 5
}
