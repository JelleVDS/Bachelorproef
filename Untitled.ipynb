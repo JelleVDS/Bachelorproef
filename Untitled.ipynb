{
 "cells": [
  {
   "cell_type": "code",
   "execution_count": 1,
   "id": "2962855b-f5ad-4c56-9ffc-a2184751348b",
   "metadata": {},
   "outputs": [],
   "source": [
    "%matplotlib notebook\n",
    "import numpy as np\n",
    "import matplotlib.pyplot as plt\n",
    "import cv2\n",
    "import os\n",
    "import time\n",
    "import scipy.integrate as integr"
   ]
  },
  {
   "cell_type": "code",
   "execution_count": 2,
   "id": "30e8cd6f-3292-4aa0-9640-d947ef71dfde",
   "metadata": {},
   "outputs": [],
   "source": [
    "import InbeddingDiagramDNeg as Dia\n",
    "import WormholeRayTracer as w\n",
    "import WormholeGraphics as wg\n",
    "import Symplectic_DNeg as Smpl\n",
    "import RungeKutta as rk"
   ]
  },
  {
   "cell_type": "code",
   "execution_count": 3,
   "id": "560ec36f-b13c-47d7-9cf0-4a43c0617a9b",
   "metadata": {},
   "outputs": [],
   "source": [
    "path = os.getcwd()"
   ]
  },
  {
   "cell_type": "code",
   "execution_count": 4,
   "id": "bcfb52a3-4232-4e91-adb6-d2dd912d9807",
   "metadata": {},
   "outputs": [],
   "source": [
    "Par = np.array([0.43/1.42953, 8.6, 4.3]) # M, rho, a parameters wormhole\n",
    "q0 = np.array([12, np.pi, np.pi/2])\n",
    "t_end = 100\n",
    "N = 5000\n",
    "Nz = 100\n",
    "Ny = 200"
   ]
  },
  {
   "cell_type": "code",
   "execution_count": 5,
   "id": "b2a13a64-88fa-4fe0-ae86-cba8a36fb331",
   "metadata": {},
   "outputs": [
    {
     "name": "stdout",
     "output_type": "stream",
     "text": [
      "Initializing screen and calculating initial condition...\n"
     ]
    },
    {
     "data": {
      "application/vnd.jupyter.widget-view+json": {
       "model_id": "fa248b9c98b8497caef3709f6dab6782",
       "version_major": 2,
       "version_minor": 0
      },
      "text/plain": [
       "  0%|          | 0/196 [00:00<?, ?it/s]"
      ]
     },
     "metadata": {},
     "output_type": "display_data"
    }
   ],
   "source": [
    "sol = w.simulate_raytracer_fullpath(t_end, Par, q0, N, Nz = 14**2, Ny = 14**2, methode = 'BDF')"
   ]
  },
  {
   "cell_type": "code",
   "execution_count": 12,
   "id": "1aa346f9-163b-4fc8-b6fa-912409561ef9",
   "metadata": {},
   "outputs": [
    {
     "name": "stdout",
     "output_type": "stream",
     "text": [
      "(2, 3, 196, 196)\n"
     ]
    }
   ],
   "source": [
    "Motion1 = sol[-1]\n",
    "print(Motion1.shape)"
   ]
  },
  {
   "cell_type": "code",
   "execution_count": 15,
   "id": "2629e0ff-c575-4f44-9080-918f04b0bbb6",
   "metadata": {},
   "outputs": [
    {
     "ename": "IndexError",
     "evalue": "index 360 is out of bounds for axis 0 with size 196",
     "output_type": "error",
     "traceback": [
      "\u001b[0;31m---------------------------------------------------------------------------\u001b[0m",
      "\u001b[0;31mIndexError\u001b[0m                                Traceback (most recent call last)",
      "\u001b[0;32m/var/folders/m9/1g461_jx4g39c7vw96fjp_k00000gn/T/ipykernel_78400/3983519385.py\u001b[0m in \u001b[0;36m<module>\u001b[0;34m\u001b[0m\n\u001b[1;32m      8\u001b[0m \u001b[0;32melse\u001b[0m\u001b[0;34m:\u001b[0m\u001b[0;34m\u001b[0m\u001b[0;34m\u001b[0m\u001b[0m\n\u001b[1;32m      9\u001b[0m     \u001b[0mGeo_txt\u001b[0m \u001b[0;34m=\u001b[0m \u001b[0mstr\u001b[0m\u001b[0;34m(\u001b[0m\u001b[0mGeo_Sel\u001b[0m\u001b[0;34m)\u001b[0m\u001b[0;34m\u001b[0m\u001b[0;34m\u001b[0m\u001b[0m\n\u001b[0;32m---> 10\u001b[0;31m \u001b[0mwg\u001b[0m\u001b[0;34m.\u001b[0m\u001b[0mgdsc\u001b[0m\u001b[0;34m(\u001b[0m\u001b[0msol\u001b[0m\u001b[0;34m,\u001b[0m \u001b[0mPar\u001b[0m\u001b[0;34m,\u001b[0m \u001b[0;34m\"Pictures/Noise \"\u001b[0m\u001b[0;34m+\u001b[0m\u001b[0mGeo_txt\u001b[0m\u001b[0;34m+\u001b[0m\u001b[0;34m\" DNeg scipy RK45\"\u001b[0m\u001b[0;34m+\u001b[0m\u001b[0mstr\u001b[0m\u001b[0;34m(\u001b[0m\u001b[0mPar\u001b[0m\u001b[0;34m)\u001b[0m\u001b[0;34m+\u001b[0m\u001b[0;34m\" \"\u001b[0m\u001b[0;34m+\u001b[0m\u001b[0mstr\u001b[0m\u001b[0;34m(\u001b[0m\u001b[0mq0\u001b[0m\u001b[0;34m)\u001b[0m\u001b[0;34m+\u001b[0m\u001b[0;34m\".png\"\u001b[0m\u001b[0;34m,\u001b[0m \u001b[0mpath\u001b[0m\u001b[0;34m,\u001b[0m \u001b[0mGeo_label\u001b[0m\u001b[0;34m,\u001b[0m \u001b[0mGeo_Sel\u001b[0m\u001b[0;34m)\u001b[0m\u001b[0;34m\u001b[0m\u001b[0;34m\u001b[0m\u001b[0m\n\u001b[0m",
      "\u001b[0;32m~/codes/wormhole-ray-tracing/WormholeGraphics.py\u001b[0m in \u001b[0;36mgdsc\u001b[0;34m(Motion, Par, name, path, geo_label, select, reduce)\u001b[0m\n\u001b[1;32m    212\u001b[0m         \u001b[0mMotion\u001b[0m \u001b[0;34m=\u001b[0m \u001b[0mnp\u001b[0m\u001b[0;34m.\u001b[0m\u001b[0mtranspose\u001b[0m\u001b[0;34m(\u001b[0m\u001b[0mMotion\u001b[0m\u001b[0;34m,\u001b[0m \u001b[0;34m(\u001b[0m\u001b[0;36m3\u001b[0m\u001b[0;34m,\u001b[0m\u001b[0;36m4\u001b[0m\u001b[0;34m,\u001b[0m\u001b[0;36m0\u001b[0m\u001b[0;34m,\u001b[0m\u001b[0;36m1\u001b[0m\u001b[0;34m,\u001b[0m\u001b[0;36m2\u001b[0m\u001b[0;34m)\u001b[0m\u001b[0;34m)\u001b[0m\u001b[0;34m\u001b[0m\u001b[0;34m\u001b[0m\u001b[0m\n\u001b[1;32m    213\u001b[0m         Sample = np.transpose(\n\u001b[0;32m--> 214\u001b[0;31m             \u001b[0;34m[\u001b[0m\u001b[0mMotion\u001b[0m\u001b[0;34m[\u001b[0m\u001b[0mtuple\u001b[0m\u001b[0;34m(\u001b[0m\u001b[0mselect\u001b[0m\u001b[0;34m[\u001b[0m\u001b[0mk\u001b[0m\u001b[0;34m]\u001b[0m\u001b[0;34m)\u001b[0m\u001b[0;34m]\u001b[0m \u001b[0;32mfor\u001b[0m \u001b[0mk\u001b[0m \u001b[0;32min\u001b[0m \u001b[0mrange\u001b[0m\u001b[0;34m(\u001b[0m\u001b[0mlen\u001b[0m\u001b[0;34m(\u001b[0m\u001b[0mselect\u001b[0m\u001b[0;34m)\u001b[0m\u001b[0;34m)\u001b[0m\u001b[0;34m]\u001b[0m\u001b[0;34m\u001b[0m\u001b[0;34m\u001b[0m\u001b[0m\n\u001b[0m\u001b[1;32m    215\u001b[0m             , (2,3,1,0))\n\u001b[1;32m    216\u001b[0m \u001b[0;34m\u001b[0m\u001b[0m\n",
      "\u001b[0;32m~/codes/wormhole-ray-tracing/WormholeGraphics.py\u001b[0m in \u001b[0;36m<listcomp>\u001b[0;34m(.0)\u001b[0m\n\u001b[1;32m    212\u001b[0m         \u001b[0mMotion\u001b[0m \u001b[0;34m=\u001b[0m \u001b[0mnp\u001b[0m\u001b[0;34m.\u001b[0m\u001b[0mtranspose\u001b[0m\u001b[0;34m(\u001b[0m\u001b[0mMotion\u001b[0m\u001b[0;34m,\u001b[0m \u001b[0;34m(\u001b[0m\u001b[0;36m3\u001b[0m\u001b[0;34m,\u001b[0m\u001b[0;36m4\u001b[0m\u001b[0;34m,\u001b[0m\u001b[0;36m0\u001b[0m\u001b[0;34m,\u001b[0m\u001b[0;36m1\u001b[0m\u001b[0;34m,\u001b[0m\u001b[0;36m2\u001b[0m\u001b[0;34m)\u001b[0m\u001b[0;34m)\u001b[0m\u001b[0;34m\u001b[0m\u001b[0;34m\u001b[0m\u001b[0m\n\u001b[1;32m    213\u001b[0m         Sample = np.transpose(\n\u001b[0;32m--> 214\u001b[0;31m             \u001b[0;34m[\u001b[0m\u001b[0mMotion\u001b[0m\u001b[0;34m[\u001b[0m\u001b[0mtuple\u001b[0m\u001b[0;34m(\u001b[0m\u001b[0mselect\u001b[0m\u001b[0;34m[\u001b[0m\u001b[0mk\u001b[0m\u001b[0;34m]\u001b[0m\u001b[0;34m)\u001b[0m\u001b[0;34m]\u001b[0m \u001b[0;32mfor\u001b[0m \u001b[0mk\u001b[0m \u001b[0;32min\u001b[0m \u001b[0mrange\u001b[0m\u001b[0;34m(\u001b[0m\u001b[0mlen\u001b[0m\u001b[0;34m(\u001b[0m\u001b[0mselect\u001b[0m\u001b[0;34m)\u001b[0m\u001b[0;34m)\u001b[0m\u001b[0;34m]\u001b[0m\u001b[0;34m\u001b[0m\u001b[0;34m\u001b[0m\u001b[0m\n\u001b[0m\u001b[1;32m    215\u001b[0m             , (2,3,1,0))\n\u001b[1;32m    216\u001b[0m \u001b[0;34m\u001b[0m\u001b[0m\n",
      "\u001b[0;31mIndexError\u001b[0m: index 360 is out of bounds for axis 0 with size 196"
     ]
    }
   ],
   "source": [
    "Geo_label = ['a', 'b', 'c', 'd']\n",
    "#Geo_Sel = None\n",
    "#Geo_Sel = [[20,25],[65,15],[71,58],[145,142]]\n",
    "#Geo_Sel = [[68,200]] #noise symplectic [0.8/1.42953, 8.6*2/3, 4.3*2/3] [12, np.pi, np.pi/2]\n",
    "Geo_Sel = [[360, 199]] #noise RK [0.8/1.42953, 8.6*2/3, 4.3*2/3] [12, np.pi, np.pi/2]\n",
    "if Geo_Sel == None:\n",
    "    Geo_txt = \"\"\n",
    "else:\n",
    "    Geo_txt = str(Geo_Sel)\n",
    "wg.gdsc(sol, Par, \"Pictures/Noise \"+Geo_txt+\" DNeg scipy RK45\"+str(Par)+\" \"+str(q0)+\".png\", path, Geo_label, Geo_Sel)"
   ]
  },
  {
   "cell_type": "code",
   "execution_count": null,
   "id": "fdc419b5-7de3-42cf-bd67-17edb1ac7728",
   "metadata": {},
   "outputs": [],
   "source": []
  }
 ],
 "metadata": {
  "kernelspec": {
   "display_name": "Python 3 (ipykernel)",
   "language": "python",
   "name": "python3"
  },
  "language_info": {
   "codemirror_mode": {
    "name": "ipython",
    "version": 3
   },
   "file_extension": ".py",
   "mimetype": "text/x-python",
   "name": "python",
   "nbconvert_exporter": "python",
   "pygments_lexer": "ipython3",
   "version": "3.9.7"
  }
 },
 "nbformat": 4,
 "nbformat_minor": 5
}
