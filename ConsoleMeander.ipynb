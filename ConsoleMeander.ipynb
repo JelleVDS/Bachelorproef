{
 "cells": [
  {
   "cell_type": "code",
   "execution_count": 1,
   "metadata": {},
   "outputs": [],
   "source": [
    "%matplotlib notebook\n",
    "import numpy as np\n",
    "import matplotlib.pyplot as plt\n",
    "import cv2\n",
    "import os"
   ]
  },
  {
   "cell_type": "code",
   "execution_count": 2,
   "metadata": {},
   "outputs": [],
   "source": [
    "import InbeddingDiagramDNeg as Dia\n",
    "import WormholeRayTracer as wrmhole\n",
    "import WormholeGraphics as wg\n",
    "import Symplectic_DNeg as Smpl"
   ]
  },
  {
   "cell_type": "code",
   "execution_count": 3,
   "metadata": {},
   "outputs": [],
   "source": [
    "path = os.getcwd()"
   ]
  },
  {
   "cell_type": "code",
   "execution_count": 4,
   "metadata": {},
   "outputs": [],
   "source": [
    "Par = [0.8/1.42953, 8.6, 4.3] # M, rho, a parameters wormhole\n",
    "\n",
    "initial_q = np.array([12, np.pi, np.pi/2])"
   ]
  },
  {
   "cell_type": "code",
   "execution_count": 5,
   "metadata": {},
   "outputs": [
    {
     "name": "stdout",
     "output_type": "stream",
     "text": [
      "[12.          3.14159265  1.57079633]\n"
     ]
    },
    {
     "name": "stderr",
     "output_type": "stream",
     "text": [
      "/Users/meander/Documents/GitHub/wormhole-ray-tracing/Symplectic_DNeg.py:41: RuntimeWarning: divide by zero encountered in true_divide\n",
      "  rec_r = 1/r\n",
      "/Users/meander/Documents/GitHub/wormhole-ray-tracing/Symplectic_DNeg.py:61: RuntimeWarning: invalid value encountered in multiply\n",
      "  p_l_h = B_2*dr*rec_r_3\n",
      "/Users/meander/Documents/GitHub/wormhole-ray-tracing/Symplectic_DNeg.py:65: RuntimeWarning: invalid value encountered in multiply\n",
      "  phi_h2 = -phi_h*(p_l*dr*rec_r + p_th*cos1/sin1*rec_r_2)\n",
      "/Users/meander/Documents/GitHub/wormhole-ray-tracing/Symplectic_DNeg.py:66: RuntimeWarning: invalid value encountered in multiply\n",
      "  theta_h2 = 0.5*p_th_h*rec_r_2 - p_l*p_th*dr*rec_r_3\n",
      "/Users/meander/Documents/GitHub/wormhole-ray-tracing/Symplectic_DNeg.py:69: RuntimeWarning: invalid value encountered in multiply\n",
      "  p_l_h2 = p_l*(b*phi_h*rec_r_2 + theta_h**2)*c\n",
      "/Users/meander/Documents/GitHub/wormhole-ray-tracing/Symplectic_DNeg.py:70: RuntimeWarning: invalid value encountered in multiply\n",
      "  p_th_h2 = -p_l*p_th_h*dr*rec_r + 0.5*phi_h**2*p_th*(2*sin2 - 3)\n"
     ]
    },
    {
     "name": "stdout",
     "output_type": "stream",
     "text": [
      "171.38299989700317\n"
     ]
    }
   ],
   "source": [
    "print(initial_q)\n",
    "Grid_dimension = '3D'\n",
    "mode = 0\n",
    "Motion1, Grid1, CM1 = wrmhole.Simulate_DNeg(Smpl.Sympl_DNeg, Par, 0.05, 2000, initial_q, 20**2, 20**2, Grid_dimension, mode, wg.Grid_constr_3D_Sph)"
   ]
  },
  {
   "cell_type": "code",
   "execution_count": 6,
   "metadata": {},
   "outputs": [
    {
     "data": {
      "text/plain": [
       "True"
      ]
     },
     "execution_count": 6,
     "metadata": {},
     "output_type": "execute_result"
    }
   ],
   "source": [
    "Cosyst =  ' Sph '\n",
    "cv2.imwrite(os.path.join(path, \"Pictures/Image \"+Grid_dimension+\"Gr\"+Cosyst+\"DNeg Sympl\"+str(Par)+\" \"+str(initial_q)+\".png\"),\n",
    "            255*wg.Make_Pict_RGBP(Motion1[-1, 1], Grid1))"
   ]
  },
  {
   "cell_type": "code",
   "execution_count": 7,
   "metadata": {},
   "outputs": [
    {
     "data": {
      "text/plain": [
       "True"
      ]
     },
     "execution_count": 7,
     "metadata": {},
     "output_type": "execute_result"
    }
   ],
   "source": [
    "cv2.imwrite(os.path.join(path, \"Pictures/Image \"+\"2DGr DNeg Sympl\"+str(Par)+\" \"+str(initial_q)+\".png\"),\n",
    "            255*wg.Make_Pict_RGBP(Motion1[-1, 1], wg.Grid_constr_2D(Motion1[-1, 1], 11, 1, 0.05)))"
   ]
  },
  {
   "cell_type": "code",
   "execution_count": 8,
   "metadata": {},
   "outputs": [
    {
     "data": {
      "text/plain": [
       "True"
      ]
     },
     "execution_count": 8,
     "metadata": {},
     "output_type": "execute_result"
    }
   ],
   "source": [
    "cv2.imwrite(os.path.join(path, \"Pictures/Image \"+\"NoGrid DNeg Sympl\"+str(Par)+\" \"+str(initial_q)+\".png\"),\n",
    "            255*wg.Make_Pict_RGBP(Motion1[-1, 1], np.zeros(Motion1[-1, 1, 0].shape, dtype=bool)))"
   ]
  },
  {
   "cell_type": "code",
   "execution_count": null,
   "metadata": {},
   "outputs": [
    {
     "name": "stdout",
     "output_type": "stream",
     "text": [
      "Initializing screen and calculating initial condition...\n",
      "Iteration (0, 399) completed in 0.007180690765380859s.\n",
      "Iteration (1, 399) completed in 0.007823705673217773s.\n",
      "Iteration (2, 399) completed in 0.007023811340332031s.\n",
      "Iteration (3, 399) completed in 0.006731986999511719s.\n",
      "Iteration (4, 399) completed in 0.006764888763427734s.\n",
      "Iteration (5, 399) completed in 0.006987810134887695s.\n",
      "Iteration (6, 399) completed in 0.006638050079345703s.\n",
      "Iteration (7, 399) completed in 0.006545066833496094s.\n",
      "Iteration (8, 399) completed in 0.006793975830078125s.\n",
      "Iteration (9, 399) completed in 0.007288932800292969s.\n",
      "Iteration (10, 399) completed in 0.006723880767822266s.\n",
      "Iteration (11, 399) completed in 0.007364988327026367s.\n",
      "Iteration (12, 399) completed in 0.006846904754638672s.\n",
      "Iteration (13, 399) completed in 0.00613093376159668s.\n",
      "Iteration (14, 399) completed in 0.007938146591186523s.\n",
      "Iteration (15, 399) completed in 0.007135868072509766s.\n",
      "Iteration (16, 399) completed in 0.0066182613372802734s.\n",
      "Iteration (17, 399) completed in 0.007149934768676758s.\n",
      "Iteration (18, 399) completed in 0.008607149124145508s.\n",
      "Iteration (19, 399) completed in 0.008744001388549805s.\n",
      "Iteration (20, 399) completed in 0.008533000946044922s.\n",
      "Iteration (21, 399) completed in 0.00962686538696289s.\n",
      "Iteration (22, 399) completed in 0.009131908416748047s.\n",
      "Iteration (23, 399) completed in 0.006648063659667969s.\n",
      "Iteration (24, 399) completed in 0.008084774017333984s.\n",
      "Iteration (25, 399) completed in 0.009021282196044922s.\n",
      "Iteration (26, 399) completed in 0.008152008056640625s.\n",
      "Iteration (27, 399) completed in 0.009544849395751953s.\n",
      "Iteration (28, 399) completed in 0.008044719696044922s.\n",
      "Iteration (29, 399) completed in 0.0070858001708984375s.\n",
      "Iteration (30, 399) completed in 0.007067203521728516s.\n",
      "Iteration (31, 399) completed in 0.009011030197143555s.\n",
      "Iteration (32, 399) completed in 0.007543802261352539s.\n",
      "Iteration (33, 399) completed in 0.006769895553588867s.\n",
      "Iteration (34, 399) completed in 0.008096933364868164s.\n",
      "Iteration (35, 399) completed in 0.008730173110961914s.\n",
      "Iteration (36, 399) completed in 0.008499860763549805s.\n",
      "Iteration (37, 399) completed in 0.007909774780273438s.\n",
      "Iteration (38, 399) completed in 0.0077860355377197266s.\n",
      "Iteration (39, 399) completed in 0.007556915283203125s.\n",
      "Iteration (40, 399) completed in 0.007502079010009766s.\n",
      "Iteration (41, 399) completed in 0.007830619812011719s.\n",
      "Iteration (42, 399) completed in 0.007107734680175781s.\n",
      "Iteration (43, 399) completed in 0.007128715515136719s.\n",
      "Iteration (44, 399) completed in 0.008056879043579102s.\n",
      "Iteration (45, 399) completed in 0.007729291915893555s.\n",
      "Iteration (46, 399) completed in 0.008449077606201172s.\n",
      "Iteration (47, 399) completed in 0.0073299407958984375s.\n",
      "Iteration (48, 399) completed in 0.007035255432128906s.\n",
      "Iteration (49, 399) completed in 0.008064985275268555s.\n",
      "Iteration (50, 399) completed in 0.008622884750366211s.\n",
      "Iteration (51, 399) completed in 0.007682085037231445s.\n"
     ]
    }
   ],
   "source": [
    "Motion2 = wrmhole.simulate_raytracer_fullpath(100, Par, initial_q, 20**2, 20**2)"
   ]
  },
  {
   "cell_type": "code",
   "execution_count": null,
   "metadata": {},
   "outputs": [],
   "source": [
    "cv2.imwrite(os.path.join(path, \"Pictures/Image \"+\"2DGr DNeg Scipy intgr.\"+str(Par)+\" \"+str(initial_q)+\".png\"),\n",
    "            255*wg.Make_Pict_RGBP(Motion2[-1, 1], wg.Grid_constr_2D(Motion2[-1, 1], 11, 1, 0.05)))"
   ]
  },
  {
   "cell_type": "code",
   "execution_count": null,
   "metadata": {},
   "outputs": [],
   "source": [
    "Geo_label = None #list of strings for labeling geodesics, turn Geo_sel to None\n",
    "#Geo_Sel = None\n",
    "Geo_Sel = [[31,29],[64,54],[99,31],[97,52],[146,146],[203,39]]\n",
    "if Geo_Sel == None:\n",
    "    Geo_txt = \"\"\n",
    "else:\n",
    "    Geo_txt = str(Geo_Sel)\n",
    "wg.gdsc(Motion1, Par, \"Pictures/geodesics \"+Geo_txt+\" DNeg Sympl\"+str(Par)+\" \"+str(initial_q)+\".png\", path, Geo_label, Geo_Sel)"
   ]
  },
  {
   "cell_type": "code",
   "execution_count": null,
   "metadata": {},
   "outputs": [],
   "source": []
  },
  {
   "cell_type": "code",
   "execution_count": null,
   "metadata": {},
   "outputs": [],
   "source": []
  }
 ],
 "metadata": {
  "kernelspec": {
   "display_name": "Python 3",
   "language": "python",
   "name": "python3"
  },
  "language_info": {
   "codemirror_mode": {
    "name": "ipython",
    "version": 3
   },
   "file_extension": ".py",
   "mimetype": "text/x-python",
   "name": "python",
   "nbconvert_exporter": "python",
   "pygments_lexer": "ipython3",
   "version": "3.8.5"
  }
 },
 "nbformat": 4,
 "nbformat_minor": 4
}
