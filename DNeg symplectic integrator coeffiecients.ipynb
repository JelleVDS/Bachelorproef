{
 "cells": [
  {
   "cell_type": "code",
   "execution_count": 1,
   "metadata": {},
   "outputs": [],
   "source": [
    "import sympy as sp"
   ]
  },
  {
   "cell_type": "code",
   "execution_count": 2,
   "metadata": {},
   "outputs": [],
   "source": [
    "t, l, phi, theta, p_t, p_l, p_phi, p_theta, h = sp.symbols('t l phi theta p_t p_l p_phi p_theta h')\n",
    "z0 = sp.Matrix([[t, l, phi, theta, p_t, p_l, p_phi, p_theta]])\n",
    "r = sp.Function('r')(l)\n",
    "\n",
    "H1 = 0.5*(-p_t**2 + p_l**2)\n",
    "H2 = 0.5*(p_theta**2/r**2)\n",
    "H3 = 0.5*(p_phi**2/(r*sp.sin(theta))**2)"
   ]
  },
  {
   "cell_type": "code",
   "execution_count": 3,
   "metadata": {},
   "outputs": [],
   "source": [
    "def Poiss(z, H):\n",
    "    Z = 0*z\n",
    "    for i in range(4):\n",
    "        Z = Z + sp.diff(z, z0[i])*sp.diff(H, z0[i+4])\n",
    "        Z = Z - sp.diff(z, z0[i+4])*sp.diff(H, z0[i])\n",
    "    return Z"
   ]
  },
  {
   "cell_type": "code",
   "execution_count": 4,
   "metadata": {},
   "outputs": [
    {
     "data": {
      "text/latex": [
       "$\\displaystyle \\left[\\begin{matrix}- 0.5 h p_{t} + t & 0.5 h p_{l} + l & \\phi & \\theta & p_{t} & p_{l} & p_{\\phi} & p_{\\theta}\\end{matrix}\\right]$"
      ],
      "text/plain": [
       "Matrix([[-0.5*h*p_t + t, 0.5*h*p_l + l, phi, theta, p_t, p_l, p_phi, p_theta]])"
      ]
     },
     "execution_count": 4,
     "metadata": {},
     "output_type": "execute_result"
    }
   ],
   "source": [
    "z1 = z0 + 0.5*h*Poiss(z0, H1)\n",
    "z1"
   ]
  },
  {
   "cell_type": "code",
   "execution_count": 5,
   "metadata": {},
   "outputs": [
    {
     "data": {
      "text/latex": [
       "$\\displaystyle \\left[\\begin{matrix}- 0.5 h p_{t} + t & \\frac{0.25 h^{2} p_{\\theta}^{2} \\frac{d}{d l} r{\\left(l \\right)}}{r^{3}{\\left(l \\right)}} + 0.5 h p_{l} + l & \\phi & \\frac{0.5 h p_{\\theta}}{r^{2}{\\left(l \\right)}} + \\theta & p_{t} & \\frac{0.5 h p_{\\theta}^{2} \\frac{d}{d l} r{\\left(l \\right)}}{r^{3}{\\left(l \\right)}} + p_{l} & p_{\\phi} & p_{\\theta}\\end{matrix}\\right]$"
      ],
      "text/plain": [
       "Matrix([[-0.5*h*p_t + t, 0.25*h**2*p_theta**2*Derivative(r(l), l)/r(l)**3 + 0.5*h*p_l + l, phi, 0.5*h*p_theta/r(l)**2 + theta, p_t, 0.5*h*p_theta**2*Derivative(r(l), l)/r(l)**3 + p_l, p_phi, p_theta]])"
      ]
     },
     "execution_count": 5,
     "metadata": {},
     "output_type": "execute_result"
    }
   ],
   "source": [
    "z2 = z1 + 0.5*h*Poiss(z1, H2)\n",
    "z2"
   ]
  },
  {
   "cell_type": "code",
   "execution_count": 6,
   "metadata": {},
   "outputs": [
    {
     "data": {
      "text/latex": [
       "$\\displaystyle \\left[\\begin{matrix}- 0.5 h p_{t} + t & \\frac{0.25 h^{2} p_{\\theta}^{2} \\frac{d}{d l} r{\\left(l \\right)}}{r^{3}{\\left(l \\right)}} + 0.5 h p_{l} + h \\left(\\frac{0.5 h^{2} p_{\\phi}^{2} p_{\\theta} \\cos{\\left(\\theta \\right)} \\frac{d}{d l} r{\\left(l \\right)}}{r^{5}{\\left(l \\right)} \\sin^{3}{\\left(\\theta \\right)}} + \\frac{0.5 h p_{\\phi}^{2} \\frac{d}{d l} r{\\left(l \\right)}}{r^{3}{\\left(l \\right)} \\sin^{2}{\\left(\\theta \\right)}}\\right) + l & \\frac{1.0 h p_{\\phi}}{r^{2}{\\left(l \\right)} \\sin^{2}{\\left(\\theta \\right)}} + \\phi & \\frac{0.5 h^{2} p_{\\phi}^{2} \\cos{\\left(\\theta \\right)}}{r^{4}{\\left(l \\right)} \\sin^{3}{\\left(\\theta \\right)}} + \\frac{0.5 h p_{\\theta}}{r^{2}{\\left(l \\right)}} + \\theta & p_{t} & \\frac{0.5 h p_{\\theta}^{2} \\frac{d}{d l} r{\\left(l \\right)}}{r^{3}{\\left(l \\right)}} + h \\left(\\frac{1.0 h p_{\\phi}^{2} p_{\\theta} \\cos{\\left(\\theta \\right)} \\frac{d}{d l} r{\\left(l \\right)}}{r^{5}{\\left(l \\right)} \\sin^{3}{\\left(\\theta \\right)}} + \\frac{1.0 p_{\\phi}^{2} \\frac{d}{d l} r{\\left(l \\right)}}{r^{3}{\\left(l \\right)} \\sin^{2}{\\left(\\theta \\right)}}\\right) + p_{l} & p_{\\phi} & \\frac{1.0 h p_{\\phi}^{2} \\cos{\\left(\\theta \\right)}}{r^{2}{\\left(l \\right)} \\sin^{3}{\\left(\\theta \\right)}} + p_{\\theta}\\end{matrix}\\right]$"
      ],
      "text/plain": [
       "Matrix([[-0.5*h*p_t + t, 0.25*h**2*p_theta**2*Derivative(r(l), l)/r(l)**3 + 0.5*h*p_l + h*(0.5*h**2*p_phi**2*p_theta*cos(theta)*Derivative(r(l), l)/(r(l)**5*sin(theta)**3) + 0.5*h*p_phi**2*Derivative(r(l), l)/(r(l)**3*sin(theta)**2)) + l, 1.0*h*p_phi/(r(l)**2*sin(theta)**2) + phi, 0.5*h**2*p_phi**2*cos(theta)/(r(l)**4*sin(theta)**3) + 0.5*h*p_theta/r(l)**2 + theta, p_t, 0.5*h*p_theta**2*Derivative(r(l), l)/r(l)**3 + h*(1.0*h*p_phi**2*p_theta*cos(theta)*Derivative(r(l), l)/(r(l)**5*sin(theta)**3) + 1.0*p_phi**2*Derivative(r(l), l)/(r(l)**3*sin(theta)**2)) + p_l, p_phi, 1.0*h*p_phi**2*cos(theta)/(r(l)**2*sin(theta)**3) + p_theta]])"
      ]
     },
     "execution_count": 6,
     "metadata": {},
     "output_type": "execute_result"
    }
   ],
   "source": [
    "z3 = z2 + h*Poiss(z2, H3)\n",
    "z3"
   ]
  },
  {
   "cell_type": "code",
   "execution_count": 7,
   "metadata": {},
   "outputs": [
    {
     "data": {
      "text/latex": [
       "$\\displaystyle \\left[\\begin{matrix}- 0.5 h p_{t} + t & \\frac{0.25 h^{2} p_{\\theta}^{2} \\frac{d}{d l} r{\\left(l \\right)}}{r^{3}{\\left(l \\right)}} + 0.5 h p_{l} + 0.5 h \\left(\\frac{0.5 h p_{\\theta}^{2} \\frac{d}{d l} r{\\left(l \\right)}}{r^{3}{\\left(l \\right)}} + \\frac{1.0 h p_{\\theta} \\left(- \\frac{0.5 h^{2} p_{\\phi}^{2} p_{\\theta} \\frac{d}{d l} r{\\left(l \\right)}}{r^{5}{\\left(l \\right)} \\sin^{2}{\\left(\\theta \\right)}} - \\frac{1.5 h^{2} p_{\\phi}^{2} p_{\\theta} \\cos^{2}{\\left(\\theta \\right)} \\frac{d}{d l} r{\\left(l \\right)}}{r^{5}{\\left(l \\right)} \\sin^{4}{\\left(\\theta \\right)}} - \\frac{1.0 h p_{\\phi}^{2} \\cos{\\left(\\theta \\right)} \\frac{d}{d l} r{\\left(l \\right)}}{r^{3}{\\left(l \\right)} \\sin^{3}{\\left(\\theta \\right)}}\\right)}{r^{2}{\\left(l \\right)}}\\right) + h \\left(\\frac{0.5 h^{2} p_{\\phi}^{2} p_{\\theta} \\cos{\\left(\\theta \\right)} \\frac{d}{d l} r{\\left(l \\right)}}{r^{5}{\\left(l \\right)} \\sin^{3}{\\left(\\theta \\right)}} + \\frac{0.5 h p_{\\phi}^{2} \\frac{d}{d l} r{\\left(l \\right)}}{r^{3}{\\left(l \\right)} \\sin^{2}{\\left(\\theta \\right)}}\\right) + l & - \\frac{1.0 h^{2} p_{\\phi} p_{\\theta} \\cos{\\left(\\theta \\right)}}{r^{4}{\\left(l \\right)} \\sin^{3}{\\left(\\theta \\right)}} + \\frac{1.0 h p_{\\phi}}{r^{2}{\\left(l \\right)} \\sin^{2}{\\left(\\theta \\right)}} + \\phi & \\frac{0.5 h^{2} p_{\\phi}^{2} \\cos{\\left(\\theta \\right)}}{r^{4}{\\left(l \\right)} \\sin^{3}{\\left(\\theta \\right)}} + \\frac{0.5 h p_{\\theta} \\left(- \\frac{0.5 h^{2} p_{\\phi}^{2}}{r^{4}{\\left(l \\right)} \\sin^{2}{\\left(\\theta \\right)}} - \\frac{1.5 h^{2} p_{\\phi}^{2} \\cos^{2}{\\left(\\theta \\right)}}{r^{4}{\\left(l \\right)} \\sin^{4}{\\left(\\theta \\right)}} + 1\\right)}{r^{2}{\\left(l \\right)}} + \\frac{0.5 h p_{\\theta}}{r^{2}{\\left(l \\right)}} + \\theta & p_{t} & \\frac{0.5 h p_{\\theta}^{2} \\frac{d}{d l} r{\\left(l \\right)}}{r^{3}{\\left(l \\right)}} + 0.5 h \\left(\\frac{1.0 h p_{\\theta} \\left(- \\frac{1.0 h p_{\\phi}^{2} p_{\\theta} \\frac{d}{d l} r{\\left(l \\right)}}{r^{5}{\\left(l \\right)} \\sin^{2}{\\left(\\theta \\right)}} - \\frac{3.0 h p_{\\phi}^{2} p_{\\theta} \\cos^{2}{\\left(\\theta \\right)} \\frac{d}{d l} r{\\left(l \\right)}}{r^{5}{\\left(l \\right)} \\sin^{4}{\\left(\\theta \\right)}} - \\frac{2.0 p_{\\phi}^{2} \\cos{\\left(\\theta \\right)} \\frac{d}{d l} r{\\left(l \\right)}}{r^{3}{\\left(l \\right)} \\sin^{3}{\\left(\\theta \\right)}}\\right)}{r^{2}{\\left(l \\right)}} + \\frac{1.0 p_{\\theta}^{2} \\frac{d}{d l} r{\\left(l \\right)}}{r^{3}{\\left(l \\right)}}\\right) + h \\left(\\frac{1.0 h p_{\\phi}^{2} p_{\\theta} \\cos{\\left(\\theta \\right)} \\frac{d}{d l} r{\\left(l \\right)}}{r^{5}{\\left(l \\right)} \\sin^{3}{\\left(\\theta \\right)}} + \\frac{1.0 p_{\\phi}^{2} \\frac{d}{d l} r{\\left(l \\right)}}{r^{3}{\\left(l \\right)} \\sin^{2}{\\left(\\theta \\right)}}\\right) + p_{l} & p_{\\phi} & \\frac{1.0 h p_{\\phi}^{2} \\cos{\\left(\\theta \\right)}}{r^{2}{\\left(l \\right)} \\sin^{3}{\\left(\\theta \\right)}} + \\frac{0.5 h p_{\\theta} \\left(- \\frac{1.0 h p_{\\phi}^{2}}{r^{2}{\\left(l \\right)} \\sin^{2}{\\left(\\theta \\right)}} - \\frac{3.0 h p_{\\phi}^{2} \\cos^{2}{\\left(\\theta \\right)}}{r^{2}{\\left(l \\right)} \\sin^{4}{\\left(\\theta \\right)}}\\right)}{r^{2}{\\left(l \\right)}} + p_{\\theta}\\end{matrix}\\right]$"
      ],
      "text/plain": [
       "Matrix([[-0.5*h*p_t + t, 0.25*h**2*p_theta**2*Derivative(r(l), l)/r(l)**3 + 0.5*h*p_l + 0.5*h*(0.5*h*p_theta**2*Derivative(r(l), l)/r(l)**3 + 1.0*h*p_theta*(-0.5*h**2*p_phi**2*p_theta*Derivative(r(l), l)/(r(l)**5*sin(theta)**2) - 1.5*h**2*p_phi**2*p_theta*cos(theta)**2*Derivative(r(l), l)/(r(l)**5*sin(theta)**4) - 1.0*h*p_phi**2*cos(theta)*Derivative(r(l), l)/(r(l)**3*sin(theta)**3))/r(l)**2) + h*(0.5*h**2*p_phi**2*p_theta*cos(theta)*Derivative(r(l), l)/(r(l)**5*sin(theta)**3) + 0.5*h*p_phi**2*Derivative(r(l), l)/(r(l)**3*sin(theta)**2)) + l, -1.0*h**2*p_phi*p_theta*cos(theta)/(r(l)**4*sin(theta)**3) + 1.0*h*p_phi/(r(l)**2*sin(theta)**2) + phi, 0.5*h**2*p_phi**2*cos(theta)/(r(l)**4*sin(theta)**3) + 0.5*h*p_theta*(-0.5*h**2*p_phi**2/(r(l)**4*sin(theta)**2) - 1.5*h**2*p_phi**2*cos(theta)**2/(r(l)**4*sin(theta)**4) + 1)/r(l)**2 + 0.5*h*p_theta/r(l)**2 + theta, p_t, 0.5*h*p_theta**2*Derivative(r(l), l)/r(l)**3 + 0.5*h*(1.0*h*p_theta*(-1.0*h*p_phi**2*p_theta*Derivative(r(l), l)/(r(l)**5*sin(theta)**2) - 3.0*h*p_phi**2*p_theta*cos(theta)**2*Derivative(r(l), l)/(r(l)**5*sin(theta)**4) - 2.0*p_phi**2*cos(theta)*Derivative(r(l), l)/(r(l)**3*sin(theta)**3))/r(l)**2 + 1.0*p_theta**2*Derivative(r(l), l)/r(l)**3) + h*(1.0*h*p_phi**2*p_theta*cos(theta)*Derivative(r(l), l)/(r(l)**5*sin(theta)**3) + 1.0*p_phi**2*Derivative(r(l), l)/(r(l)**3*sin(theta)**2)) + p_l, p_phi, 1.0*h*p_phi**2*cos(theta)/(r(l)**2*sin(theta)**3) + 0.5*h*p_theta*(-1.0*h*p_phi**2/(r(l)**2*sin(theta)**2) - 3.0*h*p_phi**2*cos(theta)**2/(r(l)**2*sin(theta)**4))/r(l)**2 + p_theta]])"
      ]
     },
     "execution_count": 7,
     "metadata": {},
     "output_type": "execute_result"
    }
   ],
   "source": [
    "z4 = z3 + 0.5*h*Poiss(z3, H2)\n",
    "z4"
   ]
  },
  {
   "cell_type": "code",
   "execution_count": 8,
   "metadata": {},
   "outputs": [
    {
     "data": {
      "text/latex": [
       "$\\displaystyle \\left[\\begin{matrix}- 1.0 h p_{t} + t & \\frac{0.25 h^{2} p_{\\theta}^{2} \\frac{d}{d l} r{\\left(l \\right)}}{r^{3}{\\left(l \\right)}} + 0.5 h p_{l} \\left(\\frac{0.25 h^{2} p_{\\theta}^{2} \\frac{d^{2}}{d l^{2}} r{\\left(l \\right)}}{r^{3}{\\left(l \\right)}} - \\frac{0.75 h^{2} p_{\\theta}^{2} \\left(\\frac{d}{d l} r{\\left(l \\right)}\\right)^{2}}{r^{4}{\\left(l \\right)}} + 0.5 h \\left(\\frac{0.5 h p_{\\theta}^{2} \\frac{d^{2}}{d l^{2}} r{\\left(l \\right)}}{r^{3}{\\left(l \\right)}} - \\frac{1.5 h p_{\\theta}^{2} \\left(\\frac{d}{d l} r{\\left(l \\right)}\\right)^{2}}{r^{4}{\\left(l \\right)}} - \\frac{2.0 h p_{\\theta} \\left(- \\frac{0.5 h^{2} p_{\\phi}^{2} p_{\\theta} \\frac{d}{d l} r{\\left(l \\right)}}{r^{5}{\\left(l \\right)} \\sin^{2}{\\left(\\theta \\right)}} - \\frac{1.5 h^{2} p_{\\phi}^{2} p_{\\theta} \\cos^{2}{\\left(\\theta \\right)} \\frac{d}{d l} r{\\left(l \\right)}}{r^{5}{\\left(l \\right)} \\sin^{4}{\\left(\\theta \\right)}} - \\frac{1.0 h p_{\\phi}^{2} \\cos{\\left(\\theta \\right)} \\frac{d}{d l} r{\\left(l \\right)}}{r^{3}{\\left(l \\right)} \\sin^{3}{\\left(\\theta \\right)}}\\right) \\frac{d}{d l} r{\\left(l \\right)}}{r^{3}{\\left(l \\right)}} + \\frac{1.0 h p_{\\theta} \\left(- \\frac{0.5 h^{2} p_{\\phi}^{2} p_{\\theta} \\frac{d^{2}}{d l^{2}} r{\\left(l \\right)}}{r^{5}{\\left(l \\right)} \\sin^{2}{\\left(\\theta \\right)}} - \\frac{1.5 h^{2} p_{\\phi}^{2} p_{\\theta} \\cos^{2}{\\left(\\theta \\right)} \\frac{d^{2}}{d l^{2}} r{\\left(l \\right)}}{r^{5}{\\left(l \\right)} \\sin^{4}{\\left(\\theta \\right)}} + \\frac{2.5 h^{2} p_{\\phi}^{2} p_{\\theta} \\left(\\frac{d}{d l} r{\\left(l \\right)}\\right)^{2}}{r^{6}{\\left(l \\right)} \\sin^{2}{\\left(\\theta \\right)}} + \\frac{7.5 h^{2} p_{\\phi}^{2} p_{\\theta} \\cos^{2}{\\left(\\theta \\right)} \\left(\\frac{d}{d l} r{\\left(l \\right)}\\right)^{2}}{r^{6}{\\left(l \\right)} \\sin^{4}{\\left(\\theta \\right)}} - \\frac{1.0 h p_{\\phi}^{2} \\cos{\\left(\\theta \\right)} \\frac{d^{2}}{d l^{2}} r{\\left(l \\right)}}{r^{3}{\\left(l \\right)} \\sin^{3}{\\left(\\theta \\right)}} + \\frac{3.0 h p_{\\phi}^{2} \\cos{\\left(\\theta \\right)} \\left(\\frac{d}{d l} r{\\left(l \\right)}\\right)^{2}}{r^{4}{\\left(l \\right)} \\sin^{3}{\\left(\\theta \\right)}}\\right)}{r^{2}{\\left(l \\right)}}\\right) + h \\left(\\frac{0.5 h^{2} p_{\\phi}^{2} p_{\\theta} \\cos{\\left(\\theta \\right)} \\frac{d^{2}}{d l^{2}} r{\\left(l \\right)}}{r^{5}{\\left(l \\right)} \\sin^{3}{\\left(\\theta \\right)}} - \\frac{2.5 h^{2} p_{\\phi}^{2} p_{\\theta} \\cos{\\left(\\theta \\right)} \\left(\\frac{d}{d l} r{\\left(l \\right)}\\right)^{2}}{r^{6}{\\left(l \\right)} \\sin^{3}{\\left(\\theta \\right)}} + \\frac{0.5 h p_{\\phi}^{2} \\frac{d^{2}}{d l^{2}} r{\\left(l \\right)}}{r^{3}{\\left(l \\right)} \\sin^{2}{\\left(\\theta \\right)}} - \\frac{1.5 h p_{\\phi}^{2} \\left(\\frac{d}{d l} r{\\left(l \\right)}\\right)^{2}}{r^{4}{\\left(l \\right)} \\sin^{2}{\\left(\\theta \\right)}}\\right) + 1\\right) + 0.5 h p_{l} + 0.5 h \\left(\\frac{0.5 h p_{\\theta}^{2} \\frac{d}{d l} r{\\left(l \\right)}}{r^{3}{\\left(l \\right)}} + \\frac{1.0 h p_{\\theta} \\left(- \\frac{0.5 h^{2} p_{\\phi}^{2} p_{\\theta} \\frac{d}{d l} r{\\left(l \\right)}}{r^{5}{\\left(l \\right)} \\sin^{2}{\\left(\\theta \\right)}} - \\frac{1.5 h^{2} p_{\\phi}^{2} p_{\\theta} \\cos^{2}{\\left(\\theta \\right)} \\frac{d}{d l} r{\\left(l \\right)}}{r^{5}{\\left(l \\right)} \\sin^{4}{\\left(\\theta \\right)}} - \\frac{1.0 h p_{\\phi}^{2} \\cos{\\left(\\theta \\right)} \\frac{d}{d l} r{\\left(l \\right)}}{r^{3}{\\left(l \\right)} \\sin^{3}{\\left(\\theta \\right)}}\\right)}{r^{2}{\\left(l \\right)}}\\right) + h \\left(\\frac{0.5 h^{2} p_{\\phi}^{2} p_{\\theta} \\cos{\\left(\\theta \\right)} \\frac{d}{d l} r{\\left(l \\right)}}{r^{5}{\\left(l \\right)} \\sin^{3}{\\left(\\theta \\right)}} + \\frac{0.5 h p_{\\phi}^{2} \\frac{d}{d l} r{\\left(l \\right)}}{r^{3}{\\left(l \\right)} \\sin^{2}{\\left(\\theta \\right)}}\\right) + l & - \\frac{1.0 h^{2} p_{\\phi} p_{\\theta} \\cos{\\left(\\theta \\right)}}{r^{4}{\\left(l \\right)} \\sin^{3}{\\left(\\theta \\right)}} + 0.5 h p_{l} \\left(\\frac{4.0 h^{2} p_{\\phi} p_{\\theta} \\cos{\\left(\\theta \\right)} \\frac{d}{d l} r{\\left(l \\right)}}{r^{5}{\\left(l \\right)} \\sin^{3}{\\left(\\theta \\right)}} - \\frac{2.0 h p_{\\phi} \\frac{d}{d l} r{\\left(l \\right)}}{r^{3}{\\left(l \\right)} \\sin^{2}{\\left(\\theta \\right)}}\\right) + \\frac{1.0 h p_{\\phi}}{r^{2}{\\left(l \\right)} \\sin^{2}{\\left(\\theta \\right)}} + \\phi & \\frac{0.5 h^{2} p_{\\phi}^{2} \\cos{\\left(\\theta \\right)}}{r^{4}{\\left(l \\right)} \\sin^{3}{\\left(\\theta \\right)}} + 0.5 h p_{l} \\left(- \\frac{2.0 h^{2} p_{\\phi}^{2} \\cos{\\left(\\theta \\right)} \\frac{d}{d l} r{\\left(l \\right)}}{r^{5}{\\left(l \\right)} \\sin^{3}{\\left(\\theta \\right)}} + \\frac{0.5 h p_{\\theta} \\left(\\frac{2.0 h^{2} p_{\\phi}^{2} \\frac{d}{d l} r{\\left(l \\right)}}{r^{5}{\\left(l \\right)} \\sin^{2}{\\left(\\theta \\right)}} + \\frac{6.0 h^{2} p_{\\phi}^{2} \\cos^{2}{\\left(\\theta \\right)} \\frac{d}{d l} r{\\left(l \\right)}}{r^{5}{\\left(l \\right)} \\sin^{4}{\\left(\\theta \\right)}}\\right)}{r^{2}{\\left(l \\right)}} - \\frac{1.0 h p_{\\theta} \\left(- \\frac{0.5 h^{2} p_{\\phi}^{2}}{r^{4}{\\left(l \\right)} \\sin^{2}{\\left(\\theta \\right)}} - \\frac{1.5 h^{2} p_{\\phi}^{2} \\cos^{2}{\\left(\\theta \\right)}}{r^{4}{\\left(l \\right)} \\sin^{4}{\\left(\\theta \\right)}} + 1\\right) \\frac{d}{d l} r{\\left(l \\right)}}{r^{3}{\\left(l \\right)}} - \\frac{1.0 h p_{\\theta} \\frac{d}{d l} r{\\left(l \\right)}}{r^{3}{\\left(l \\right)}}\\right) + \\frac{0.5 h p_{\\theta} \\left(- \\frac{0.5 h^{2} p_{\\phi}^{2}}{r^{4}{\\left(l \\right)} \\sin^{2}{\\left(\\theta \\right)}} - \\frac{1.5 h^{2} p_{\\phi}^{2} \\cos^{2}{\\left(\\theta \\right)}}{r^{4}{\\left(l \\right)} \\sin^{4}{\\left(\\theta \\right)}} + 1\\right)}{r^{2}{\\left(l \\right)}} + \\frac{0.5 h p_{\\theta}}{r^{2}{\\left(l \\right)}} + \\theta & p_{t} & 0.5 h p_{l} \\left(\\frac{0.5 h p_{\\theta}^{2} \\frac{d^{2}}{d l^{2}} r{\\left(l \\right)}}{r^{3}{\\left(l \\right)}} - \\frac{1.5 h p_{\\theta}^{2} \\left(\\frac{d}{d l} r{\\left(l \\right)}\\right)^{2}}{r^{4}{\\left(l \\right)}} + 0.5 h \\left(- \\frac{2.0 h p_{\\theta} \\left(- \\frac{1.0 h p_{\\phi}^{2} p_{\\theta} \\frac{d}{d l} r{\\left(l \\right)}}{r^{5}{\\left(l \\right)} \\sin^{2}{\\left(\\theta \\right)}} - \\frac{3.0 h p_{\\phi}^{2} p_{\\theta} \\cos^{2}{\\left(\\theta \\right)} \\frac{d}{d l} r{\\left(l \\right)}}{r^{5}{\\left(l \\right)} \\sin^{4}{\\left(\\theta \\right)}} - \\frac{2.0 p_{\\phi}^{2} \\cos{\\left(\\theta \\right)} \\frac{d}{d l} r{\\left(l \\right)}}{r^{3}{\\left(l \\right)} \\sin^{3}{\\left(\\theta \\right)}}\\right) \\frac{d}{d l} r{\\left(l \\right)}}{r^{3}{\\left(l \\right)}} + \\frac{1.0 h p_{\\theta} \\left(- \\frac{1.0 h p_{\\phi}^{2} p_{\\theta} \\frac{d^{2}}{d l^{2}} r{\\left(l \\right)}}{r^{5}{\\left(l \\right)} \\sin^{2}{\\left(\\theta \\right)}} - \\frac{3.0 h p_{\\phi}^{2} p_{\\theta} \\cos^{2}{\\left(\\theta \\right)} \\frac{d^{2}}{d l^{2}} r{\\left(l \\right)}}{r^{5}{\\left(l \\right)} \\sin^{4}{\\left(\\theta \\right)}} + \\frac{5.0 h p_{\\phi}^{2} p_{\\theta} \\left(\\frac{d}{d l} r{\\left(l \\right)}\\right)^{2}}{r^{6}{\\left(l \\right)} \\sin^{2}{\\left(\\theta \\right)}} + \\frac{15.0 h p_{\\phi}^{2} p_{\\theta} \\cos^{2}{\\left(\\theta \\right)} \\left(\\frac{d}{d l} r{\\left(l \\right)}\\right)^{2}}{r^{6}{\\left(l \\right)} \\sin^{4}{\\left(\\theta \\right)}} - \\frac{2.0 p_{\\phi}^{2} \\cos{\\left(\\theta \\right)} \\frac{d^{2}}{d l^{2}} r{\\left(l \\right)}}{r^{3}{\\left(l \\right)} \\sin^{3}{\\left(\\theta \\right)}} + \\frac{6.0 p_{\\phi}^{2} \\cos{\\left(\\theta \\right)} \\left(\\frac{d}{d l} r{\\left(l \\right)}\\right)^{2}}{r^{4}{\\left(l \\right)} \\sin^{3}{\\left(\\theta \\right)}}\\right)}{r^{2}{\\left(l \\right)}} + \\frac{1.0 p_{\\theta}^{2} \\frac{d^{2}}{d l^{2}} r{\\left(l \\right)}}{r^{3}{\\left(l \\right)}} - \\frac{3.0 p_{\\theta}^{2} \\left(\\frac{d}{d l} r{\\left(l \\right)}\\right)^{2}}{r^{4}{\\left(l \\right)}}\\right) + h \\left(\\frac{1.0 h p_{\\phi}^{2} p_{\\theta} \\cos{\\left(\\theta \\right)} \\frac{d^{2}}{d l^{2}} r{\\left(l \\right)}}{r^{5}{\\left(l \\right)} \\sin^{3}{\\left(\\theta \\right)}} - \\frac{5.0 h p_{\\phi}^{2} p_{\\theta} \\cos{\\left(\\theta \\right)} \\left(\\frac{d}{d l} r{\\left(l \\right)}\\right)^{2}}{r^{6}{\\left(l \\right)} \\sin^{3}{\\left(\\theta \\right)}} + \\frac{1.0 p_{\\phi}^{2} \\frac{d^{2}}{d l^{2}} r{\\left(l \\right)}}{r^{3}{\\left(l \\right)} \\sin^{2}{\\left(\\theta \\right)}} - \\frac{3.0 p_{\\phi}^{2} \\left(\\frac{d}{d l} r{\\left(l \\right)}\\right)^{2}}{r^{4}{\\left(l \\right)} \\sin^{2}{\\left(\\theta \\right)}}\\right)\\right) + \\frac{0.5 h p_{\\theta}^{2} \\frac{d}{d l} r{\\left(l \\right)}}{r^{3}{\\left(l \\right)}} + 0.5 h \\left(\\frac{1.0 h p_{\\theta} \\left(- \\frac{1.0 h p_{\\phi}^{2} p_{\\theta} \\frac{d}{d l} r{\\left(l \\right)}}{r^{5}{\\left(l \\right)} \\sin^{2}{\\left(\\theta \\right)}} - \\frac{3.0 h p_{\\phi}^{2} p_{\\theta} \\cos^{2}{\\left(\\theta \\right)} \\frac{d}{d l} r{\\left(l \\right)}}{r^{5}{\\left(l \\right)} \\sin^{4}{\\left(\\theta \\right)}} - \\frac{2.0 p_{\\phi}^{2} \\cos{\\left(\\theta \\right)} \\frac{d}{d l} r{\\left(l \\right)}}{r^{3}{\\left(l \\right)} \\sin^{3}{\\left(\\theta \\right)}}\\right)}{r^{2}{\\left(l \\right)}} + \\frac{1.0 p_{\\theta}^{2} \\frac{d}{d l} r{\\left(l \\right)}}{r^{3}{\\left(l \\right)}}\\right) + h \\left(\\frac{1.0 h p_{\\phi}^{2} p_{\\theta} \\cos{\\left(\\theta \\right)} \\frac{d}{d l} r{\\left(l \\right)}}{r^{5}{\\left(l \\right)} \\sin^{3}{\\left(\\theta \\right)}} + \\frac{1.0 p_{\\phi}^{2} \\frac{d}{d l} r{\\left(l \\right)}}{r^{3}{\\left(l \\right)} \\sin^{2}{\\left(\\theta \\right)}}\\right) + p_{l} & p_{\\phi} & 0.5 h p_{l} \\left(- \\frac{2.0 h p_{\\phi}^{2} \\cos{\\left(\\theta \\right)} \\frac{d}{d l} r{\\left(l \\right)}}{r^{3}{\\left(l \\right)} \\sin^{3}{\\left(\\theta \\right)}} - \\frac{1.0 h p_{\\theta} \\left(- \\frac{1.0 h p_{\\phi}^{2}}{r^{2}{\\left(l \\right)} \\sin^{2}{\\left(\\theta \\right)}} - \\frac{3.0 h p_{\\phi}^{2} \\cos^{2}{\\left(\\theta \\right)}}{r^{2}{\\left(l \\right)} \\sin^{4}{\\left(\\theta \\right)}}\\right) \\frac{d}{d l} r{\\left(l \\right)}}{r^{3}{\\left(l \\right)}} + \\frac{0.5 h p_{\\theta} \\left(\\frac{2.0 h p_{\\phi}^{2} \\frac{d}{d l} r{\\left(l \\right)}}{r^{3}{\\left(l \\right)} \\sin^{2}{\\left(\\theta \\right)}} + \\frac{6.0 h p_{\\phi}^{2} \\cos^{2}{\\left(\\theta \\right)} \\frac{d}{d l} r{\\left(l \\right)}}{r^{3}{\\left(l \\right)} \\sin^{4}{\\left(\\theta \\right)}}\\right)}{r^{2}{\\left(l \\right)}}\\right) + \\frac{1.0 h p_{\\phi}^{2} \\cos{\\left(\\theta \\right)}}{r^{2}{\\left(l \\right)} \\sin^{3}{\\left(\\theta \\right)}} + \\frac{0.5 h p_{\\theta} \\left(- \\frac{1.0 h p_{\\phi}^{2}}{r^{2}{\\left(l \\right)} \\sin^{2}{\\left(\\theta \\right)}} - \\frac{3.0 h p_{\\phi}^{2} \\cos^{2}{\\left(\\theta \\right)}}{r^{2}{\\left(l \\right)} \\sin^{4}{\\left(\\theta \\right)}}\\right)}{r^{2}{\\left(l \\right)}} + p_{\\theta}\\end{matrix}\\right]$"
      ],
      "text/plain": [
       "Matrix([[-1.0*h*p_t + t, 0.25*h**2*p_theta**2*Derivative(r(l), l)/r(l)**3 + 0.5*h*p_l*(0.25*h**2*p_theta**2*Derivative(r(l), (l, 2))/r(l)**3 - 0.75*h**2*p_theta**2*Derivative(r(l), l)**2/r(l)**4 + 0.5*h*(0.5*h*p_theta**2*Derivative(r(l), (l, 2))/r(l)**3 - 1.5*h*p_theta**2*Derivative(r(l), l)**2/r(l)**4 - 2.0*h*p_theta*(-0.5*h**2*p_phi**2*p_theta*Derivative(r(l), l)/(r(l)**5*sin(theta)**2) - 1.5*h**2*p_phi**2*p_theta*cos(theta)**2*Derivative(r(l), l)/(r(l)**5*sin(theta)**4) - 1.0*h*p_phi**2*cos(theta)*Derivative(r(l), l)/(r(l)**3*sin(theta)**3))*Derivative(r(l), l)/r(l)**3 + 1.0*h*p_theta*(-0.5*h**2*p_phi**2*p_theta*Derivative(r(l), (l, 2))/(r(l)**5*sin(theta)**2) - 1.5*h**2*p_phi**2*p_theta*cos(theta)**2*Derivative(r(l), (l, 2))/(r(l)**5*sin(theta)**4) + 2.5*h**2*p_phi**2*p_theta*Derivative(r(l), l)**2/(r(l)**6*sin(theta)**2) + 7.5*h**2*p_phi**2*p_theta*cos(theta)**2*Derivative(r(l), l)**2/(r(l)**6*sin(theta)**4) - 1.0*h*p_phi**2*cos(theta)*Derivative(r(l), (l, 2))/(r(l)**3*sin(theta)**3) + 3.0*h*p_phi**2*cos(theta)*Derivative(r(l), l)**2/(r(l)**4*sin(theta)**3))/r(l)**2) + h*(0.5*h**2*p_phi**2*p_theta*cos(theta)*Derivative(r(l), (l, 2))/(r(l)**5*sin(theta)**3) - 2.5*h**2*p_phi**2*p_theta*cos(theta)*Derivative(r(l), l)**2/(r(l)**6*sin(theta)**3) + 0.5*h*p_phi**2*Derivative(r(l), (l, 2))/(r(l)**3*sin(theta)**2) - 1.5*h*p_phi**2*Derivative(r(l), l)**2/(r(l)**4*sin(theta)**2)) + 1) + 0.5*h*p_l + 0.5*h*(0.5*h*p_theta**2*Derivative(r(l), l)/r(l)**3 + 1.0*h*p_theta*(-0.5*h**2*p_phi**2*p_theta*Derivative(r(l), l)/(r(l)**5*sin(theta)**2) - 1.5*h**2*p_phi**2*p_theta*cos(theta)**2*Derivative(r(l), l)/(r(l)**5*sin(theta)**4) - 1.0*h*p_phi**2*cos(theta)*Derivative(r(l), l)/(r(l)**3*sin(theta)**3))/r(l)**2) + h*(0.5*h**2*p_phi**2*p_theta*cos(theta)*Derivative(r(l), l)/(r(l)**5*sin(theta)**3) + 0.5*h*p_phi**2*Derivative(r(l), l)/(r(l)**3*sin(theta)**2)) + l, -1.0*h**2*p_phi*p_theta*cos(theta)/(r(l)**4*sin(theta)**3) + 0.5*h*p_l*(4.0*h**2*p_phi*p_theta*cos(theta)*Derivative(r(l), l)/(r(l)**5*sin(theta)**3) - 2.0*h*p_phi*Derivative(r(l), l)/(r(l)**3*sin(theta)**2)) + 1.0*h*p_phi/(r(l)**2*sin(theta)**2) + phi, 0.5*h**2*p_phi**2*cos(theta)/(r(l)**4*sin(theta)**3) + 0.5*h*p_l*(-2.0*h**2*p_phi**2*cos(theta)*Derivative(r(l), l)/(r(l)**5*sin(theta)**3) + 0.5*h*p_theta*(2.0*h**2*p_phi**2*Derivative(r(l), l)/(r(l)**5*sin(theta)**2) + 6.0*h**2*p_phi**2*cos(theta)**2*Derivative(r(l), l)/(r(l)**5*sin(theta)**4))/r(l)**2 - 1.0*h*p_theta*(-0.5*h**2*p_phi**2/(r(l)**4*sin(theta)**2) - 1.5*h**2*p_phi**2*cos(theta)**2/(r(l)**4*sin(theta)**4) + 1)*Derivative(r(l), l)/r(l)**3 - 1.0*h*p_theta*Derivative(r(l), l)/r(l)**3) + 0.5*h*p_theta*(-0.5*h**2*p_phi**2/(r(l)**4*sin(theta)**2) - 1.5*h**2*p_phi**2*cos(theta)**2/(r(l)**4*sin(theta)**4) + 1)/r(l)**2 + 0.5*h*p_theta/r(l)**2 + theta, p_t, 0.5*h*p_l*(0.5*h*p_theta**2*Derivative(r(l), (l, 2))/r(l)**3 - 1.5*h*p_theta**2*Derivative(r(l), l)**2/r(l)**4 + 0.5*h*(-2.0*h*p_theta*(-1.0*h*p_phi**2*p_theta*Derivative(r(l), l)/(r(l)**5*sin(theta)**2) - 3.0*h*p_phi**2*p_theta*cos(theta)**2*Derivative(r(l), l)/(r(l)**5*sin(theta)**4) - 2.0*p_phi**2*cos(theta)*Derivative(r(l), l)/(r(l)**3*sin(theta)**3))*Derivative(r(l), l)/r(l)**3 + 1.0*h*p_theta*(-1.0*h*p_phi**2*p_theta*Derivative(r(l), (l, 2))/(r(l)**5*sin(theta)**2) - 3.0*h*p_phi**2*p_theta*cos(theta)**2*Derivative(r(l), (l, 2))/(r(l)**5*sin(theta)**4) + 5.0*h*p_phi**2*p_theta*Derivative(r(l), l)**2/(r(l)**6*sin(theta)**2) + 15.0*h*p_phi**2*p_theta*cos(theta)**2*Derivative(r(l), l)**2/(r(l)**6*sin(theta)**4) - 2.0*p_phi**2*cos(theta)*Derivative(r(l), (l, 2))/(r(l)**3*sin(theta)**3) + 6.0*p_phi**2*cos(theta)*Derivative(r(l), l)**2/(r(l)**4*sin(theta)**3))/r(l)**2 + 1.0*p_theta**2*Derivative(r(l), (l, 2))/r(l)**3 - 3.0*p_theta**2*Derivative(r(l), l)**2/r(l)**4) + h*(1.0*h*p_phi**2*p_theta*cos(theta)*Derivative(r(l), (l, 2))/(r(l)**5*sin(theta)**3) - 5.0*h*p_phi**2*p_theta*cos(theta)*Derivative(r(l), l)**2/(r(l)**6*sin(theta)**3) + 1.0*p_phi**2*Derivative(r(l), (l, 2))/(r(l)**3*sin(theta)**2) - 3.0*p_phi**2*Derivative(r(l), l)**2/(r(l)**4*sin(theta)**2))) + 0.5*h*p_theta**2*Derivative(r(l), l)/r(l)**3 + 0.5*h*(1.0*h*p_theta*(-1.0*h*p_phi**2*p_theta*Derivative(r(l), l)/(r(l)**5*sin(theta)**2) - 3.0*h*p_phi**2*p_theta*cos(theta)**2*Derivative(r(l), l)/(r(l)**5*sin(theta)**4) - 2.0*p_phi**2*cos(theta)*Derivative(r(l), l)/(r(l)**3*sin(theta)**3))/r(l)**2 + 1.0*p_theta**2*Derivative(r(l), l)/r(l)**3) + h*(1.0*h*p_phi**2*p_theta*cos(theta)*Derivative(r(l), l)/(r(l)**5*sin(theta)**3) + 1.0*p_phi**2*Derivative(r(l), l)/(r(l)**3*sin(theta)**2)) + p_l, p_phi, 0.5*h*p_l*(-2.0*h*p_phi**2*cos(theta)*Derivative(r(l), l)/(r(l)**3*sin(theta)**3) - 1.0*h*p_theta*(-1.0*h*p_phi**2/(r(l)**2*sin(theta)**2) - 3.0*h*p_phi**2*cos(theta)**2/(r(l)**2*sin(theta)**4))*Derivative(r(l), l)/r(l)**3 + 0.5*h*p_theta*(2.0*h*p_phi**2*Derivative(r(l), l)/(r(l)**3*sin(theta)**2) + 6.0*h*p_phi**2*cos(theta)**2*Derivative(r(l), l)/(r(l)**3*sin(theta)**4))/r(l)**2) + 1.0*h*p_phi**2*cos(theta)/(r(l)**2*sin(theta)**3) + 0.5*h*p_theta*(-1.0*h*p_phi**2/(r(l)**2*sin(theta)**2) - 3.0*h*p_phi**2*cos(theta)**2/(r(l)**2*sin(theta)**4))/r(l)**2 + p_theta]])"
      ]
     },
     "execution_count": 8,
     "metadata": {},
     "output_type": "execute_result"
    }
   ],
   "source": [
    "z5 = z4 + 0.5*h*Poiss(z4, H1)\n",
    "z5"
   ]
  },
  {
   "cell_type": "code",
   "execution_count": 9,
   "metadata": {},
   "outputs": [
    {
     "data": {
      "text/latex": [
       "$\\displaystyle \\left[\\begin{matrix}t & l & \\phi & \\theta & p_{t} & p_{l} & p_{\\phi} & p_{\\theta}\\end{matrix}\\right]$"
      ],
      "text/plain": [
       "Matrix([[t, l, phi, theta, p_t, p_l, p_phi, p_theta]])"
      ]
     },
     "execution_count": 9,
     "metadata": {},
     "output_type": "execute_result"
    }
   ],
   "source": [
    "z_h0 = z5.subs(h,0)\n",
    "z_h0"
   ]
  },
  {
   "cell_type": "code",
   "execution_count": 10,
   "metadata": {},
   "outputs": [
    {
     "data": {
      "text/latex": [
       "$\\displaystyle \\left[\\begin{matrix}- 1.0 p_{t} & 1.0 p_{l} & \\frac{1.0 p_{\\phi}}{r^{2}{\\left(l \\right)} \\sin^{2}{\\left(\\theta \\right)}} & \\frac{1.0 p_{\\theta}}{r^{2}{\\left(l \\right)}} & 0 & \\frac{1.0 \\left(\\frac{p_{\\phi}^{2}}{\\sin^{2}{\\left(\\theta \\right)}} + p_{\\theta}^{2}\\right) \\frac{d}{d l} r{\\left(l \\right)}}{r^{3}{\\left(l \\right)}} & 0 & \\frac{1.0 p_{\\phi}^{2} \\cos{\\left(\\theta \\right)}}{r^{2}{\\left(l \\right)} \\sin^{3}{\\left(\\theta \\right)}}\\end{matrix}\\right]$"
      ],
      "text/plain": [
       "Matrix([[-1.0*p_t, 1.0*p_l, 1.0*p_phi/(r(l)**2*sin(theta)**2), 1.0*p_theta/r(l)**2, 0, 1.0*(p_phi**2/sin(theta)**2 + p_theta**2)*Derivative(r(l), l)/r(l)**3, 0, 1.0*p_phi**2*cos(theta)/(r(l)**2*sin(theta)**3)]])"
      ]
     },
     "execution_count": 10,
     "metadata": {},
     "output_type": "execute_result"
    }
   ],
   "source": [
    "z_h1 = sp.simplify((z5 - z_h0)/h).subs(h,0)\n",
    "sp.simplify(z_h1)"
   ]
  },
  {
   "cell_type": "code",
   "execution_count": 11,
   "metadata": {},
   "outputs": [
    {
     "data": {
      "text/latex": [
       "$\\displaystyle \\left[\\begin{matrix}0 & \\frac{0.5 \\left(\\frac{p_{\\phi}^{2}}{\\sin^{2}{\\left(\\theta \\right)}} + p_{\\theta}^{2}\\right) \\frac{d}{d l} r{\\left(l \\right)}}{r^{3}{\\left(l \\right)}} & - \\frac{1.0 p_{\\phi} \\left(p_{l} r{\\left(l \\right)} \\sin{\\left(\\theta \\right)} \\frac{d}{d l} r{\\left(l \\right)} + p_{\\theta} \\cos{\\left(\\theta \\right)}\\right)}{r^{4}{\\left(l \\right)} \\sin^{3}{\\left(\\theta \\right)}} & \\frac{0.25 \\left(- 4 p_{l} p_{\\theta} r{\\left(l \\right)} \\frac{d}{d l} r{\\left(l \\right)} + \\frac{2 p_{\\phi}^{2} \\cos{\\left(\\theta \\right)}}{\\sin^{3}{\\left(\\theta \\right)}}\\right)}{r^{4}{\\left(l \\right)}} & 0 & \\frac{p_{l} \\left(0.5 p_{\\phi}^{2} r{\\left(l \\right)} \\frac{d^{2}}{d l^{2}} r{\\left(l \\right)} - 1.5 p_{\\phi}^{2} \\left(\\frac{d}{d l} r{\\left(l \\right)}\\right)^{2} + p_{\\theta}^{2} \\left(0.5 r{\\left(l \\right)} \\frac{d^{2}}{d l^{2}} r{\\left(l \\right)} - 1.5 \\left(\\frac{d}{d l} r{\\left(l \\right)}\\right)^{2}\\right) \\sin^{2}{\\left(\\theta \\right)}\\right)}{r^{4}{\\left(l \\right)} \\sin^{2}{\\left(\\theta \\right)}} & 0 & \\frac{0.5 p_{\\phi}^{2} \\left(- p_{l} r{\\left(l \\right)} \\sin{\\left(2 \\theta \\right)} \\frac{d}{d l} r{\\left(l \\right)} + p_{\\theta} \\left(2.0 \\sin^{2}{\\left(\\theta \\right)} - 3.0\\right)\\right)}{r^{4}{\\left(l \\right)} \\sin^{4}{\\left(\\theta \\right)}}\\end{matrix}\\right]$"
      ],
      "text/plain": [
       "Matrix([[0, 0.5*(p_phi**2/sin(theta)**2 + p_theta**2)*Derivative(r(l), l)/r(l)**3, -1.0*p_phi*(p_l*r(l)*sin(theta)*Derivative(r(l), l) + p_theta*cos(theta))/(r(l)**4*sin(theta)**3), 0.25*(-4*p_l*p_theta*r(l)*Derivative(r(l), l) + 2*p_phi**2*cos(theta)/sin(theta)**3)/r(l)**4, 0, p_l*(0.5*p_phi**2*r(l)*Derivative(r(l), (l, 2)) - 1.5*p_phi**2*Derivative(r(l), l)**2 + p_theta**2*(0.5*r(l)*Derivative(r(l), (l, 2)) - 1.5*Derivative(r(l), l)**2)*sin(theta)**2)/(r(l)**4*sin(theta)**2), 0, 0.5*p_phi**2*(-p_l*r(l)*sin(2*theta)*Derivative(r(l), l) + p_theta*(2.0*sin(theta)**2 - 3.0))/(r(l)**4*sin(theta)**4)]])"
      ]
     },
     "execution_count": 11,
     "metadata": {},
     "output_type": "execute_result"
    }
   ],
   "source": [
    "z_h2 = sp.simplify( ((z5 - z_h0)/h - z_h1)/h ).subs(h,0)\n",
    "sp.simplify(z_h2)"
   ]
  },
  {
   "cell_type": "code",
   "execution_count": 12,
   "metadata": {},
   "outputs": [
    {
     "name": "stdout",
     "output_type": "stream",
     "text": [
      "\\left[\\begin{matrix}- 1.0 p_{t}\\\\1.0 p_{l}\\\\\\frac{1.0 p_{\\phi}}{r^{2}{\\left(l \\right)} \\sin^{2}{\\left(\\theta \\right)}}\\\\\\frac{1.0 p_{\\theta}}{r^{2}{\\left(l \\right)}}\\\\0\\\\\\frac{1.0 \\left(\\frac{p_{\\phi}^{2}}{\\sin^{2}{\\left(\\theta \\right)}} + p_{\\theta}^{2}\\right) \\frac{d}{d l} r{\\left(l \\right)}}{r^{3}{\\left(l \\right)}}\\\\0\\\\\\frac{1.0 p_{\\phi}^{2} \\cos{\\left(\\theta \\right)}}{r^{2}{\\left(l \\right)} \\sin^{3}{\\left(\\theta \\right)}}\\end{matrix}\\right]\n"
     ]
    }
   ],
   "source": [
    "print(sp.latex(sp.simplify(z_h1).T))"
   ]
  },
  {
   "cell_type": "code",
   "execution_count": 13,
   "metadata": {},
   "outputs": [
    {
     "name": "stdout",
     "output_type": "stream",
     "text": [
      "\\left[\\begin{matrix}0\\\\\\frac{0.5 \\left(\\frac{p_{\\phi}^{2}}{\\sin^{2}{\\left(\\theta \\right)}} + p_{\\theta}^{2}\\right) \\frac{d}{d l} r{\\left(l \\right)}}{r^{3}{\\left(l \\right)}}\\\\- \\frac{1.0 p_{\\phi} \\left(p_{l} r{\\left(l \\right)} \\sin{\\left(\\theta \\right)} \\frac{d}{d l} r{\\left(l \\right)} + p_{\\theta} \\cos{\\left(\\theta \\right)}\\right)}{r^{4}{\\left(l \\right)} \\sin^{3}{\\left(\\theta \\right)}}\\\\\\frac{0.25 \\left(- 4 p_{l} p_{\\theta} r{\\left(l \\right)} \\frac{d}{d l} r{\\left(l \\right)} + \\frac{2 p_{\\phi}^{2} \\cos{\\left(\\theta \\right)}}{\\sin^{3}{\\left(\\theta \\right)}}\\right)}{r^{4}{\\left(l \\right)}}\\\\0\\\\\\frac{p_{l} \\left(0.5 p_{\\phi}^{2} r{\\left(l \\right)} \\frac{d^{2}}{d l^{2}} r{\\left(l \\right)} - 1.5 p_{\\phi}^{2} \\left(\\frac{d}{d l} r{\\left(l \\right)}\\right)^{2} + p_{\\theta}^{2} \\left(0.5 r{\\left(l \\right)} \\frac{d^{2}}{d l^{2}} r{\\left(l \\right)} - 1.5 \\left(\\frac{d}{d l} r{\\left(l \\right)}\\right)^{2}\\right) \\sin^{2}{\\left(\\theta \\right)}\\right)}{r^{4}{\\left(l \\right)} \\sin^{2}{\\left(\\theta \\right)}}\\\\0\\\\\\frac{0.5 p_{\\phi}^{2} \\left(- p_{l} r{\\left(l \\right)} \\sin{\\left(2 \\theta \\right)} \\frac{d}{d l} r{\\left(l \\right)} + p_{\\theta} \\left(2.0 \\sin^{2}{\\left(\\theta \\right)} - 3.0\\right)\\right)}{r^{4}{\\left(l \\right)} \\sin^{4}{\\left(\\theta \\right)}}\\end{matrix}\\right]\n"
     ]
    }
   ],
   "source": [
    "print(sp.latex(sp.simplify(z_h2).T))"
   ]
  },
  {
   "cell_type": "code",
   "execution_count": 12,
   "metadata": {},
   "outputs": [
    {
     "data": {
      "text/latex": [
       "$\\displaystyle \\left[\\begin{matrix}- 1.0 h p_{t} + t & \\frac{h^{2} \\left(\\frac{0.5 p_{\\phi}^{2} r^{5}{\\left(l \\right)} \\frac{d}{d l} r{\\left(l \\right)}}{\\sin^{2}{\\left(\\theta \\right)}} + 0.5 p_{\\theta}^{2} r^{5}{\\left(l \\right)} \\frac{d}{d l} r{\\left(l \\right)}\\right)}{r^{8}{\\left(l \\right)}} + 1.0 h p_{l} + l & \\frac{h^{2} p_{\\phi} \\left(- 1.0 p_{l} r^{2}{\\left(l \\right)} \\sin{\\left(\\theta \\right)} \\frac{d}{d l} r{\\left(l \\right)} - 1.0 p_{\\theta} r{\\left(l \\right)} \\cos{\\left(\\theta \\right)}\\right)}{r^{5}{\\left(l \\right)} \\sin^{3}{\\left(\\theta \\right)}} + \\frac{1.0 h p_{\\phi}}{r^{2}{\\left(l \\right)} \\sin^{2}{\\left(\\theta \\right)}} + \\phi & \\frac{h^{2} \\left(- 0.25 p_{l} p_{\\theta} \\left(1 - \\cos{\\left(2 \\theta \\right)}\\right)^{2} r^{4}{\\left(l \\right)} \\frac{d}{d l} r{\\left(l \\right)} + 0.25 p_{\\phi}^{2} r^{3}{\\left(l \\right)} \\sin{\\left(2 \\theta \\right)}\\right)}{r^{7}{\\left(l \\right)} \\sin^{4}{\\left(\\theta \\right)}} + \\frac{0.25 h p_{\\theta} \\left(1 - \\cos{\\left(2 \\theta \\right)}\\right)^{2}}{r^{2}{\\left(l \\right)} \\sin^{4}{\\left(\\theta \\right)}} + \\theta & p_{t} & \\frac{h^{2} \\left(\\frac{0.5 p_{l} p_{\\phi}^{2} r^{5}{\\left(l \\right)} \\frac{d^{2}}{d l^{2}} r{\\left(l \\right)}}{\\sin^{2}{\\left(\\theta \\right)}} - \\frac{1.5 p_{l} p_{\\phi}^{2} r^{4}{\\left(l \\right)} \\left(\\frac{d}{d l} r{\\left(l \\right)}\\right)^{2}}{\\sin^{2}{\\left(\\theta \\right)}} + 0.5 p_{l} p_{\\theta}^{2} r^{5}{\\left(l \\right)} \\frac{d^{2}}{d l^{2}} r{\\left(l \\right)} - 1.5 p_{l} p_{\\theta}^{2} r^{4}{\\left(l \\right)} \\left(\\frac{d}{d l} r{\\left(l \\right)}\\right)^{2}\\right)}{r^{8}{\\left(l \\right)}} + \\frac{h \\left(\\frac{1.0 p_{\\phi}^{2} r^{5}{\\left(l \\right)} \\frac{d}{d l} r{\\left(l \\right)}}{\\sin^{2}{\\left(\\theta \\right)}} + 1.0 p_{\\theta}^{2} r^{5}{\\left(l \\right)} \\frac{d}{d l} r{\\left(l \\right)}\\right)}{r^{8}{\\left(l \\right)}} + p_{l} & p_{\\phi} & \\frac{0.5 h^{2} p_{\\phi}^{2} \\left(- 1.0 p_{l} r^{2}{\\left(l \\right)} \\sin{\\left(2 \\theta \\right)} \\frac{d}{d l} r{\\left(l \\right)} - p_{\\theta} \\left(3.0 - 2.0 \\sin^{2}{\\left(\\theta \\right)}\\right) r{\\left(l \\right)}\\right)}{r^{5}{\\left(l \\right)} \\sin^{4}{\\left(\\theta \\right)}} + \\frac{0.5 h p_{\\phi}^{2} \\sin{\\left(2 \\theta \\right)}}{r^{2}{\\left(l \\right)} \\sin^{4}{\\left(\\theta \\right)}} + p_{\\theta}\\end{matrix}\\right]$"
      ],
      "text/plain": [
       "Matrix([[-1.0*h*p_t + t, h**2*(0.5*p_phi**2*r(l)**5*Derivative(r(l), l)/sin(theta)**2 + 0.5*p_theta**2*r(l)**5*Derivative(r(l), l))/r(l)**8 + 1.0*h*p_l + l, h**2*p_phi*(-1.0*p_l*r(l)**2*sin(theta)*Derivative(r(l), l) - 1.0*p_theta*r(l)*cos(theta))/(r(l)**5*sin(theta)**3) + 1.0*h*p_phi/(r(l)**2*sin(theta)**2) + phi, h**2*(-0.25*p_l*p_theta*(1 - cos(2*theta))**2*r(l)**4*Derivative(r(l), l) + 0.25*p_phi**2*r(l)**3*sin(2*theta))/(r(l)**7*sin(theta)**4) + 0.25*h*p_theta*(1 - cos(2*theta))**2/(r(l)**2*sin(theta)**4) + theta, p_t, h**2*(0.5*p_l*p_phi**2*r(l)**5*Derivative(r(l), (l, 2))/sin(theta)**2 - 1.5*p_l*p_phi**2*r(l)**4*Derivative(r(l), l)**2/sin(theta)**2 + 0.5*p_l*p_theta**2*r(l)**5*Derivative(r(l), (l, 2)) - 1.5*p_l*p_theta**2*r(l)**4*Derivative(r(l), l)**2)/r(l)**8 + h*(1.0*p_phi**2*r(l)**5*Derivative(r(l), l)/sin(theta)**2 + 1.0*p_theta**2*r(l)**5*Derivative(r(l), l))/r(l)**8 + p_l, p_phi, 0.5*h**2*p_phi**2*(-1.0*p_l*r(l)**2*sin(2*theta)*Derivative(r(l), l) - p_theta*(3.0 - 2.0*sin(theta)**2)*r(l))/(r(l)**5*sin(theta)**4) + 0.5*h*p_phi**2*sin(2*theta)/(r(l)**2*sin(theta)**4) + p_theta]])"
      ]
     },
     "execution_count": 12,
     "metadata": {},
     "output_type": "execute_result"
    }
   ],
   "source": [
    "Sympl_DNeg = z_h0 + h*z_h1 + h**2*z_h2\n",
    "Sympl_DNeg"
   ]
  },
  {
   "cell_type": "code",
   "execution_count": 13,
   "metadata": {},
   "outputs": [],
   "source": [
    "def Jac(f, var):\n",
    "    J = []\n",
    "    for i in range(len(f)):\n",
    "        Grad_fi = []\n",
    "        for j in range(len(var)):\n",
    "            Grad_fi.append(sp.simplify(sp.diff(f[i], var[j])))\n",
    "        J.append(Grad_fi)\n",
    "    return sp.simplify(sp.Matrix(J))"
   ]
  },
  {
   "cell_type": "code",
   "execution_count": 14,
   "metadata": {},
   "outputs": [
    {
     "data": {
      "text/latex": [
       "$\\displaystyle \\left[\\begin{matrix}1 & 0 & 0 & 0 & - 1.0 h & 0 & 0 & 0\\\\0 & \\frac{\\frac{0.5 h^{2} p_{\\phi}^{2} r{\\left(l \\right)} \\frac{d^{2}}{d l^{2}} r{\\left(l \\right)}}{\\sin^{2}{\\left(\\theta \\right)}} - \\frac{1.5 h^{2} p_{\\phi}^{2} \\left(\\frac{d}{d l} r{\\left(l \\right)}\\right)^{2}}{\\sin^{2}{\\left(\\theta \\right)}} + 0.5 h^{2} p_{\\theta}^{2} r{\\left(l \\right)} \\frac{d^{2}}{d l^{2}} r{\\left(l \\right)} - 1.5 h^{2} p_{\\theta}^{2} \\left(\\frac{d}{d l} r{\\left(l \\right)}\\right)^{2} + 1.0 r^{4}{\\left(l \\right)}}{r^{4}{\\left(l \\right)}} & 0 & - \\frac{1.0 h^{2} p_{\\phi}^{2} \\cos{\\left(\\theta \\right)} \\frac{d}{d l} r{\\left(l \\right)}}{r^{3}{\\left(l \\right)} \\sin^{3}{\\left(\\theta \\right)}} & 0 & 1.0 h & \\frac{1.0 h^{2} p_{\\phi} \\frac{d}{d l} r{\\left(l \\right)}}{r^{3}{\\left(l \\right)} \\sin^{2}{\\left(\\theta \\right)}} & \\frac{1.0 h^{2} p_{\\theta} \\frac{d}{d l} r{\\left(l \\right)}}{r^{3}{\\left(l \\right)}}\\\\0 & \\frac{1.0 h p_{\\phi} \\left(4.0 h p_{\\theta} \\frac{d}{d l} r{\\left(l \\right)} - \\left(1.0 h p_{l} r{\\left(l \\right)} \\frac{d^{2}}{d l^{2}} r{\\left(l \\right)} - 3.0 h p_{l} \\left(\\frac{d}{d l} r{\\left(l \\right)}\\right)^{2} + 2.0 r{\\left(l \\right)} \\frac{d}{d l} r{\\left(l \\right)}\\right) r{\\left(l \\right)} \\tan{\\left(\\theta \\right)}\\right)}{r^{5}{\\left(l \\right)} \\sin^{2}{\\left(\\theta \\right)} \\tan{\\left(\\theta \\right)}} & 1 & \\frac{1.0 h p_{\\phi} \\left(1.0 h p_{l} r{\\left(l \\right)} \\sin{\\left(2 \\theta \\right)} \\frac{d}{d l} r{\\left(l \\right)} + 1.0 h p_{\\theta} \\cos{\\left(2 \\theta \\right)} + 2.0 h p_{\\theta} - 1.0 r^{2}{\\left(l \\right)} \\sin{\\left(2 \\theta \\right)}\\right)}{r^{4}{\\left(l \\right)} \\sin^{4}{\\left(\\theta \\right)}} & 0 & - \\frac{1.0 h^{2} p_{\\phi} \\frac{d}{d l} r{\\left(l \\right)}}{r^{3}{\\left(l \\right)} \\sin^{2}{\\left(\\theta \\right)}} & - \\frac{1.0 h \\left(h p_{\\theta} + \\left(h p_{l} \\frac{d}{d l} r{\\left(l \\right)} - r{\\left(l \\right)}\\right) r{\\left(l \\right)} \\tan{\\left(\\theta \\right)}\\right)}{r^{4}{\\left(l \\right)} \\sin^{2}{\\left(\\theta \\right)} \\tan{\\left(\\theta \\right)}} & - \\frac{1.0 h^{2} p_{\\phi} \\cos{\\left(\\theta \\right)}}{r^{4}{\\left(l \\right)} \\sin^{3}{\\left(\\theta \\right)}}\\\\0 & - \\frac{h \\left(1.0 h p_{l} p_{\\theta} r^{2}{\\left(l \\right)} \\frac{d^{2}}{d l^{2}} r{\\left(l \\right)} - 3.0 h p_{l} p_{\\theta} r{\\left(l \\right)} \\left(\\frac{d}{d l} r{\\left(l \\right)}\\right)^{2} + \\frac{2.0 h p_{\\phi}^{2} \\cos{\\left(\\theta \\right)} \\frac{d}{d l} r{\\left(l \\right)}}{\\sin^{3}{\\left(\\theta \\right)}} + 2.0 p_{\\theta} r^{2}{\\left(l \\right)} \\frac{d}{d l} r{\\left(l \\right)}\\right)}{r^{5}{\\left(l \\right)}} & 0 & \\frac{\\frac{1.0 h^{2} p_{\\phi}^{2}}{\\sin^{2}{\\left(\\theta \\right)}} - \\frac{1.5 h^{2} p_{\\phi}^{2}}{\\sin^{4}{\\left(\\theta \\right)}} + 1.0 r^{4}{\\left(l \\right)}}{r^{4}{\\left(l \\right)}} & 0 & - \\frac{1.0 h^{2} p_{\\theta} \\frac{d}{d l} r{\\left(l \\right)}}{r^{3}{\\left(l \\right)}} & \\frac{1.0 h^{2} p_{\\phi} \\cos{\\left(\\theta \\right)}}{r^{4}{\\left(l \\right)} \\sin^{3}{\\left(\\theta \\right)}} & - \\frac{1.0 h \\left(h p_{l} \\frac{d}{d l} r{\\left(l \\right)} - r{\\left(l \\right)}\\right)}{r^{3}{\\left(l \\right)}}\\\\0 & 0 & 0 & 0 & 1 & 0 & 0 & 0\\\\0 & \\frac{1.0 h \\left(0.5 h p_{l} p_{\\phi}^{2} r^{2}{\\left(l \\right)} \\frac{d^{3}}{d l^{3}} r{\\left(l \\right)} - 4.5 h p_{l} p_{\\phi}^{2} r{\\left(l \\right)} \\frac{d}{d l} r{\\left(l \\right)} \\frac{d^{2}}{d l^{2}} r{\\left(l \\right)} + 6.0 h p_{l} p_{\\phi}^{2} \\left(\\frac{d}{d l} r{\\left(l \\right)}\\right)^{3} + 1.0 p_{\\phi}^{2} r^{2}{\\left(l \\right)} \\frac{d^{2}}{d l^{2}} r{\\left(l \\right)} - 3.0 p_{\\phi}^{2} r{\\left(l \\right)} \\left(\\frac{d}{d l} r{\\left(l \\right)}\\right)^{2} + p_{\\theta}^{2} \\left(0.5 h p_{l} r^{2}{\\left(l \\right)} \\frac{d^{3}}{d l^{3}} r{\\left(l \\right)} - 4.5 h p_{l} r{\\left(l \\right)} \\frac{d}{d l} r{\\left(l \\right)} \\frac{d^{2}}{d l^{2}} r{\\left(l \\right)} + 6.0 h p_{l} \\left(\\frac{d}{d l} r{\\left(l \\right)}\\right)^{3} + 1.0 r^{2}{\\left(l \\right)} \\frac{d^{2}}{d l^{2}} r{\\left(l \\right)} - 3.0 r{\\left(l \\right)} \\left(\\frac{d}{d l} r{\\left(l \\right)}\\right)^{2}\\right) \\sin^{2}{\\left(\\theta \\right)}\\right)}{r^{5}{\\left(l \\right)} \\sin^{2}{\\left(\\theta \\right)}} & 0 & - \\frac{h p_{\\phi}^{2} \\left(h p_{l} \\left(1.0 r{\\left(l \\right)} \\frac{d^{2}}{d l^{2}} r{\\left(l \\right)} - 3.0 \\left(\\frac{d}{d l} r{\\left(l \\right)}\\right)^{2}\\right) + 2.0 r{\\left(l \\right)} \\frac{d}{d l} r{\\left(l \\right)}\\right) \\cos{\\left(\\theta \\right)}}{r^{4}{\\left(l \\right)} \\sin^{3}{\\left(\\theta \\right)}} & 0 & \\frac{\\frac{0.5 h^{2} p_{\\phi}^{2} r{\\left(l \\right)} \\frac{d^{2}}{d l^{2}} r{\\left(l \\right)}}{\\sin^{2}{\\left(\\theta \\right)}} - \\frac{1.5 h^{2} p_{\\phi}^{2} \\left(\\frac{d}{d l} r{\\left(l \\right)}\\right)^{2}}{\\sin^{2}{\\left(\\theta \\right)}} + 0.5 h^{2} p_{\\theta}^{2} r{\\left(l \\right)} \\frac{d^{2}}{d l^{2}} r{\\left(l \\right)} - 1.5 h^{2} p_{\\theta}^{2} \\left(\\frac{d}{d l} r{\\left(l \\right)}\\right)^{2} + 1.0 r^{4}{\\left(l \\right)}}{r^{4}{\\left(l \\right)}} & \\frac{h p_{\\phi} \\left(h p_{l} \\left(1.0 r{\\left(l \\right)} \\frac{d^{2}}{d l^{2}} r{\\left(l \\right)} - 3.0 \\left(\\frac{d}{d l} r{\\left(l \\right)}\\right)^{2}\\right) + 2.0 r{\\left(l \\right)} \\frac{d}{d l} r{\\left(l \\right)}\\right)}{r^{4}{\\left(l \\right)} \\sin^{2}{\\left(\\theta \\right)}} & \\frac{h p_{\\theta} \\left(h p_{l} \\left(1.0 r{\\left(l \\right)} \\frac{d^{2}}{d l^{2}} r{\\left(l \\right)} - 3.0 \\left(\\frac{d}{d l} r{\\left(l \\right)}\\right)^{2}\\right) + 2.0 r{\\left(l \\right)} \\frac{d}{d l} r{\\left(l \\right)}\\right)}{r^{4}{\\left(l \\right)}}\\\\0 & 0 & 0 & 0 & 0 & 0 & 1 & 0\\\\0 & - \\frac{1.0 h p_{\\phi}^{2} \\left(0.5 h p_{l} r^{2}{\\left(l \\right)} \\sin{\\left(2 \\theta \\right)} \\frac{d^{2}}{d l^{2}} r{\\left(l \\right)} - 1.5 h p_{l} r{\\left(l \\right)} \\sin{\\left(2 \\theta \\right)} \\left(\\frac{d}{d l} r{\\left(l \\right)}\\right)^{2} + 4.0 h p_{\\theta} \\sin^{2}{\\left(\\theta \\right)} \\frac{d}{d l} r{\\left(l \\right)} - 6.0 h p_{\\theta} \\frac{d}{d l} r{\\left(l \\right)} + 1.0 r^{2}{\\left(l \\right)} \\sin{\\left(2 \\theta \\right)} \\frac{d}{d l} r{\\left(l \\right)}\\right)}{r^{5}{\\left(l \\right)} \\sin^{4}{\\left(\\theta \\right)}} & 0 & \\frac{h p_{\\phi}^{2} \\left(- 2.0 h p_{l} r{\\left(l \\right)} \\sin^{3}{\\left(\\theta \\right)} \\frac{d}{d l} r{\\left(l \\right)} + 3.0 h p_{l} r{\\left(l \\right)} \\sin{\\left(\\theta \\right)} \\frac{d}{d l} r{\\left(l \\right)} + 2.0 h p_{\\theta} \\cos^{3}{\\left(\\theta \\right)} + 4.0 h p_{\\theta} \\cos{\\left(\\theta \\right)} + 2.0 r^{2}{\\left(l \\right)} \\sin^{3}{\\left(\\theta \\right)} - 3.0 r^{2}{\\left(l \\right)} \\sin{\\left(\\theta \\right)}\\right)}{r^{4}{\\left(l \\right)} \\sin^{5}{\\left(\\theta \\right)}} & 0 & - \\frac{1.0 h^{2} p_{\\phi}^{2} \\cos{\\left(\\theta \\right)} \\frac{d}{d l} r{\\left(l \\right)}}{r^{3}{\\left(l \\right)} \\sin^{3}{\\left(\\theta \\right)}} & - \\frac{1.0 h p_{\\phi} \\left(h \\left(1.0 p_{l} r{\\left(l \\right)} \\sin{\\left(2 \\theta \\right)} \\frac{d}{d l} r{\\left(l \\right)} - p_{\\theta} \\left(2.0 \\sin^{2}{\\left(\\theta \\right)} - 3.0\\right)\\right) - r^{2}{\\left(l \\right)} \\sin{\\left(2 \\theta \\right)}\\right)}{r^{4}{\\left(l \\right)} \\sin^{4}{\\left(\\theta \\right)}} & \\frac{\\frac{1.0 h^{2} p_{\\phi}^{2}}{\\sin^{2}{\\left(\\theta \\right)}} - \\frac{1.5 h^{2} p_{\\phi}^{2}}{\\sin^{4}{\\left(\\theta \\right)}} + 1.0 r^{4}{\\left(l \\right)}}{r^{4}{\\left(l \\right)}}\\end{matrix}\\right]$"
      ],
      "text/plain": [
       "Matrix([\n",
       "[1,                                                                                                                                                                                                                                                                                                                                                                                                                                                                                                                                                   0, 0,                                                                                                                                                                                                                                                    0, -1.0*h,                                                                                                                                                                                                                                               0,                                                                                                                                                   0,                                                                                                                         0],\n",
       "[0,                                                                                                                                                                                                                                                                                                     (0.5*h**2*p_phi**2*r(l)*Derivative(r(l), (l, 2))/sin(theta)**2 - 1.5*h**2*p_phi**2*Derivative(r(l), l)**2/sin(theta)**2 + 0.5*h**2*p_theta**2*r(l)*Derivative(r(l), (l, 2)) - 1.5*h**2*p_theta**2*Derivative(r(l), l)**2 + 1.0*r(l)**4)/r(l)**4, 0,                                                                                                                                                                            -1.0*h**2*p_phi**2*cos(theta)*Derivative(r(l), l)/(r(l)**3*sin(theta)**3),      0,                                                                                                                                                                                                                                           1.0*h,                                                                                          1.0*h**2*p_phi*Derivative(r(l), l)/(r(l)**3*sin(theta)**2),                                                                              1.0*h**2*p_theta*Derivative(r(l), l)/r(l)**3],\n",
       "[0,                                                                                                                                                                                                                                                                                                                                    1.0*h*p_phi*(4.0*h*p_theta*Derivative(r(l), l) - (1.0*h*p_l*r(l)*Derivative(r(l), (l, 2)) - 3.0*h*p_l*Derivative(r(l), l)**2 + 2.0*r(l)*Derivative(r(l), l))*r(l)*tan(theta))/(r(l)**5*sin(theta)**2*tan(theta)), 1,                                                                                        1.0*h*p_phi*(1.0*h*p_l*r(l)*sin(2*theta)*Derivative(r(l), l) + 1.0*h*p_theta*cos(2*theta) + 2.0*h*p_theta - 1.0*r(l)**2*sin(2*theta))/(r(l)**4*sin(theta)**4),      0,                                                                                                                                                                                     -1.0*h**2*p_phi*Derivative(r(l), l)/(r(l)**3*sin(theta)**2),                                          -1.0*h*(h*p_theta + (h*p_l*Derivative(r(l), l) - r(l))*r(l)*tan(theta))/(r(l)**4*sin(theta)**2*tan(theta)),                                                                        -1.0*h**2*p_phi*cos(theta)/(r(l)**4*sin(theta)**3)],\n",
       "[0,                                                                                                                                                                                                                                                                                                                             -h*(1.0*h*p_l*p_theta*r(l)**2*Derivative(r(l), (l, 2)) - 3.0*h*p_l*p_theta*r(l)*Derivative(r(l), l)**2 + 2.0*h*p_phi**2*cos(theta)*Derivative(r(l), l)/sin(theta)**3 + 2.0*p_theta*r(l)**2*Derivative(r(l), l))/r(l)**5, 0,                                                                                                                                                            (1.0*h**2*p_phi**2/sin(theta)**2 - 1.5*h**2*p_phi**2/sin(theta)**4 + 1.0*r(l)**4)/r(l)**4,      0,                                                                                                                                                                                                   -1.0*h**2*p_theta*Derivative(r(l), l)/r(l)**3,                                                                                                   1.0*h**2*p_phi*cos(theta)/(r(l)**4*sin(theta)**3),                                                                         -1.0*h*(h*p_l*Derivative(r(l), l) - r(l))/r(l)**3],\n",
       "[0,                                                                                                                                                                                                                                                                                                                                                                                                                                                                                                                                                   0, 0,                                                                                                                                                                                                                                                    0,      1,                                                                                                                                                                                                                                               0,                                                                                                                                                   0,                                                                                                                         0],\n",
       "[0, 1.0*h*(0.5*h*p_l*p_phi**2*r(l)**2*Derivative(r(l), (l, 3)) - 4.5*h*p_l*p_phi**2*r(l)*Derivative(r(l), l)*Derivative(r(l), (l, 2)) + 6.0*h*p_l*p_phi**2*Derivative(r(l), l)**3 + 1.0*p_phi**2*r(l)**2*Derivative(r(l), (l, 2)) - 3.0*p_phi**2*r(l)*Derivative(r(l), l)**2 + p_theta**2*(0.5*h*p_l*r(l)**2*Derivative(r(l), (l, 3)) - 4.5*h*p_l*r(l)*Derivative(r(l), l)*Derivative(r(l), (l, 2)) + 6.0*h*p_l*Derivative(r(l), l)**3 + 1.0*r(l)**2*Derivative(r(l), (l, 2)) - 3.0*r(l)*Derivative(r(l), l)**2)*sin(theta)**2)/(r(l)**5*sin(theta)**2), 0,                                                                                               -h*p_phi**2*(h*p_l*(1.0*r(l)*Derivative(r(l), (l, 2)) - 3.0*Derivative(r(l), l)**2) + 2.0*r(l)*Derivative(r(l), l))*cos(theta)/(r(l)**4*sin(theta)**3),      0, (0.5*h**2*p_phi**2*r(l)*Derivative(r(l), (l, 2))/sin(theta)**2 - 1.5*h**2*p_phi**2*Derivative(r(l), l)**2/sin(theta)**2 + 0.5*h**2*p_theta**2*r(l)*Derivative(r(l), (l, 2)) - 1.5*h**2*p_theta**2*Derivative(r(l), l)**2 + 1.0*r(l)**4)/r(l)**4,             h*p_phi*(h*p_l*(1.0*r(l)*Derivative(r(l), (l, 2)) - 3.0*Derivative(r(l), l)**2) + 2.0*r(l)*Derivative(r(l), l))/(r(l)**4*sin(theta)**2), h*p_theta*(h*p_l*(1.0*r(l)*Derivative(r(l), (l, 2)) - 3.0*Derivative(r(l), l)**2) + 2.0*r(l)*Derivative(r(l), l))/r(l)**4],\n",
       "[0,                                                                                                                                                                                                                                                                                                                                                                                                                                                                                                                                                   0, 0,                                                                                                                                                                                                                                                    0,      0,                                                                                                                                                                                                                                               0,                                                                                                                                                   1,                                                                                                                         0],\n",
       "[0,                                                                                                                                                                                                                                                         -1.0*h*p_phi**2*(0.5*h*p_l*r(l)**2*sin(2*theta)*Derivative(r(l), (l, 2)) - 1.5*h*p_l*r(l)*sin(2*theta)*Derivative(r(l), l)**2 + 4.0*h*p_theta*sin(theta)**2*Derivative(r(l), l) - 6.0*h*p_theta*Derivative(r(l), l) + 1.0*r(l)**2*sin(2*theta)*Derivative(r(l), l))/(r(l)**5*sin(theta)**4), 0, h*p_phi**2*(-2.0*h*p_l*r(l)*sin(theta)**3*Derivative(r(l), l) + 3.0*h*p_l*r(l)*sin(theta)*Derivative(r(l), l) + 2.0*h*p_theta*cos(theta)**3 + 4.0*h*p_theta*cos(theta) + 2.0*r(l)**2*sin(theta)**3 - 3.0*r(l)**2*sin(theta))/(r(l)**4*sin(theta)**5),      0,                                                                                                                                                                       -1.0*h**2*p_phi**2*cos(theta)*Derivative(r(l), l)/(r(l)**3*sin(theta)**3), -1.0*h*p_phi*(h*(1.0*p_l*r(l)*sin(2*theta)*Derivative(r(l), l) - p_theta*(2.0*sin(theta)**2 - 3.0)) - r(l)**2*sin(2*theta))/(r(l)**4*sin(theta)**4),                                 (1.0*h**2*p_phi**2/sin(theta)**2 - 1.5*h**2*p_phi**2/sin(theta)**4 + 1.0*r(l)**4)/r(l)**4]])"
      ]
     },
     "execution_count": 14,
     "metadata": {},
     "output_type": "execute_result"
    }
   ],
   "source": [
    "Sympl_DNeg_J = Jac(Sympl_DNeg, z0)\n",
    "Sympl_DNeg_J"
   ]
  },
  {
   "cell_type": "code",
   "execution_count": 15,
   "metadata": {},
   "outputs": [
    {
     "data": {
      "text/latex": [
       "$\\displaystyle \\left[\\begin{matrix}0 & 0 & 0 & 0 & -1 & 0 & 0 & 0\\\\0 & 0 & 0 & 0 & 0 & -1 & 0 & 0\\\\0 & 0 & 0 & 0 & 0 & 0 & -1 & 0\\\\0 & 0 & 0 & 0 & 0 & 0 & 0 & -1\\\\1 & 0 & 0 & 0 & 0 & 0 & 0 & 0\\\\0 & 1 & 0 & 0 & 0 & 0 & 0 & 0\\\\0 & 0 & 1 & 0 & 0 & 0 & 0 & 0\\\\0 & 0 & 0 & 1 & 0 & 0 & 0 & 0\\end{matrix}\\right]$"
      ],
      "text/plain": [
       "Matrix([\n",
       "[0, 0, 0, 0, -1,  0,  0,  0],\n",
       "[0, 0, 0, 0,  0, -1,  0,  0],\n",
       "[0, 0, 0, 0,  0,  0, -1,  0],\n",
       "[0, 0, 0, 0,  0,  0,  0, -1],\n",
       "[1, 0, 0, 0,  0,  0,  0,  0],\n",
       "[0, 1, 0, 0,  0,  0,  0,  0],\n",
       "[0, 0, 1, 0,  0,  0,  0,  0],\n",
       "[0, 0, 0, 1,  0,  0,  0,  0]])"
      ]
     },
     "execution_count": 15,
     "metadata": {},
     "output_type": "execute_result"
    }
   ],
   "source": [
    "I = sp.zeros(8)\n",
    "I[4:,:4] = sp.eye(4)\n",
    "I[:4,4:] = -sp.eye(4)\n",
    "I"
   ]
  },
  {
   "cell_type": "code",
   "execution_count": 16,
   "metadata": {},
   "outputs": [],
   "source": [
    "A = sp.simplify(Sympl_DNeg_J.T*I*Sympl_DNeg_J)"
   ]
  },
  {
   "cell_type": "code",
   "execution_count": 17,
   "metadata": {},
   "outputs": [],
   "source": [
    "A_h0 = A.subs(h,0)\n",
    "A_h1 = sp.simplify((A - A.subs(h,0))/h)\n",
    "A_h2 = sp.simplify((A_h1 - A_h1.subs(h,0))/h)\n",
    "#sp.simplify(A_h0 + h*A_h1 + h**2*A_h2)"
   ]
  },
  {
   "cell_type": "code",
   "execution_count": 18,
   "metadata": {},
   "outputs": [
    {
     "data": {
      "text/latex": [
       "$\\displaystyle \\left[\\begin{matrix}0 & 0 & 0 & 0 & -1 & 0 & 0 & 0\\\\0 & 0 & 0 & 0 & 0 & -1.0 & 0 & 0\\\\0 & 0 & 0 & 0 & 0 & 0 & -1 & 0\\\\0 & 0 & 0 & 0 & 0 & 0 & 0 & -1.0\\\\1 & 0 & 0 & 0 & 0 & 0 & 0 & 0\\\\0 & 1.0 & 0 & 0 & 0 & 0 & 0 & 0\\\\0 & 0 & 1 & 0 & 0 & 0 & 0 & 0\\\\0 & 0 & 0 & 1.0 & 0 & 0 & 0 & 0\\end{matrix}\\right]$"
      ],
      "text/plain": [
       "Matrix([\n",
       "[0,   0, 0,   0, -1,    0,  0,    0],\n",
       "[0,   0, 0,   0,  0, -1.0,  0,    0],\n",
       "[0,   0, 0,   0,  0,    0, -1,    0],\n",
       "[0,   0, 0,   0,  0,    0,  0, -1.0],\n",
       "[1,   0, 0,   0,  0,    0,  0,    0],\n",
       "[0, 1.0, 0,   0,  0,    0,  0,    0],\n",
       "[0,   0, 1,   0,  0,    0,  0,    0],\n",
       "[0,   0, 0, 1.0,  0,    0,  0,    0]])"
      ]
     },
     "execution_count": 18,
     "metadata": {},
     "output_type": "execute_result"
    }
   ],
   "source": [
    "A.subs(h,0)"
   ]
  },
  {
   "cell_type": "code",
   "execution_count": 19,
   "metadata": {},
   "outputs": [
    {
     "data": {
      "text/latex": [
       "$\\displaystyle \\left[\\begin{matrix}0 & 0 & 0 & 0 & 0 & 0 & 0 & 0\\\\0 & 0 & 0 & \\frac{p_{\\phi}^{2} \\left(2.0 r^{6}{\\left(l \\right)} \\sin^{5}{\\left(\\theta \\right)} \\cos{\\left(\\theta \\right)} \\frac{d}{d l} r{\\left(l \\right)} - 1.0 r^{6}{\\left(l \\right)} \\sin^{4}{\\left(\\theta \\right)} \\sin{\\left(2 \\theta \\right)} \\frac{d}{d l} r{\\left(l \\right)}\\right)}{r^{9}{\\left(l \\right)} \\sin^{8}{\\left(\\theta \\right)}} & 0 & 0 & 0 & 0\\\\0 & 0 & 0 & 0 & 0 & 0 & 0 & 0\\\\0 & \\frac{p_{\\phi}^{2} \\left(- 2.0 r^{6}{\\left(l \\right)} \\sin^{5}{\\left(\\theta \\right)} \\cos{\\left(\\theta \\right)} \\frac{d}{d l} r{\\left(l \\right)} + 1.0 r^{6}{\\left(l \\right)} \\sin^{4}{\\left(\\theta \\right)} \\sin{\\left(2 \\theta \\right)} \\frac{d}{d l} r{\\left(l \\right)}\\right)}{r^{9}{\\left(l \\right)} \\sin^{8}{\\left(\\theta \\right)}} & 0 & 0 & 0 & 0 & 0 & \\text{NaN}\\\\0 & 0 & 0 & 0 & 0 & 0 & 0 & 0\\\\0 & 0 & 0 & 0 & 0 & 0 & 0 & 0\\\\0 & 0 & 0 & 0 & 0 & 0 & 0 & 0\\\\0 & 0 & 0 & \\text{NaN} & 0 & 0 & 0 & 0\\end{matrix}\\right]$"
      ],
      "text/plain": [
       "Matrix([\n",
       "[0,                                                                                                                                                         0, 0,                                                                                                                                                        0, 0, 0, 0,   0],\n",
       "[0,                                                                                                                                                         0, 0, p_phi**2*(2.0*r(l)**6*sin(theta)**5*cos(theta)*Derivative(r(l), l) - 1.0*r(l)**6*sin(theta)**4*sin(2*theta)*Derivative(r(l), l))/(r(l)**9*sin(theta)**8), 0, 0, 0,   0],\n",
       "[0,                                                                                                                                                         0, 0,                                                                                                                                                        0, 0, 0, 0,   0],\n",
       "[0, p_phi**2*(-2.0*r(l)**6*sin(theta)**5*cos(theta)*Derivative(r(l), l) + 1.0*r(l)**6*sin(theta)**4*sin(2*theta)*Derivative(r(l), l))/(r(l)**9*sin(theta)**8), 0,                                                                                                                                                        0, 0, 0, 0, nan],\n",
       "[0,                                                                                                                                                         0, 0,                                                                                                                                                        0, 0, 0, 0,   0],\n",
       "[0,                                                                                                                                                         0, 0,                                                                                                                                                        0, 0, 0, 0,   0],\n",
       "[0,                                                                                                                                                         0, 0,                                                                                                                                                        0, 0, 0, 0,   0],\n",
       "[0,                                                                                                                                                         0, 0,                                                                                                                                                      nan, 0, 0, 0,   0]])"
      ]
     },
     "execution_count": 19,
     "metadata": {},
     "output_type": "execute_result"
    }
   ],
   "source": [
    "A_h1.subs(h,0)"
   ]
  },
  {
   "cell_type": "code",
   "execution_count": 20,
   "metadata": {},
   "outputs": [
    {
     "data": {
      "text/latex": [
       "$\\displaystyle \\left[\\begin{matrix}0 & 0 & 0 & 0 & 0 & 0 & 0 & 0\\\\0 & 0 & 0 & \\frac{\\tilde{\\infty} p_{\\phi}^{2} \\left(2.0 r^{6}{\\left(l \\right)} \\sin^{5}{\\left(\\theta \\right)} \\cos{\\left(\\theta \\right)} \\frac{d}{d l} r{\\left(l \\right)} - 1.0 r^{6}{\\left(l \\right)} \\sin^{4}{\\left(\\theta \\right)} \\sin{\\left(2 \\theta \\right)} \\frac{d}{d l} r{\\left(l \\right)}\\right)}{r^{9}{\\left(l \\right)} \\sin^{8}{\\left(\\theta \\right)}} & 0 & 0 & \\text{NaN} & \\text{NaN}\\\\0 & 0 & 0 & 0 & 0 & 0 & 0 & 0\\\\0 & \\frac{\\tilde{\\infty} p_{\\phi}^{2} \\left(- 2.0 r^{6}{\\left(l \\right)} \\sin^{5}{\\left(\\theta \\right)} \\cos{\\left(\\theta \\right)} \\frac{d}{d l} r{\\left(l \\right)} + 1.0 r^{6}{\\left(l \\right)} \\sin^{4}{\\left(\\theta \\right)} \\sin{\\left(2 \\theta \\right)} \\frac{d}{d l} r{\\left(l \\right)}\\right)}{r^{9}{\\left(l \\right)} \\sin^{8}{\\left(\\theta \\right)}} & 0 & 0 & 0 & 0 & 0 & \\text{NaN}\\\\0 & 0 & 0 & 0 & 0 & 0 & 0 & 0\\\\0 & 0 & 0 & 0 & 0 & 0 & 0 & 0\\\\0 & \\text{NaN} & 0 & 0 & 0 & 0 & 0 & - \\frac{1.0 p_{\\phi} \\left(2.0 r^{4}{\\left(l \\right)} \\sin^{4}{\\left(\\theta \\right)} \\cos{\\left(\\theta \\right)} - r^{4}{\\left(l \\right)} \\sin^{3}{\\left(\\theta \\right)} \\sin{\\left(2 \\theta \\right)}\\right)}{r^{8}{\\left(l \\right)} \\sin^{7}{\\left(\\theta \\right)}}\\\\0 & \\text{NaN} & 0 & \\text{NaN} & 0 & 0 & \\frac{1.0 p_{\\phi} \\left(2.0 r^{4}{\\left(l \\right)} \\sin^{4}{\\left(\\theta \\right)} \\cos{\\left(\\theta \\right)} - r^{4}{\\left(l \\right)} \\sin^{3}{\\left(\\theta \\right)} \\sin{\\left(2 \\theta \\right)}\\right)}{r^{8}{\\left(l \\right)} \\sin^{7}{\\left(\\theta \\right)}} & 0\\end{matrix}\\right]$"
      ],
      "text/plain": [
       "Matrix([\n",
       "[0,                                                                                                                                                             0, 0,                                                                                                                                                            0, 0, 0,                                                                                                             0,                                                                                                              0],\n",
       "[0,                                                                                                                                                             0, 0, zoo*p_phi**2*(2.0*r(l)**6*sin(theta)**5*cos(theta)*Derivative(r(l), l) - 1.0*r(l)**6*sin(theta)**4*sin(2*theta)*Derivative(r(l), l))/(r(l)**9*sin(theta)**8), 0, 0,                                                                                                           nan,                                                                                                            nan],\n",
       "[0,                                                                                                                                                             0, 0,                                                                                                                                                            0, 0, 0,                                                                                                             0,                                                                                                              0],\n",
       "[0, zoo*p_phi**2*(-2.0*r(l)**6*sin(theta)**5*cos(theta)*Derivative(r(l), l) + 1.0*r(l)**6*sin(theta)**4*sin(2*theta)*Derivative(r(l), l))/(r(l)**9*sin(theta)**8), 0,                                                                                                                                                            0, 0, 0,                                                                                                             0,                                                                                                            nan],\n",
       "[0,                                                                                                                                                             0, 0,                                                                                                                                                            0, 0, 0,                                                                                                             0,                                                                                                              0],\n",
       "[0,                                                                                                                                                             0, 0,                                                                                                                                                            0, 0, 0,                                                                                                             0,                                                                                                              0],\n",
       "[0,                                                                                                                                                           nan, 0,                                                                                                                                                            0, 0, 0,                                                                                                             0, -1.0*p_phi*(2.0*r(l)**4*sin(theta)**4*cos(theta) - r(l)**4*sin(theta)**3*sin(2*theta))/(r(l)**8*sin(theta)**7)],\n",
       "[0,                                                                                                                                                           nan, 0,                                                                                                                                                          nan, 0, 0, 1.0*p_phi*(2.0*r(l)**4*sin(theta)**4*cos(theta) - r(l)**4*sin(theta)**3*sin(2*theta))/(r(l)**8*sin(theta)**7),                                                                                                              0]])"
      ]
     },
     "execution_count": 20,
     "metadata": {},
     "output_type": "execute_result"
    }
   ],
   "source": [
    "A_h2.subs(h,0)"
   ]
  },
  {
   "cell_type": "code",
   "execution_count": 29,
   "metadata": {},
   "outputs": [
    {
     "ename": "KeyboardInterrupt",
     "evalue": "",
     "output_type": "error",
     "traceback": [
      "\u001b[0;31m---------------------------------------------------------------------------\u001b[0m",
      "\u001b[0;31mKeyboardInterrupt\u001b[0m                         Traceback (most recent call last)",
      "\u001b[0;32m<ipython-input-29-e70679cc1b30>\u001b[0m in \u001b[0;36m<module>\u001b[0;34m\u001b[0m\n\u001b[1;32m      2\u001b[0m     \u001b[0mA\u001b[0m\u001b[0;34m.\u001b[0m\u001b[0msubs\u001b[0m\u001b[0;34m(\u001b[0m\u001b[0mh\u001b[0m\u001b[0;34m,\u001b[0m\u001b[0;36m0\u001b[0m\u001b[0;34m)\u001b[0m \u001b[0;34m+\u001b[0m\u001b[0;34m\u001b[0m\u001b[0;34m\u001b[0m\u001b[0m\n\u001b[1;32m      3\u001b[0m     \u001b[0mh\u001b[0m\u001b[0;34m*\u001b[0m\u001b[0;34m(\u001b[0m\u001b[0msp\u001b[0m\u001b[0;34m.\u001b[0m\u001b[0msimplify\u001b[0m\u001b[0;34m(\u001b[0m\u001b[0;34m(\u001b[0m\u001b[0mA\u001b[0m \u001b[0;34m-\u001b[0m \u001b[0mA\u001b[0m\u001b[0;34m.\u001b[0m\u001b[0msubs\u001b[0m\u001b[0;34m(\u001b[0m\u001b[0mh\u001b[0m\u001b[0;34m,\u001b[0m\u001b[0;36m0\u001b[0m\u001b[0;34m)\u001b[0m\u001b[0;34m)\u001b[0m\u001b[0;34m/\u001b[0m\u001b[0mh\u001b[0m\u001b[0;34m)\u001b[0m\u001b[0;34m.\u001b[0m\u001b[0msubs\u001b[0m\u001b[0;34m(\u001b[0m\u001b[0mh\u001b[0m\u001b[0;34m,\u001b[0m\u001b[0;36m0\u001b[0m\u001b[0;34m)\u001b[0m\u001b[0;34m)\u001b[0m \u001b[0;34m+\u001b[0m\u001b[0;34m\u001b[0m\u001b[0;34m\u001b[0m\u001b[0m\n\u001b[0;32m----> 4\u001b[0;31m     \u001b[0mh\u001b[0m\u001b[0;34m**\u001b[0m\u001b[0;36m2\u001b[0m\u001b[0;34m*\u001b[0m\u001b[0;34m(\u001b[0m\u001b[0msp\u001b[0m\u001b[0;34m.\u001b[0m\u001b[0msimplify\u001b[0m\u001b[0;34m(\u001b[0m\u001b[0;34m(\u001b[0m\u001b[0;34m(\u001b[0m\u001b[0mA\u001b[0m \u001b[0;34m-\u001b[0m \u001b[0mA\u001b[0m\u001b[0;34m.\u001b[0m\u001b[0msubs\u001b[0m\u001b[0;34m(\u001b[0m\u001b[0mh\u001b[0m\u001b[0;34m,\u001b[0m\u001b[0;36m0\u001b[0m\u001b[0;34m)\u001b[0m\u001b[0;34m)\u001b[0m\u001b[0;34m/\u001b[0m\u001b[0mh\u001b[0m \u001b[0;34m-\u001b[0m \u001b[0msp\u001b[0m\u001b[0;34m.\u001b[0m\u001b[0msimplify\u001b[0m\u001b[0;34m(\u001b[0m\u001b[0;34m(\u001b[0m\u001b[0mA\u001b[0m \u001b[0;34m-\u001b[0m \u001b[0mA\u001b[0m\u001b[0;34m.\u001b[0m\u001b[0msubs\u001b[0m\u001b[0;34m(\u001b[0m\u001b[0mh\u001b[0m\u001b[0;34m,\u001b[0m\u001b[0;36m0\u001b[0m\u001b[0;34m)\u001b[0m\u001b[0;34m)\u001b[0m\u001b[0;34m/\u001b[0m\u001b[0mh\u001b[0m\u001b[0;34m)\u001b[0m\u001b[0;34m.\u001b[0m\u001b[0msubs\u001b[0m\u001b[0;34m(\u001b[0m\u001b[0mh\u001b[0m\u001b[0;34m,\u001b[0m\u001b[0;36m0\u001b[0m\u001b[0;34m)\u001b[0m\u001b[0;34m)\u001b[0m\u001b[0;34m/\u001b[0m\u001b[0mh\u001b[0m \u001b[0;34m)\u001b[0m\u001b[0;34m.\u001b[0m\u001b[0msubs\u001b[0m\u001b[0;34m(\u001b[0m\u001b[0mh\u001b[0m\u001b[0;34m,\u001b[0m\u001b[0;36m0\u001b[0m\u001b[0;34m)\u001b[0m\u001b[0;34m)\u001b[0m\u001b[0;34m\u001b[0m\u001b[0;34m\u001b[0m\u001b[0m\n\u001b[0m\u001b[1;32m      5\u001b[0m )\n\u001b[1;32m      6\u001b[0m \u001b[0mB\u001b[0m\u001b[0;34m\u001b[0m\u001b[0;34m\u001b[0m\u001b[0m\n",
      "\u001b[0;32m~/opt/anaconda3/lib/python3.8/site-packages/sympy/simplify/simplify.py\u001b[0m in \u001b[0;36msimplify\u001b[0;34m(expr, ratio, measure, rational, inverse, doit, **kwargs)\u001b[0m\n\u001b[1;32m    557\u001b[0m     \u001b[0m_eval_simplify\u001b[0m \u001b[0;34m=\u001b[0m \u001b[0mgetattr\u001b[0m\u001b[0;34m(\u001b[0m\u001b[0mexpr\u001b[0m\u001b[0;34m,\u001b[0m \u001b[0;34m'_eval_simplify'\u001b[0m\u001b[0;34m,\u001b[0m \u001b[0;32mNone\u001b[0m\u001b[0;34m)\u001b[0m\u001b[0;34m\u001b[0m\u001b[0;34m\u001b[0m\u001b[0m\n\u001b[1;32m    558\u001b[0m     \u001b[0;32mif\u001b[0m \u001b[0m_eval_simplify\u001b[0m \u001b[0;32mis\u001b[0m \u001b[0;32mnot\u001b[0m \u001b[0;32mNone\u001b[0m\u001b[0;34m:\u001b[0m\u001b[0;34m\u001b[0m\u001b[0;34m\u001b[0m\u001b[0m\n\u001b[0;32m--> 559\u001b[0;31m         \u001b[0;32mreturn\u001b[0m \u001b[0m_eval_simplify\u001b[0m\u001b[0;34m(\u001b[0m\u001b[0;34m**\u001b[0m\u001b[0mkwargs\u001b[0m\u001b[0;34m)\u001b[0m\u001b[0;34m\u001b[0m\u001b[0;34m\u001b[0m\u001b[0m\n\u001b[0m\u001b[1;32m    560\u001b[0m \u001b[0;34m\u001b[0m\u001b[0m\n\u001b[1;32m    561\u001b[0m     \u001b[0moriginal_expr\u001b[0m \u001b[0;34m=\u001b[0m \u001b[0mexpr\u001b[0m \u001b[0;34m=\u001b[0m \u001b[0mcollect_abs\u001b[0m\u001b[0;34m(\u001b[0m\u001b[0msignsimp\u001b[0m\u001b[0;34m(\u001b[0m\u001b[0mexpr\u001b[0m\u001b[0;34m)\u001b[0m\u001b[0;34m)\u001b[0m\u001b[0;34m\u001b[0m\u001b[0;34m\u001b[0m\u001b[0m\n",
      "\u001b[0;32m~/opt/anaconda3/lib/python3.8/site-packages/sympy/matrices/common.py\u001b[0m in \u001b[0;36m_eval_simplify\u001b[0;34m(self, **kwargs)\u001b[0m\n\u001b[1;32m   2315\u001b[0m         \u001b[0;31m# XXX: We can't use self.simplify here as mutable subclasses will\u001b[0m\u001b[0;34m\u001b[0m\u001b[0;34m\u001b[0m\u001b[0;34m\u001b[0m\u001b[0m\n\u001b[1;32m   2316\u001b[0m         \u001b[0;31m# override simplify and have it return None\u001b[0m\u001b[0;34m\u001b[0m\u001b[0;34m\u001b[0m\u001b[0;34m\u001b[0m\u001b[0m\n\u001b[0;32m-> 2317\u001b[0;31m         \u001b[0;32mreturn\u001b[0m \u001b[0mMatrixOperations\u001b[0m\u001b[0;34m.\u001b[0m\u001b[0msimplify\u001b[0m\u001b[0;34m(\u001b[0m\u001b[0mself\u001b[0m\u001b[0;34m,\u001b[0m \u001b[0;34m**\u001b[0m\u001b[0mkwargs\u001b[0m\u001b[0;34m)\u001b[0m\u001b[0;34m\u001b[0m\u001b[0;34m\u001b[0m\u001b[0m\n\u001b[0m\u001b[1;32m   2318\u001b[0m \u001b[0;34m\u001b[0m\u001b[0m\n\u001b[1;32m   2319\u001b[0m     \u001b[0;32mdef\u001b[0m \u001b[0m_eval_trigsimp\u001b[0m\u001b[0;34m(\u001b[0m\u001b[0mself\u001b[0m\u001b[0;34m,\u001b[0m \u001b[0;34m**\u001b[0m\u001b[0mopts\u001b[0m\u001b[0;34m)\u001b[0m\u001b[0;34m:\u001b[0m\u001b[0;34m\u001b[0m\u001b[0;34m\u001b[0m\u001b[0m\n",
      "\u001b[0;32m~/opt/anaconda3/lib/python3.8/site-packages/sympy/matrices/common.py\u001b[0m in \u001b[0;36msimplify\u001b[0;34m(self, **kwargs)\u001b[0m\n\u001b[1;32m   2209\u001b[0m         \u001b[0mMatrix\u001b[0m\u001b[0;34m(\u001b[0m\u001b[0;34m[\u001b[0m\u001b[0;34m[\u001b[0m\u001b[0mx\u001b[0m\u001b[0;34m]\u001b[0m\u001b[0;34m]\u001b[0m\u001b[0;34m)\u001b[0m\u001b[0;34m\u001b[0m\u001b[0;34m\u001b[0m\u001b[0m\n\u001b[1;32m   2210\u001b[0m         \"\"\"\n\u001b[0;32m-> 2211\u001b[0;31m         \u001b[0;32mreturn\u001b[0m \u001b[0mself\u001b[0m\u001b[0;34m.\u001b[0m\u001b[0mapplyfunc\u001b[0m\u001b[0;34m(\u001b[0m\u001b[0;32mlambda\u001b[0m \u001b[0mx\u001b[0m\u001b[0;34m:\u001b[0m \u001b[0mx\u001b[0m\u001b[0;34m.\u001b[0m\u001b[0msimplify\u001b[0m\u001b[0;34m(\u001b[0m\u001b[0;34m**\u001b[0m\u001b[0mkwargs\u001b[0m\u001b[0;34m)\u001b[0m\u001b[0;34m)\u001b[0m\u001b[0;34m\u001b[0m\u001b[0;34m\u001b[0m\u001b[0m\n\u001b[0m\u001b[1;32m   2212\u001b[0m \u001b[0;34m\u001b[0m\u001b[0m\n\u001b[1;32m   2213\u001b[0m     \u001b[0;32mdef\u001b[0m \u001b[0msubs\u001b[0m\u001b[0;34m(\u001b[0m\u001b[0mself\u001b[0m\u001b[0;34m,\u001b[0m \u001b[0;34m*\u001b[0m\u001b[0margs\u001b[0m\u001b[0;34m,\u001b[0m \u001b[0;34m**\u001b[0m\u001b[0mkwargs\u001b[0m\u001b[0;34m)\u001b[0m\u001b[0;34m:\u001b[0m  \u001b[0;31m# should mirror core.basic.subs\u001b[0m\u001b[0;34m\u001b[0m\u001b[0;34m\u001b[0m\u001b[0m\n",
      "\u001b[0;32m~/opt/anaconda3/lib/python3.8/site-packages/sympy/matrices/common.py\u001b[0m in \u001b[0;36mapplyfunc\u001b[0;34m(self, f)\u001b[0m\n\u001b[1;32m   1860\u001b[0m             \u001b[0;32mraise\u001b[0m \u001b[0mTypeError\u001b[0m\u001b[0;34m(\u001b[0m\u001b[0;34m\"`f` must be callable.\"\u001b[0m\u001b[0;34m)\u001b[0m\u001b[0;34m\u001b[0m\u001b[0;34m\u001b[0m\u001b[0m\n\u001b[1;32m   1861\u001b[0m \u001b[0;34m\u001b[0m\u001b[0m\n\u001b[0;32m-> 1862\u001b[0;31m         \u001b[0;32mreturn\u001b[0m \u001b[0mself\u001b[0m\u001b[0;34m.\u001b[0m\u001b[0m_eval_applyfunc\u001b[0m\u001b[0;34m(\u001b[0m\u001b[0mf\u001b[0m\u001b[0;34m)\u001b[0m\u001b[0;34m\u001b[0m\u001b[0;34m\u001b[0m\u001b[0m\n\u001b[0m\u001b[1;32m   1863\u001b[0m \u001b[0;34m\u001b[0m\u001b[0m\n\u001b[1;32m   1864\u001b[0m     \u001b[0;32mdef\u001b[0m \u001b[0mas_real_imag\u001b[0m\u001b[0;34m(\u001b[0m\u001b[0mself\u001b[0m\u001b[0;34m,\u001b[0m \u001b[0mdeep\u001b[0m\u001b[0;34m=\u001b[0m\u001b[0;32mTrue\u001b[0m\u001b[0;34m,\u001b[0m \u001b[0;34m**\u001b[0m\u001b[0mhints\u001b[0m\u001b[0;34m)\u001b[0m\u001b[0;34m:\u001b[0m\u001b[0;34m\u001b[0m\u001b[0;34m\u001b[0m\u001b[0m\n",
      "\u001b[0;32m~/opt/anaconda3/lib/python3.8/site-packages/sympy/matrices/common.py\u001b[0m in \u001b[0;36m_eval_applyfunc\u001b[0;34m(self, f)\u001b[0m\n\u001b[1;32m   1800\u001b[0m \u001b[0;34m\u001b[0m\u001b[0m\n\u001b[1;32m   1801\u001b[0m     \u001b[0;32mdef\u001b[0m \u001b[0m_eval_applyfunc\u001b[0m\u001b[0;34m(\u001b[0m\u001b[0mself\u001b[0m\u001b[0;34m,\u001b[0m \u001b[0mf\u001b[0m\u001b[0;34m)\u001b[0m\u001b[0;34m:\u001b[0m\u001b[0;34m\u001b[0m\u001b[0;34m\u001b[0m\u001b[0m\n\u001b[0;32m-> 1802\u001b[0;31m         \u001b[0mout\u001b[0m \u001b[0;34m=\u001b[0m \u001b[0mself\u001b[0m\u001b[0;34m.\u001b[0m\u001b[0m_new\u001b[0m\u001b[0;34m(\u001b[0m\u001b[0mself\u001b[0m\u001b[0;34m.\u001b[0m\u001b[0mrows\u001b[0m\u001b[0;34m,\u001b[0m \u001b[0mself\u001b[0m\u001b[0;34m.\u001b[0m\u001b[0mcols\u001b[0m\u001b[0;34m,\u001b[0m \u001b[0;34m[\u001b[0m\u001b[0mf\u001b[0m\u001b[0;34m(\u001b[0m\u001b[0mx\u001b[0m\u001b[0;34m)\u001b[0m \u001b[0;32mfor\u001b[0m \u001b[0mx\u001b[0m \u001b[0;32min\u001b[0m \u001b[0mself\u001b[0m\u001b[0;34m]\u001b[0m\u001b[0;34m)\u001b[0m\u001b[0;34m\u001b[0m\u001b[0;34m\u001b[0m\u001b[0m\n\u001b[0m\u001b[1;32m   1803\u001b[0m         \u001b[0;32mreturn\u001b[0m \u001b[0mout\u001b[0m\u001b[0;34m\u001b[0m\u001b[0;34m\u001b[0m\u001b[0m\n\u001b[1;32m   1804\u001b[0m \u001b[0;34m\u001b[0m\u001b[0m\n",
      "\u001b[0;32m~/opt/anaconda3/lib/python3.8/site-packages/sympy/matrices/common.py\u001b[0m in \u001b[0;36m<listcomp>\u001b[0;34m(.0)\u001b[0m\n\u001b[1;32m   1800\u001b[0m \u001b[0;34m\u001b[0m\u001b[0m\n\u001b[1;32m   1801\u001b[0m     \u001b[0;32mdef\u001b[0m \u001b[0m_eval_applyfunc\u001b[0m\u001b[0;34m(\u001b[0m\u001b[0mself\u001b[0m\u001b[0;34m,\u001b[0m \u001b[0mf\u001b[0m\u001b[0;34m)\u001b[0m\u001b[0;34m:\u001b[0m\u001b[0;34m\u001b[0m\u001b[0;34m\u001b[0m\u001b[0m\n\u001b[0;32m-> 1802\u001b[0;31m         \u001b[0mout\u001b[0m \u001b[0;34m=\u001b[0m \u001b[0mself\u001b[0m\u001b[0;34m.\u001b[0m\u001b[0m_new\u001b[0m\u001b[0;34m(\u001b[0m\u001b[0mself\u001b[0m\u001b[0;34m.\u001b[0m\u001b[0mrows\u001b[0m\u001b[0;34m,\u001b[0m \u001b[0mself\u001b[0m\u001b[0;34m.\u001b[0m\u001b[0mcols\u001b[0m\u001b[0;34m,\u001b[0m \u001b[0;34m[\u001b[0m\u001b[0mf\u001b[0m\u001b[0;34m(\u001b[0m\u001b[0mx\u001b[0m\u001b[0;34m)\u001b[0m \u001b[0;32mfor\u001b[0m \u001b[0mx\u001b[0m \u001b[0;32min\u001b[0m \u001b[0mself\u001b[0m\u001b[0;34m]\u001b[0m\u001b[0;34m)\u001b[0m\u001b[0;34m\u001b[0m\u001b[0;34m\u001b[0m\u001b[0m\n\u001b[0m\u001b[1;32m   1803\u001b[0m         \u001b[0;32mreturn\u001b[0m \u001b[0mout\u001b[0m\u001b[0;34m\u001b[0m\u001b[0;34m\u001b[0m\u001b[0m\n\u001b[1;32m   1804\u001b[0m \u001b[0;34m\u001b[0m\u001b[0m\n",
      "\u001b[0;32m~/opt/anaconda3/lib/python3.8/site-packages/sympy/matrices/common.py\u001b[0m in \u001b[0;36m<lambda>\u001b[0;34m(x)\u001b[0m\n\u001b[1;32m   2209\u001b[0m         \u001b[0mMatrix\u001b[0m\u001b[0;34m(\u001b[0m\u001b[0;34m[\u001b[0m\u001b[0;34m[\u001b[0m\u001b[0mx\u001b[0m\u001b[0;34m]\u001b[0m\u001b[0;34m]\u001b[0m\u001b[0;34m)\u001b[0m\u001b[0;34m\u001b[0m\u001b[0;34m\u001b[0m\u001b[0m\n\u001b[1;32m   2210\u001b[0m         \"\"\"\n\u001b[0;32m-> 2211\u001b[0;31m         \u001b[0;32mreturn\u001b[0m \u001b[0mself\u001b[0m\u001b[0;34m.\u001b[0m\u001b[0mapplyfunc\u001b[0m\u001b[0;34m(\u001b[0m\u001b[0;32mlambda\u001b[0m \u001b[0mx\u001b[0m\u001b[0;34m:\u001b[0m \u001b[0mx\u001b[0m\u001b[0;34m.\u001b[0m\u001b[0msimplify\u001b[0m\u001b[0;34m(\u001b[0m\u001b[0;34m**\u001b[0m\u001b[0mkwargs\u001b[0m\u001b[0;34m)\u001b[0m\u001b[0;34m)\u001b[0m\u001b[0;34m\u001b[0m\u001b[0;34m\u001b[0m\u001b[0m\n\u001b[0m\u001b[1;32m   2212\u001b[0m \u001b[0;34m\u001b[0m\u001b[0m\n\u001b[1;32m   2213\u001b[0m     \u001b[0;32mdef\u001b[0m \u001b[0msubs\u001b[0m\u001b[0;34m(\u001b[0m\u001b[0mself\u001b[0m\u001b[0;34m,\u001b[0m \u001b[0;34m*\u001b[0m\u001b[0margs\u001b[0m\u001b[0;34m,\u001b[0m \u001b[0;34m**\u001b[0m\u001b[0mkwargs\u001b[0m\u001b[0;34m)\u001b[0m\u001b[0;34m:\u001b[0m  \u001b[0;31m# should mirror core.basic.subs\u001b[0m\u001b[0;34m\u001b[0m\u001b[0;34m\u001b[0m\u001b[0m\n",
      "\u001b[0;32m~/opt/anaconda3/lib/python3.8/site-packages/sympy/core/basic.py\u001b[0m in \u001b[0;36msimplify\u001b[0;34m(self, **kwargs)\u001b[0m\n\u001b[1;32m   1673\u001b[0m         \u001b[0;34m\"\"\"See the simplify function in sympy.simplify\"\"\"\u001b[0m\u001b[0;34m\u001b[0m\u001b[0;34m\u001b[0m\u001b[0m\n\u001b[1;32m   1674\u001b[0m         \u001b[0;32mfrom\u001b[0m \u001b[0msympy\u001b[0m\u001b[0;34m.\u001b[0m\u001b[0msimplify\u001b[0m \u001b[0;32mimport\u001b[0m \u001b[0msimplify\u001b[0m\u001b[0;34m\u001b[0m\u001b[0;34m\u001b[0m\u001b[0m\n\u001b[0;32m-> 1675\u001b[0;31m         \u001b[0;32mreturn\u001b[0m \u001b[0msimplify\u001b[0m\u001b[0;34m(\u001b[0m\u001b[0mself\u001b[0m\u001b[0;34m,\u001b[0m \u001b[0;34m**\u001b[0m\u001b[0mkwargs\u001b[0m\u001b[0;34m)\u001b[0m\u001b[0;34m\u001b[0m\u001b[0;34m\u001b[0m\u001b[0m\n\u001b[0m\u001b[1;32m   1676\u001b[0m \u001b[0;34m\u001b[0m\u001b[0m\n\u001b[1;32m   1677\u001b[0m     \u001b[0;32mdef\u001b[0m \u001b[0m_eval_rewrite\u001b[0m\u001b[0;34m(\u001b[0m\u001b[0mself\u001b[0m\u001b[0;34m,\u001b[0m \u001b[0mpattern\u001b[0m\u001b[0;34m,\u001b[0m \u001b[0mrule\u001b[0m\u001b[0;34m,\u001b[0m \u001b[0;34m**\u001b[0m\u001b[0mhints\u001b[0m\u001b[0;34m)\u001b[0m\u001b[0;34m:\u001b[0m\u001b[0;34m\u001b[0m\u001b[0;34m\u001b[0m\u001b[0m\n",
      "\u001b[0;32m~/opt/anaconda3/lib/python3.8/site-packages/sympy/simplify/simplify.py\u001b[0m in \u001b[0;36msimplify\u001b[0;34m(expr, ratio, measure, rational, inverse, doit, **kwargs)\u001b[0m\n\u001b[1;32m    656\u001b[0m \u001b[0;34m\u001b[0m\u001b[0m\n\u001b[1;32m    657\u001b[0m     \u001b[0;32mif\u001b[0m \u001b[0mexpr\u001b[0m\u001b[0;34m.\u001b[0m\u001b[0mhas\u001b[0m\u001b[0;34m(\u001b[0m\u001b[0mTrigonometricFunction\u001b[0m\u001b[0;34m,\u001b[0m \u001b[0mHyperbolicFunction\u001b[0m\u001b[0;34m)\u001b[0m\u001b[0;34m:\u001b[0m\u001b[0;34m\u001b[0m\u001b[0;34m\u001b[0m\u001b[0m\n\u001b[0;32m--> 658\u001b[0;31m         \u001b[0mexpr\u001b[0m \u001b[0;34m=\u001b[0m \u001b[0mtrigsimp\u001b[0m\u001b[0;34m(\u001b[0m\u001b[0mexpr\u001b[0m\u001b[0;34m,\u001b[0m \u001b[0mdeep\u001b[0m\u001b[0;34m=\u001b[0m\u001b[0;32mTrue\u001b[0m\u001b[0;34m)\u001b[0m\u001b[0;34m\u001b[0m\u001b[0;34m\u001b[0m\u001b[0m\n\u001b[0m\u001b[1;32m    659\u001b[0m \u001b[0;34m\u001b[0m\u001b[0m\n\u001b[1;32m    660\u001b[0m     \u001b[0;32mif\u001b[0m \u001b[0mexpr\u001b[0m\u001b[0;34m.\u001b[0m\u001b[0mhas\u001b[0m\u001b[0;34m(\u001b[0m\u001b[0mlog\u001b[0m\u001b[0;34m)\u001b[0m\u001b[0;34m:\u001b[0m\u001b[0;34m\u001b[0m\u001b[0;34m\u001b[0m\u001b[0m\n",
      "\u001b[0;32m~/opt/anaconda3/lib/python3.8/site-packages/sympy/simplify/trigsimp.py\u001b[0m in \u001b[0;36mtrigsimp\u001b[0;34m(expr, **opts)\u001b[0m\n\u001b[1;32m    506\u001b[0m                    }[method]\n\u001b[1;32m    507\u001b[0m \u001b[0;34m\u001b[0m\u001b[0m\n\u001b[0;32m--> 508\u001b[0;31m     \u001b[0;32mreturn\u001b[0m \u001b[0mtrigsimpfunc\u001b[0m\u001b[0;34m(\u001b[0m\u001b[0mexpr\u001b[0m\u001b[0;34m)\u001b[0m\u001b[0;34m\u001b[0m\u001b[0;34m\u001b[0m\u001b[0m\n\u001b[0m\u001b[1;32m    509\u001b[0m \u001b[0;34m\u001b[0m\u001b[0m\n\u001b[1;32m    510\u001b[0m \u001b[0;34m\u001b[0m\u001b[0m\n",
      "\u001b[0;32m~/opt/anaconda3/lib/python3.8/site-packages/sympy/simplify/trigsimp.py\u001b[0m in \u001b[0;36m<lambda>\u001b[0;34m(x)\u001b[0m\n\u001b[1;32m    499\u001b[0m     trigsimpfunc = {\n\u001b[1;32m    500\u001b[0m         \u001b[0;34m'fu'\u001b[0m\u001b[0;34m:\u001b[0m \u001b[0;34m(\u001b[0m\u001b[0;32mlambda\u001b[0m \u001b[0mx\u001b[0m\u001b[0;34m:\u001b[0m \u001b[0mfu\u001b[0m\u001b[0;34m(\u001b[0m\u001b[0mx\u001b[0m\u001b[0;34m,\u001b[0m \u001b[0;34m**\u001b[0m\u001b[0mopts\u001b[0m\u001b[0;34m)\u001b[0m\u001b[0;34m)\u001b[0m\u001b[0;34m,\u001b[0m\u001b[0;34m\u001b[0m\u001b[0;34m\u001b[0m\u001b[0m\n\u001b[0;32m--> 501\u001b[0;31m         \u001b[0;34m'matching'\u001b[0m\u001b[0;34m:\u001b[0m \u001b[0;34m(\u001b[0m\u001b[0;32mlambda\u001b[0m \u001b[0mx\u001b[0m\u001b[0;34m:\u001b[0m \u001b[0mfutrig\u001b[0m\u001b[0;34m(\u001b[0m\u001b[0mx\u001b[0m\u001b[0;34m)\u001b[0m\u001b[0;34m)\u001b[0m\u001b[0;34m,\u001b[0m\u001b[0;34m\u001b[0m\u001b[0;34m\u001b[0m\u001b[0m\n\u001b[0m\u001b[1;32m    502\u001b[0m         \u001b[0;34m'groebner'\u001b[0m\u001b[0;34m:\u001b[0m \u001b[0;34m(\u001b[0m\u001b[0;32mlambda\u001b[0m \u001b[0mx\u001b[0m\u001b[0;34m:\u001b[0m \u001b[0mgroebnersimp\u001b[0m\u001b[0;34m(\u001b[0m\u001b[0mx\u001b[0m\u001b[0;34m,\u001b[0m \u001b[0;34m**\u001b[0m\u001b[0mopts\u001b[0m\u001b[0;34m)\u001b[0m\u001b[0;34m)\u001b[0m\u001b[0;34m,\u001b[0m\u001b[0;34m\u001b[0m\u001b[0;34m\u001b[0m\u001b[0m\n\u001b[1;32m    503\u001b[0m         'combined': (lambda x: futrig(groebnersimp(x,\n",
      "\u001b[0;32m~/opt/anaconda3/lib/python3.8/site-packages/sympy/simplify/trigsimp.py\u001b[0m in \u001b[0;36mfutrig\u001b[0;34m(e, **kwargs)\u001b[0m\n\u001b[1;32m   1099\u001b[0m \u001b[0;34m\u001b[0m\u001b[0m\n\u001b[1;32m   1100\u001b[0m     \u001b[0mold\u001b[0m \u001b[0;34m=\u001b[0m \u001b[0me\u001b[0m\u001b[0;34m\u001b[0m\u001b[0;34m\u001b[0m\u001b[0m\n\u001b[0;32m-> 1101\u001b[0;31m     \u001b[0me\u001b[0m \u001b[0;34m=\u001b[0m \u001b[0mbottom_up\u001b[0m\u001b[0;34m(\u001b[0m\u001b[0me\u001b[0m\u001b[0;34m,\u001b[0m \u001b[0;32mlambda\u001b[0m \u001b[0mx\u001b[0m\u001b[0;34m:\u001b[0m \u001b[0m_futrig\u001b[0m\u001b[0;34m(\u001b[0m\u001b[0mx\u001b[0m\u001b[0;34m,\u001b[0m \u001b[0;34m**\u001b[0m\u001b[0mkwargs\u001b[0m\u001b[0;34m)\u001b[0m\u001b[0;34m)\u001b[0m\u001b[0;34m\u001b[0m\u001b[0;34m\u001b[0m\u001b[0m\n\u001b[0m\u001b[1;32m   1102\u001b[0m \u001b[0;34m\u001b[0m\u001b[0m\n\u001b[1;32m   1103\u001b[0m     \u001b[0;32mif\u001b[0m \u001b[0mkwargs\u001b[0m\u001b[0;34m.\u001b[0m\u001b[0mpop\u001b[0m\u001b[0;34m(\u001b[0m\u001b[0;34m'hyper'\u001b[0m\u001b[0;34m,\u001b[0m \u001b[0;32mTrue\u001b[0m\u001b[0;34m)\u001b[0m \u001b[0;32mand\u001b[0m \u001b[0me\u001b[0m\u001b[0;34m.\u001b[0m\u001b[0mhas\u001b[0m\u001b[0;34m(\u001b[0m\u001b[0mHyperbolicFunction\u001b[0m\u001b[0;34m)\u001b[0m\u001b[0;34m:\u001b[0m\u001b[0;34m\u001b[0m\u001b[0;34m\u001b[0m\u001b[0m\n",
      "\u001b[0;32m~/opt/anaconda3/lib/python3.8/site-packages/sympy/simplify/simplify.py\u001b[0m in \u001b[0;36mbottom_up\u001b[0;34m(rv, F, atoms, nonbasic)\u001b[0m\n\u001b[1;32m   1150\u001b[0m             \u001b[0;32mif\u001b[0m \u001b[0margs\u001b[0m \u001b[0;34m!=\u001b[0m \u001b[0mrv\u001b[0m\u001b[0;34m.\u001b[0m\u001b[0margs\u001b[0m\u001b[0;34m:\u001b[0m\u001b[0;34m\u001b[0m\u001b[0;34m\u001b[0m\u001b[0m\n\u001b[1;32m   1151\u001b[0m                 \u001b[0mrv\u001b[0m \u001b[0;34m=\u001b[0m \u001b[0mrv\u001b[0m\u001b[0;34m.\u001b[0m\u001b[0mfunc\u001b[0m\u001b[0;34m(\u001b[0m\u001b[0;34m*\u001b[0m\u001b[0margs\u001b[0m\u001b[0;34m)\u001b[0m\u001b[0;34m\u001b[0m\u001b[0;34m\u001b[0m\u001b[0m\n\u001b[0;32m-> 1152\u001b[0;31m             \u001b[0mrv\u001b[0m \u001b[0;34m=\u001b[0m \u001b[0mF\u001b[0m\u001b[0;34m(\u001b[0m\u001b[0mrv\u001b[0m\u001b[0;34m)\u001b[0m\u001b[0;34m\u001b[0m\u001b[0;34m\u001b[0m\u001b[0m\n\u001b[0m\u001b[1;32m   1153\u001b[0m         \u001b[0;32melif\u001b[0m \u001b[0matoms\u001b[0m\u001b[0;34m:\u001b[0m\u001b[0;34m\u001b[0m\u001b[0;34m\u001b[0m\u001b[0m\n\u001b[1;32m   1154\u001b[0m             \u001b[0mrv\u001b[0m \u001b[0;34m=\u001b[0m \u001b[0mF\u001b[0m\u001b[0;34m(\u001b[0m\u001b[0mrv\u001b[0m\u001b[0;34m)\u001b[0m\u001b[0;34m\u001b[0m\u001b[0;34m\u001b[0m\u001b[0m\n",
      "\u001b[0;32m~/opt/anaconda3/lib/python3.8/site-packages/sympy/simplify/trigsimp.py\u001b[0m in \u001b[0;36m<lambda>\u001b[0;34m(x)\u001b[0m\n\u001b[1;32m   1099\u001b[0m \u001b[0;34m\u001b[0m\u001b[0m\n\u001b[1;32m   1100\u001b[0m     \u001b[0mold\u001b[0m \u001b[0;34m=\u001b[0m \u001b[0me\u001b[0m\u001b[0;34m\u001b[0m\u001b[0;34m\u001b[0m\u001b[0m\n\u001b[0;32m-> 1101\u001b[0;31m     \u001b[0me\u001b[0m \u001b[0;34m=\u001b[0m \u001b[0mbottom_up\u001b[0m\u001b[0;34m(\u001b[0m\u001b[0me\u001b[0m\u001b[0;34m,\u001b[0m \u001b[0;32mlambda\u001b[0m \u001b[0mx\u001b[0m\u001b[0;34m:\u001b[0m \u001b[0m_futrig\u001b[0m\u001b[0;34m(\u001b[0m\u001b[0mx\u001b[0m\u001b[0;34m,\u001b[0m \u001b[0;34m**\u001b[0m\u001b[0mkwargs\u001b[0m\u001b[0;34m)\u001b[0m\u001b[0;34m)\u001b[0m\u001b[0;34m\u001b[0m\u001b[0;34m\u001b[0m\u001b[0m\n\u001b[0m\u001b[1;32m   1102\u001b[0m \u001b[0;34m\u001b[0m\u001b[0m\n\u001b[1;32m   1103\u001b[0m     \u001b[0;32mif\u001b[0m \u001b[0mkwargs\u001b[0m\u001b[0;34m.\u001b[0m\u001b[0mpop\u001b[0m\u001b[0;34m(\u001b[0m\u001b[0;34m'hyper'\u001b[0m\u001b[0;34m,\u001b[0m \u001b[0;32mTrue\u001b[0m\u001b[0;34m)\u001b[0m \u001b[0;32mand\u001b[0m \u001b[0me\u001b[0m\u001b[0;34m.\u001b[0m\u001b[0mhas\u001b[0m\u001b[0;34m(\u001b[0m\u001b[0mHyperbolicFunction\u001b[0m\u001b[0;34m)\u001b[0m\u001b[0;34m:\u001b[0m\u001b[0;34m\u001b[0m\u001b[0;34m\u001b[0m\u001b[0m\n",
      "\u001b[0;32m~/opt/anaconda3/lib/python3.8/site-packages/sympy/simplify/trigsimp.py\u001b[0m in \u001b[0;36m_futrig\u001b[0;34m(e, **kwargs)\u001b[0m\n\u001b[1;32m   1167\u001b[0m             factor_terms, TR12(x), trigs)],  # expand tan of sum\n\u001b[1;32m   1168\u001b[0m         )]\n\u001b[0;32m-> 1169\u001b[0;31m     \u001b[0me\u001b[0m \u001b[0;34m=\u001b[0m \u001b[0mgreedy\u001b[0m\u001b[0;34m(\u001b[0m\u001b[0mtree\u001b[0m\u001b[0;34m,\u001b[0m \u001b[0mobjective\u001b[0m\u001b[0;34m=\u001b[0m\u001b[0mLops\u001b[0m\u001b[0;34m)\u001b[0m\u001b[0;34m(\u001b[0m\u001b[0me\u001b[0m\u001b[0;34m)\u001b[0m\u001b[0;34m\u001b[0m\u001b[0;34m\u001b[0m\u001b[0m\n\u001b[0m\u001b[1;32m   1170\u001b[0m \u001b[0;34m\u001b[0m\u001b[0m\n\u001b[1;32m   1171\u001b[0m     \u001b[0;32mif\u001b[0m \u001b[0mcoeff\u001b[0m \u001b[0;32mis\u001b[0m \u001b[0;32mnot\u001b[0m \u001b[0;32mNone\u001b[0m\u001b[0;34m:\u001b[0m\u001b[0;34m\u001b[0m\u001b[0;34m\u001b[0m\u001b[0m\n",
      "\u001b[0;32m~/opt/anaconda3/lib/python3.8/site-packages/sympy/strategies/core.py\u001b[0m in \u001b[0;36mminrule\u001b[0;34m(expr)\u001b[0m\n\u001b[1;32m    113\u001b[0m     \u001b[0mobjective\u001b[0m \u001b[0;34m=\u001b[0m \u001b[0mkwargs\u001b[0m\u001b[0;34m.\u001b[0m\u001b[0mget\u001b[0m\u001b[0;34m(\u001b[0m\u001b[0;34m'objective'\u001b[0m\u001b[0;34m,\u001b[0m \u001b[0midentity\u001b[0m\u001b[0;34m)\u001b[0m\u001b[0;34m\u001b[0m\u001b[0;34m\u001b[0m\u001b[0m\n\u001b[1;32m    114\u001b[0m     \u001b[0;32mdef\u001b[0m \u001b[0mminrule\u001b[0m\u001b[0;34m(\u001b[0m\u001b[0mexpr\u001b[0m\u001b[0;34m)\u001b[0m\u001b[0;34m:\u001b[0m\u001b[0;34m\u001b[0m\u001b[0;34m\u001b[0m\u001b[0m\n\u001b[0;32m--> 115\u001b[0;31m         \u001b[0;32mreturn\u001b[0m \u001b[0mmin\u001b[0m\u001b[0;34m(\u001b[0m\u001b[0;34m[\u001b[0m\u001b[0mrule\u001b[0m\u001b[0;34m(\u001b[0m\u001b[0mexpr\u001b[0m\u001b[0;34m)\u001b[0m \u001b[0;32mfor\u001b[0m \u001b[0mrule\u001b[0m \u001b[0;32min\u001b[0m \u001b[0mrules\u001b[0m\u001b[0;34m]\u001b[0m\u001b[0;34m,\u001b[0m \u001b[0mkey\u001b[0m\u001b[0;34m=\u001b[0m\u001b[0mobjective\u001b[0m\u001b[0;34m)\u001b[0m\u001b[0;34m\u001b[0m\u001b[0;34m\u001b[0m\u001b[0m\n\u001b[0m\u001b[1;32m    116\u001b[0m     \u001b[0;32mreturn\u001b[0m \u001b[0mminrule\u001b[0m\u001b[0;34m\u001b[0m\u001b[0;34m\u001b[0m\u001b[0m\n",
      "\u001b[0;32m~/opt/anaconda3/lib/python3.8/site-packages/sympy/strategies/core.py\u001b[0m in \u001b[0;36m<listcomp>\u001b[0;34m(.0)\u001b[0m\n\u001b[1;32m    113\u001b[0m     \u001b[0mobjective\u001b[0m \u001b[0;34m=\u001b[0m \u001b[0mkwargs\u001b[0m\u001b[0;34m.\u001b[0m\u001b[0mget\u001b[0m\u001b[0;34m(\u001b[0m\u001b[0;34m'objective'\u001b[0m\u001b[0;34m,\u001b[0m \u001b[0midentity\u001b[0m\u001b[0;34m)\u001b[0m\u001b[0;34m\u001b[0m\u001b[0;34m\u001b[0m\u001b[0m\n\u001b[1;32m    114\u001b[0m     \u001b[0;32mdef\u001b[0m \u001b[0mminrule\u001b[0m\u001b[0;34m(\u001b[0m\u001b[0mexpr\u001b[0m\u001b[0;34m)\u001b[0m\u001b[0;34m:\u001b[0m\u001b[0;34m\u001b[0m\u001b[0;34m\u001b[0m\u001b[0m\n\u001b[0;32m--> 115\u001b[0;31m         \u001b[0;32mreturn\u001b[0m \u001b[0mmin\u001b[0m\u001b[0;34m(\u001b[0m\u001b[0;34m[\u001b[0m\u001b[0mrule\u001b[0m\u001b[0;34m(\u001b[0m\u001b[0mexpr\u001b[0m\u001b[0;34m)\u001b[0m \u001b[0;32mfor\u001b[0m \u001b[0mrule\u001b[0m \u001b[0;32min\u001b[0m \u001b[0mrules\u001b[0m\u001b[0;34m]\u001b[0m\u001b[0;34m,\u001b[0m \u001b[0mkey\u001b[0m\u001b[0;34m=\u001b[0m\u001b[0mobjective\u001b[0m\u001b[0;34m)\u001b[0m\u001b[0;34m\u001b[0m\u001b[0;34m\u001b[0m\u001b[0m\n\u001b[0m\u001b[1;32m    116\u001b[0m     \u001b[0;32mreturn\u001b[0m \u001b[0mminrule\u001b[0m\u001b[0;34m\u001b[0m\u001b[0;34m\u001b[0m\u001b[0m\n",
      "\u001b[0;32m~/opt/anaconda3/lib/python3.8/site-packages/sympy/strategies/core.py\u001b[0m in \u001b[0;36mchain_rl\u001b[0;34m(expr)\u001b[0m\n\u001b[1;32m     42\u001b[0m     \u001b[0;32mdef\u001b[0m \u001b[0mchain_rl\u001b[0m\u001b[0;34m(\u001b[0m\u001b[0mexpr\u001b[0m\u001b[0;34m)\u001b[0m\u001b[0;34m:\u001b[0m\u001b[0;34m\u001b[0m\u001b[0;34m\u001b[0m\u001b[0m\n\u001b[1;32m     43\u001b[0m         \u001b[0;32mfor\u001b[0m \u001b[0mrule\u001b[0m \u001b[0;32min\u001b[0m \u001b[0mrules\u001b[0m\u001b[0;34m:\u001b[0m\u001b[0;34m\u001b[0m\u001b[0;34m\u001b[0m\u001b[0m\n\u001b[0;32m---> 44\u001b[0;31m             \u001b[0mexpr\u001b[0m \u001b[0;34m=\u001b[0m \u001b[0mrule\u001b[0m\u001b[0;34m(\u001b[0m\u001b[0mexpr\u001b[0m\u001b[0;34m)\u001b[0m\u001b[0;34m\u001b[0m\u001b[0;34m\u001b[0m\u001b[0m\n\u001b[0m\u001b[1;32m     45\u001b[0m         \u001b[0;32mreturn\u001b[0m \u001b[0mexpr\u001b[0m\u001b[0;34m\u001b[0m\u001b[0;34m\u001b[0m\u001b[0m\n\u001b[1;32m     46\u001b[0m     \u001b[0;32mreturn\u001b[0m \u001b[0mchain_rl\u001b[0m\u001b[0;34m\u001b[0m\u001b[0;34m\u001b[0m\u001b[0m\n",
      "\u001b[0;32m~/opt/anaconda3/lib/python3.8/site-packages/sympy/simplify/fu.py\u001b[0m in \u001b[0;36mTR10i\u001b[0;34m(rv)\u001b[0m\n\u001b[1;32m    939\u001b[0m         \u001b[0;32mreturn\u001b[0m \u001b[0mrv\u001b[0m\u001b[0;34m\u001b[0m\u001b[0;34m\u001b[0m\u001b[0m\n\u001b[1;32m    940\u001b[0m \u001b[0;34m\u001b[0m\u001b[0m\n\u001b[0;32m--> 941\u001b[0;31m     \u001b[0;32mreturn\u001b[0m \u001b[0mbottom_up\u001b[0m\u001b[0;34m(\u001b[0m\u001b[0mrv\u001b[0m\u001b[0;34m,\u001b[0m \u001b[0mf\u001b[0m\u001b[0;34m)\u001b[0m\u001b[0;34m\u001b[0m\u001b[0;34m\u001b[0m\u001b[0m\n\u001b[0m\u001b[1;32m    942\u001b[0m \u001b[0;34m\u001b[0m\u001b[0m\n\u001b[1;32m    943\u001b[0m \u001b[0;34m\u001b[0m\u001b[0m\n",
      "\u001b[0;32m~/opt/anaconda3/lib/python3.8/site-packages/sympy/simplify/simplify.py\u001b[0m in \u001b[0;36mbottom_up\u001b[0;34m(rv, F, atoms, nonbasic)\u001b[0m\n\u001b[1;32m   1147\u001b[0m     \u001b[0;32mif\u001b[0m \u001b[0margs\u001b[0m \u001b[0;32mis\u001b[0m \u001b[0;32mnot\u001b[0m \u001b[0;32mNone\u001b[0m\u001b[0;34m:\u001b[0m\u001b[0;34m\u001b[0m\u001b[0;34m\u001b[0m\u001b[0m\n\u001b[1;32m   1148\u001b[0m         \u001b[0;32mif\u001b[0m \u001b[0margs\u001b[0m\u001b[0;34m:\u001b[0m\u001b[0;34m\u001b[0m\u001b[0;34m\u001b[0m\u001b[0m\n\u001b[0;32m-> 1149\u001b[0;31m             \u001b[0margs\u001b[0m \u001b[0;34m=\u001b[0m \u001b[0mtuple\u001b[0m\u001b[0;34m(\u001b[0m\u001b[0;34m[\u001b[0m\u001b[0mbottom_up\u001b[0m\u001b[0;34m(\u001b[0m\u001b[0ma\u001b[0m\u001b[0;34m,\u001b[0m \u001b[0mF\u001b[0m\u001b[0;34m,\u001b[0m \u001b[0matoms\u001b[0m\u001b[0;34m,\u001b[0m \u001b[0mnonbasic\u001b[0m\u001b[0;34m)\u001b[0m \u001b[0;32mfor\u001b[0m \u001b[0ma\u001b[0m \u001b[0;32min\u001b[0m \u001b[0margs\u001b[0m\u001b[0;34m]\u001b[0m\u001b[0;34m)\u001b[0m\u001b[0;34m\u001b[0m\u001b[0;34m\u001b[0m\u001b[0m\n\u001b[0m\u001b[1;32m   1150\u001b[0m             \u001b[0;32mif\u001b[0m \u001b[0margs\u001b[0m \u001b[0;34m!=\u001b[0m \u001b[0mrv\u001b[0m\u001b[0;34m.\u001b[0m\u001b[0margs\u001b[0m\u001b[0;34m:\u001b[0m\u001b[0;34m\u001b[0m\u001b[0;34m\u001b[0m\u001b[0m\n\u001b[1;32m   1151\u001b[0m                 \u001b[0mrv\u001b[0m \u001b[0;34m=\u001b[0m \u001b[0mrv\u001b[0m\u001b[0;34m.\u001b[0m\u001b[0mfunc\u001b[0m\u001b[0;34m(\u001b[0m\u001b[0;34m*\u001b[0m\u001b[0margs\u001b[0m\u001b[0;34m)\u001b[0m\u001b[0;34m\u001b[0m\u001b[0;34m\u001b[0m\u001b[0m\n",
      "\u001b[0;32m~/opt/anaconda3/lib/python3.8/site-packages/sympy/simplify/simplify.py\u001b[0m in \u001b[0;36m<listcomp>\u001b[0;34m(.0)\u001b[0m\n\u001b[1;32m   1147\u001b[0m     \u001b[0;32mif\u001b[0m \u001b[0margs\u001b[0m \u001b[0;32mis\u001b[0m \u001b[0;32mnot\u001b[0m \u001b[0;32mNone\u001b[0m\u001b[0;34m:\u001b[0m\u001b[0;34m\u001b[0m\u001b[0;34m\u001b[0m\u001b[0m\n\u001b[1;32m   1148\u001b[0m         \u001b[0;32mif\u001b[0m \u001b[0margs\u001b[0m\u001b[0;34m:\u001b[0m\u001b[0;34m\u001b[0m\u001b[0;34m\u001b[0m\u001b[0m\n\u001b[0;32m-> 1149\u001b[0;31m             \u001b[0margs\u001b[0m \u001b[0;34m=\u001b[0m \u001b[0mtuple\u001b[0m\u001b[0;34m(\u001b[0m\u001b[0;34m[\u001b[0m\u001b[0mbottom_up\u001b[0m\u001b[0;34m(\u001b[0m\u001b[0ma\u001b[0m\u001b[0;34m,\u001b[0m \u001b[0mF\u001b[0m\u001b[0;34m,\u001b[0m \u001b[0matoms\u001b[0m\u001b[0;34m,\u001b[0m \u001b[0mnonbasic\u001b[0m\u001b[0;34m)\u001b[0m \u001b[0;32mfor\u001b[0m \u001b[0ma\u001b[0m \u001b[0;32min\u001b[0m \u001b[0margs\u001b[0m\u001b[0;34m]\u001b[0m\u001b[0;34m)\u001b[0m\u001b[0;34m\u001b[0m\u001b[0;34m\u001b[0m\u001b[0m\n\u001b[0m\u001b[1;32m   1150\u001b[0m             \u001b[0;32mif\u001b[0m \u001b[0margs\u001b[0m \u001b[0;34m!=\u001b[0m \u001b[0mrv\u001b[0m\u001b[0;34m.\u001b[0m\u001b[0margs\u001b[0m\u001b[0;34m:\u001b[0m\u001b[0;34m\u001b[0m\u001b[0;34m\u001b[0m\u001b[0m\n\u001b[1;32m   1151\u001b[0m                 \u001b[0mrv\u001b[0m \u001b[0;34m=\u001b[0m \u001b[0mrv\u001b[0m\u001b[0;34m.\u001b[0m\u001b[0mfunc\u001b[0m\u001b[0;34m(\u001b[0m\u001b[0;34m*\u001b[0m\u001b[0margs\u001b[0m\u001b[0;34m)\u001b[0m\u001b[0;34m\u001b[0m\u001b[0;34m\u001b[0m\u001b[0m\n",
      "\u001b[0;32m~/opt/anaconda3/lib/python3.8/site-packages/sympy/simplify/simplify.py\u001b[0m in \u001b[0;36mbottom_up\u001b[0;34m(rv, F, atoms, nonbasic)\u001b[0m\n\u001b[1;32m   1150\u001b[0m             \u001b[0;32mif\u001b[0m \u001b[0margs\u001b[0m \u001b[0;34m!=\u001b[0m \u001b[0mrv\u001b[0m\u001b[0;34m.\u001b[0m\u001b[0margs\u001b[0m\u001b[0;34m:\u001b[0m\u001b[0;34m\u001b[0m\u001b[0;34m\u001b[0m\u001b[0m\n\u001b[1;32m   1151\u001b[0m                 \u001b[0mrv\u001b[0m \u001b[0;34m=\u001b[0m \u001b[0mrv\u001b[0m\u001b[0;34m.\u001b[0m\u001b[0mfunc\u001b[0m\u001b[0;34m(\u001b[0m\u001b[0;34m*\u001b[0m\u001b[0margs\u001b[0m\u001b[0;34m)\u001b[0m\u001b[0;34m\u001b[0m\u001b[0;34m\u001b[0m\u001b[0m\n\u001b[0;32m-> 1152\u001b[0;31m             \u001b[0mrv\u001b[0m \u001b[0;34m=\u001b[0m \u001b[0mF\u001b[0m\u001b[0;34m(\u001b[0m\u001b[0mrv\u001b[0m\u001b[0;34m)\u001b[0m\u001b[0;34m\u001b[0m\u001b[0;34m\u001b[0m\u001b[0m\n\u001b[0m\u001b[1;32m   1153\u001b[0m         \u001b[0;32melif\u001b[0m \u001b[0matoms\u001b[0m\u001b[0;34m:\u001b[0m\u001b[0;34m\u001b[0m\u001b[0;34m\u001b[0m\u001b[0m\n\u001b[1;32m   1154\u001b[0m             \u001b[0mrv\u001b[0m \u001b[0;34m=\u001b[0m \u001b[0mF\u001b[0m\u001b[0;34m(\u001b[0m\u001b[0mrv\u001b[0m\u001b[0;34m)\u001b[0m\u001b[0;34m\u001b[0m\u001b[0;34m\u001b[0m\u001b[0m\n",
      "\u001b[0;32m~/opt/anaconda3/lib/python3.8/site-packages/sympy/simplify/fu.py\u001b[0m in \u001b[0;36mf\u001b[0;34m(rv)\u001b[0m\n\u001b[1;32m    934\u001b[0m                     for v in byrad.values()]))\n\u001b[1;32m    935\u001b[0m             \u001b[0;32melse\u001b[0m\u001b[0;34m:\u001b[0m\u001b[0;34m\u001b[0m\u001b[0;34m\u001b[0m\u001b[0m\n\u001b[0;32m--> 936\u001b[0;31m                 \u001b[0mrv\u001b[0m \u001b[0;34m=\u001b[0m \u001b[0mdo\u001b[0m\u001b[0;34m(\u001b[0m\u001b[0mrv\u001b[0m\u001b[0;34m)\u001b[0m  \u001b[0;31m# final pass to resolve any new inducible pairs\u001b[0m\u001b[0;34m\u001b[0m\u001b[0;34m\u001b[0m\u001b[0m\n\u001b[0m\u001b[1;32m    937\u001b[0m                 \u001b[0;32mbreak\u001b[0m\u001b[0;34m\u001b[0m\u001b[0;34m\u001b[0m\u001b[0m\n\u001b[1;32m    938\u001b[0m \u001b[0;34m\u001b[0m\u001b[0m\n",
      "\u001b[0;32m~/opt/anaconda3/lib/python3.8/site-packages/sympy/simplify/fu.py\u001b[0m in \u001b[0;36mdo\u001b[0;34m(rv, first)\u001b[0m\n\u001b[1;32m    861\u001b[0m                             \u001b[0;32mcontinue\u001b[0m\u001b[0;34m\u001b[0m\u001b[0;34m\u001b[0m\u001b[0m\n\u001b[1;32m    862\u001b[0m                         \u001b[0mwas\u001b[0m \u001b[0;34m=\u001b[0m \u001b[0mai\u001b[0m \u001b[0;34m+\u001b[0m \u001b[0maj\u001b[0m\u001b[0;34m\u001b[0m\u001b[0;34m\u001b[0m\u001b[0m\n\u001b[0;32m--> 863\u001b[0;31m                         \u001b[0mnew\u001b[0m \u001b[0;34m=\u001b[0m \u001b[0mdo\u001b[0m\u001b[0;34m(\u001b[0m\u001b[0mwas\u001b[0m\u001b[0;34m)\u001b[0m\u001b[0;34m\u001b[0m\u001b[0;34m\u001b[0m\u001b[0m\n\u001b[0m\u001b[1;32m    864\u001b[0m                         \u001b[0;32mif\u001b[0m \u001b[0mnew\u001b[0m \u001b[0;34m!=\u001b[0m \u001b[0mwas\u001b[0m\u001b[0;34m:\u001b[0m\u001b[0;34m\u001b[0m\u001b[0;34m\u001b[0m\u001b[0m\n\u001b[1;32m    865\u001b[0m                             \u001b[0margs\u001b[0m\u001b[0;34m[\u001b[0m\u001b[0mi\u001b[0m\u001b[0;34m]\u001b[0m \u001b[0;34m=\u001b[0m \u001b[0mnew\u001b[0m  \u001b[0;31m# update in place\u001b[0m\u001b[0;34m\u001b[0m\u001b[0;34m\u001b[0m\u001b[0m\n",
      "\u001b[0;32m~/opt/anaconda3/lib/python3.8/site-packages/sympy/simplify/fu.py\u001b[0m in \u001b[0;36mdo\u001b[0;34m(rv, first)\u001b[0m\n\u001b[1;32m    875\u001b[0m \u001b[0;34m\u001b[0m\u001b[0m\n\u001b[1;32m    876\u001b[0m             \u001b[0;31m# two-arg Add\u001b[0m\u001b[0;34m\u001b[0m\u001b[0;34m\u001b[0m\u001b[0;34m\u001b[0m\u001b[0m\n\u001b[0;32m--> 877\u001b[0;31m             \u001b[0msplit\u001b[0m \u001b[0;34m=\u001b[0m \u001b[0mtrig_split\u001b[0m\u001b[0;34m(\u001b[0m\u001b[0;34m*\u001b[0m\u001b[0margs\u001b[0m\u001b[0;34m,\u001b[0m \u001b[0mtwo\u001b[0m\u001b[0;34m=\u001b[0m\u001b[0;32mTrue\u001b[0m\u001b[0;34m)\u001b[0m\u001b[0;34m\u001b[0m\u001b[0;34m\u001b[0m\u001b[0m\n\u001b[0m\u001b[1;32m    878\u001b[0m             \u001b[0;32mif\u001b[0m \u001b[0;32mnot\u001b[0m \u001b[0msplit\u001b[0m\u001b[0;34m:\u001b[0m\u001b[0;34m\u001b[0m\u001b[0;34m\u001b[0m\u001b[0m\n\u001b[1;32m    879\u001b[0m                 \u001b[0;32mreturn\u001b[0m \u001b[0mrv\u001b[0m\u001b[0;34m\u001b[0m\u001b[0;34m\u001b[0m\u001b[0m\n",
      "\u001b[0;32m~/opt/anaconda3/lib/python3.8/site-packages/sympy/simplify/fu.py\u001b[0m in \u001b[0;36mtrig_split\u001b[0;34m(a, b, two)\u001b[0m\n\u001b[1;32m   1952\u001b[0m     \u001b[0ma\u001b[0m\u001b[0;34m,\u001b[0m \u001b[0mb\u001b[0m \u001b[0;34m=\u001b[0m \u001b[0;34m[\u001b[0m\u001b[0mFactors\u001b[0m\u001b[0;34m(\u001b[0m\u001b[0mi\u001b[0m\u001b[0;34m)\u001b[0m \u001b[0;32mfor\u001b[0m \u001b[0mi\u001b[0m \u001b[0;32min\u001b[0m \u001b[0;34m(\u001b[0m\u001b[0ma\u001b[0m\u001b[0;34m,\u001b[0m \u001b[0mb\u001b[0m\u001b[0;34m)\u001b[0m\u001b[0;34m]\u001b[0m\u001b[0;34m\u001b[0m\u001b[0;34m\u001b[0m\u001b[0m\n\u001b[1;32m   1953\u001b[0m     \u001b[0mua\u001b[0m\u001b[0;34m,\u001b[0m \u001b[0mub\u001b[0m \u001b[0;34m=\u001b[0m \u001b[0ma\u001b[0m\u001b[0;34m.\u001b[0m\u001b[0mnormal\u001b[0m\u001b[0;34m(\u001b[0m\u001b[0mb\u001b[0m\u001b[0;34m)\u001b[0m\u001b[0;34m\u001b[0m\u001b[0;34m\u001b[0m\u001b[0m\n\u001b[0;32m-> 1954\u001b[0;31m     \u001b[0mgcd\u001b[0m \u001b[0;34m=\u001b[0m \u001b[0ma\u001b[0m\u001b[0;34m.\u001b[0m\u001b[0mgcd\u001b[0m\u001b[0;34m(\u001b[0m\u001b[0mb\u001b[0m\u001b[0;34m)\u001b[0m\u001b[0;34m.\u001b[0m\u001b[0mas_expr\u001b[0m\u001b[0;34m(\u001b[0m\u001b[0;34m)\u001b[0m\u001b[0;34m\u001b[0m\u001b[0;34m\u001b[0m\u001b[0m\n\u001b[0m\u001b[1;32m   1955\u001b[0m     \u001b[0mn1\u001b[0m \u001b[0;34m=\u001b[0m \u001b[0mn2\u001b[0m \u001b[0;34m=\u001b[0m \u001b[0;36m1\u001b[0m\u001b[0;34m\u001b[0m\u001b[0;34m\u001b[0m\u001b[0m\n\u001b[1;32m   1956\u001b[0m     \u001b[0;32mif\u001b[0m \u001b[0mS\u001b[0m\u001b[0;34m.\u001b[0m\u001b[0mNegativeOne\u001b[0m \u001b[0;32min\u001b[0m \u001b[0mua\u001b[0m\u001b[0;34m.\u001b[0m\u001b[0mfactors\u001b[0m\u001b[0;34m:\u001b[0m\u001b[0;34m\u001b[0m\u001b[0;34m\u001b[0m\u001b[0m\n",
      "\u001b[0;32m~/opt/anaconda3/lib/python3.8/site-packages/sympy/core/exprtools.py\u001b[0m in \u001b[0;36mas_expr\u001b[0;34m(self)\u001b[0m\n\u001b[1;32m    455\u001b[0m             \u001b[0;32melse\u001b[0m\u001b[0;34m:\u001b[0m\u001b[0;34m\u001b[0m\u001b[0;34m\u001b[0m\u001b[0m\n\u001b[1;32m    456\u001b[0m                 \u001b[0margs\u001b[0m\u001b[0;34m.\u001b[0m\u001b[0mappend\u001b[0m\u001b[0;34m(\u001b[0m\u001b[0mfactor\u001b[0m\u001b[0;34m)\u001b[0m\u001b[0;34m\u001b[0m\u001b[0;34m\u001b[0m\u001b[0m\n\u001b[0;32m--> 457\u001b[0;31m         \u001b[0;32mreturn\u001b[0m \u001b[0mMul\u001b[0m\u001b[0;34m(\u001b[0m\u001b[0;34m*\u001b[0m\u001b[0margs\u001b[0m\u001b[0;34m)\u001b[0m\u001b[0;34m\u001b[0m\u001b[0;34m\u001b[0m\u001b[0m\n\u001b[0m\u001b[1;32m    458\u001b[0m \u001b[0;34m\u001b[0m\u001b[0m\n\u001b[1;32m    459\u001b[0m     \u001b[0;32mdef\u001b[0m \u001b[0mmul\u001b[0m\u001b[0;34m(\u001b[0m\u001b[0mself\u001b[0m\u001b[0;34m,\u001b[0m \u001b[0mother\u001b[0m\u001b[0;34m)\u001b[0m\u001b[0;34m:\u001b[0m  \u001b[0;31m# Factors\u001b[0m\u001b[0;34m\u001b[0m\u001b[0;34m\u001b[0m\u001b[0m\n",
      "\u001b[0;32m~/opt/anaconda3/lib/python3.8/site-packages/sympy/core/operations.py\u001b[0m in \u001b[0;36m__new__\u001b[0;34m(cls, *args, **options)\u001b[0m\n\u001b[1;32m     28\u001b[0m     \u001b[0;34m@\u001b[0m\u001b[0mcacheit\u001b[0m\u001b[0;34m\u001b[0m\u001b[0;34m\u001b[0m\u001b[0m\n\u001b[1;32m     29\u001b[0m     \u001b[0;32mdef\u001b[0m \u001b[0m__new__\u001b[0m\u001b[0;34m(\u001b[0m\u001b[0mcls\u001b[0m\u001b[0;34m,\u001b[0m \u001b[0;34m*\u001b[0m\u001b[0margs\u001b[0m\u001b[0;34m,\u001b[0m \u001b[0;34m**\u001b[0m\u001b[0moptions\u001b[0m\u001b[0;34m)\u001b[0m\u001b[0;34m:\u001b[0m\u001b[0;34m\u001b[0m\u001b[0;34m\u001b[0m\u001b[0m\n\u001b[0;32m---> 30\u001b[0;31m         \u001b[0;32mfrom\u001b[0m \u001b[0msympy\u001b[0m \u001b[0;32mimport\u001b[0m \u001b[0mOrder\u001b[0m\u001b[0;34m\u001b[0m\u001b[0;34m\u001b[0m\u001b[0m\n\u001b[0m\u001b[1;32m     31\u001b[0m         \u001b[0margs\u001b[0m \u001b[0;34m=\u001b[0m \u001b[0mlist\u001b[0m\u001b[0;34m(\u001b[0m\u001b[0mmap\u001b[0m\u001b[0;34m(\u001b[0m\u001b[0m_sympify\u001b[0m\u001b[0;34m,\u001b[0m \u001b[0margs\u001b[0m\u001b[0;34m)\u001b[0m\u001b[0;34m)\u001b[0m\u001b[0;34m\u001b[0m\u001b[0;34m\u001b[0m\u001b[0m\n\u001b[1;32m     32\u001b[0m         \u001b[0margs\u001b[0m \u001b[0;34m=\u001b[0m \u001b[0;34m[\u001b[0m\u001b[0ma\u001b[0m \u001b[0;32mfor\u001b[0m \u001b[0ma\u001b[0m \u001b[0;32min\u001b[0m \u001b[0margs\u001b[0m \u001b[0;32mif\u001b[0m \u001b[0ma\u001b[0m \u001b[0;32mis\u001b[0m \u001b[0;32mnot\u001b[0m \u001b[0mcls\u001b[0m\u001b[0;34m.\u001b[0m\u001b[0midentity\u001b[0m\u001b[0;34m]\u001b[0m\u001b[0;34m\u001b[0m\u001b[0;34m\u001b[0m\u001b[0m\n",
      "\u001b[0;32m~/opt/anaconda3/lib/python3.8/importlib/_bootstrap.py\u001b[0m in \u001b[0;36m_handle_fromlist\u001b[0;34m(module, fromlist, import_, recursive)\u001b[0m\n",
      "\u001b[0;31mKeyboardInterrupt\u001b[0m: "
     ]
    }
   ],
   "source": [
    "B = sp.simplify(\n",
    "    A.subs(h,0) + \n",
    "    h*(sp.simplify((A - A.subs(h,0))/h).subs(h,0)) + \n",
    "    h**2*(sp.simplify(((A - A.subs(h,0))/h - sp.simplify((A - A.subs(h,0))/h).subs(h,0))/h ).subs(h,0))\n",
    ")\n",
    "B"
   ]
  },
  {
   "cell_type": "code",
   "execution_count": null,
   "metadata": {},
   "outputs": [],
   "source": []
  },
  {
   "cell_type": "code",
   "execution_count": null,
   "metadata": {},
   "outputs": [],
   "source": [
    "Sympl_DNeg_J_Det = sp.simplify(Sympl_DNeg_J2.det())\n",
    "Sympl_DNeg_J_Det"
   ]
  },
  {
   "cell_type": "code",
   "execution_count": null,
   "metadata": {},
   "outputs": [],
   "source": []
  }
 ],
 "metadata": {
  "kernelspec": {
   "display_name": "Python 3",
   "language": "python",
   "name": "python3"
  },
  "language_info": {
   "codemirror_mode": {
    "name": "ipython",
    "version": 3
   },
   "file_extension": ".py",
   "mimetype": "text/x-python",
   "name": "python",
   "nbconvert_exporter": "python",
   "pygments_lexer": "ipython3",
   "version": "3.8.5"
  }
 },
 "nbformat": 4,
 "nbformat_minor": 4
}
