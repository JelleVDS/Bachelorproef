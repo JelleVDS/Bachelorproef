{
 "cells": [
  {
   "cell_type": "code",
   "execution_count": 16,
   "metadata": {},
   "outputs": [],
   "source": [
    "import sympy as sp\n",
    "from sympy.polys.polymatrix import PolyMatrix"
   ]
  },
  {
   "cell_type": "code",
   "execution_count": 110,
   "metadata": {},
   "outputs": [],
   "source": [
    "def polymatrix1D(A, h):\n",
    "    B = []\n",
    "    for i in range(len(A)):\n",
    "        C = sp.Poly(A[i],h).all_coeffs()\n",
    "        if len(C) > len(B):\n",
    "            N = len(C) - len(B)\n",
    "            B += [sp.Matrix([[0 for l in range(len(A))]]) for _ in range(N)]\n",
    "        for j in range(len(C)):\n",
    "            B[j][0,i] = sp.simplify(C[-(j+1)])\n",
    "    return B\n",
    "\n",
    "def polymatrix2D(A, h):\n",
    "    B = []\n",
    "    N1, N2 = A.shape\n",
    "    for i in range(N1):\n",
    "        for j in range(N2):\n",
    "            C = sp.Poly(A[i,j], h).all_coeffs()\n",
    "            if len(C) > len(B):\n",
    "                N = len(C) - len(B)\n",
    "                B += [sp.zeros(A.shape[0]) for _ in range(N)]\n",
    "            for k in range(len(C)):\n",
    "                B[k][i,j] = sp.simplify(C[-(k+1)])    \n",
    "    return B"
   ]
  },
  {
   "cell_type": "code",
   "execution_count": 66,
   "metadata": {},
   "outputs": [],
   "source": [
    "joe = [sp.Matrix([[0 for l in range(3)]])  for _ in range(4)]\n",
    "joe[2][0,2] = 1"
   ]
  },
  {
   "cell_type": "code",
   "execution_count": 76,
   "metadata": {},
   "outputs": [
    {
     "data": {
      "text/latex": [
       "$\\displaystyle \\left[\\begin{matrix}0 & 0\\\\0 & 0\\end{matrix}\\right]$"
      ],
      "text/plain": [
       "Matrix([\n",
       "[0, 0],\n",
       "[0, 0]])"
      ]
     },
     "execution_count": 76,
     "metadata": {},
     "output_type": "execute_result"
    }
   ],
   "source": [
    "sp.zeros((2,2)[0])"
   ]
  },
  {
   "cell_type": "code",
   "execution_count": 2,
   "metadata": {},
   "outputs": [],
   "source": [
    "t, l, phi, theta, p_t, p_l, p_phi, p_theta, h = sp.symbols('t l phi theta p_t p_l p_phi p_theta h')\n",
    "z0 = sp.Matrix([[t, l, phi, theta, p_t, p_l, p_phi, p_theta]])\n",
    "r = sp.Function('r')(l)\n",
    "\n",
    "H1 = 0.5*(-p_t**2 + p_l**2)\n",
    "H2 = 0.5*(p_theta**2/r**2)\n",
    "H3 = 0.5*(p_phi**2/(r*sp.sin(theta))**2)"
   ]
  },
  {
   "cell_type": "code",
   "execution_count": null,
   "metadata": {},
   "outputs": [],
   "source": []
  },
  {
   "cell_type": "code",
   "execution_count": 3,
   "metadata": {},
   "outputs": [],
   "source": [
    "def Poiss(z, H):\n",
    "    Z = 0*z\n",
    "    for i in range(4):\n",
    "        Z = Z + sp.diff(z, z0[i])*sp.diff(H, z0[i+4])\n",
    "        Z = Z - sp.diff(z, z0[i+4])*sp.diff(H, z0[i])\n",
    "    return Z"
   ]
  },
  {
   "cell_type": "code",
   "execution_count": 4,
   "metadata": {},
   "outputs": [
    {
     "data": {
      "text/latex": [
       "$\\displaystyle \\left[\\begin{matrix}- 0.5 h p_{t} + t & 0.5 h p_{l} + l & \\phi & \\theta & p_{t} & p_{l} & p_{\\phi} & p_{\\theta}\\end{matrix}\\right]$"
      ],
      "text/plain": [
       "Matrix([[-0.5*h*p_t + t, 0.5*h*p_l + l, phi, theta, p_t, p_l, p_phi, p_theta]])"
      ]
     },
     "execution_count": 4,
     "metadata": {},
     "output_type": "execute_result"
    }
   ],
   "source": [
    "z1 = z0 + 0.5*h*Poiss(z0, H1)\n",
    "z1"
   ]
  },
  {
   "cell_type": "code",
   "execution_count": 5,
   "metadata": {},
   "outputs": [
    {
     "data": {
      "text/latex": [
       "$\\displaystyle \\left[\\begin{matrix}- 0.5 h p_{t} + t & \\frac{0.25 h^{2} p_{\\theta}^{2} \\frac{d}{d l} r{\\left(l \\right)}}{r^{3}{\\left(l \\right)}} + 0.5 h p_{l} + l & \\phi & \\frac{0.5 h p_{\\theta}}{r^{2}{\\left(l \\right)}} + \\theta & p_{t} & \\frac{0.5 h p_{\\theta}^{2} \\frac{d}{d l} r{\\left(l \\right)}}{r^{3}{\\left(l \\right)}} + p_{l} & p_{\\phi} & p_{\\theta}\\end{matrix}\\right]$"
      ],
      "text/plain": [
       "Matrix([[-0.5*h*p_t + t, 0.25*h**2*p_theta**2*Derivative(r(l), l)/r(l)**3 + 0.5*h*p_l + l, phi, 0.5*h*p_theta/r(l)**2 + theta, p_t, 0.5*h*p_theta**2*Derivative(r(l), l)/r(l)**3 + p_l, p_phi, p_theta]])"
      ]
     },
     "execution_count": 5,
     "metadata": {},
     "output_type": "execute_result"
    }
   ],
   "source": [
    "z2 = z1 + 0.5*h*Poiss(z1, H2)\n",
    "z2"
   ]
  },
  {
   "cell_type": "code",
   "execution_count": 6,
   "metadata": {},
   "outputs": [
    {
     "data": {
      "text/latex": [
       "$\\displaystyle \\left[\\begin{matrix}- 0.5 h p_{t} + t & \\frac{0.25 h^{2} p_{\\theta}^{2} \\frac{d}{d l} r{\\left(l \\right)}}{r^{3}{\\left(l \\right)}} + 0.5 h p_{l} + h \\left(\\frac{0.5 h^{2} p_{\\phi}^{2} p_{\\theta} \\cos{\\left(\\theta \\right)} \\frac{d}{d l} r{\\left(l \\right)}}{r^{5}{\\left(l \\right)} \\sin^{3}{\\left(\\theta \\right)}} + \\frac{0.5 h p_{\\phi}^{2} \\frac{d}{d l} r{\\left(l \\right)}}{r^{3}{\\left(l \\right)} \\sin^{2}{\\left(\\theta \\right)}}\\right) + l & \\frac{1.0 h p_{\\phi}}{r^{2}{\\left(l \\right)} \\sin^{2}{\\left(\\theta \\right)}} + \\phi & \\frac{0.5 h^{2} p_{\\phi}^{2} \\cos{\\left(\\theta \\right)}}{r^{4}{\\left(l \\right)} \\sin^{3}{\\left(\\theta \\right)}} + \\frac{0.5 h p_{\\theta}}{r^{2}{\\left(l \\right)}} + \\theta & p_{t} & \\frac{0.5 h p_{\\theta}^{2} \\frac{d}{d l} r{\\left(l \\right)}}{r^{3}{\\left(l \\right)}} + h \\left(\\frac{1.0 h p_{\\phi}^{2} p_{\\theta} \\cos{\\left(\\theta \\right)} \\frac{d}{d l} r{\\left(l \\right)}}{r^{5}{\\left(l \\right)} \\sin^{3}{\\left(\\theta \\right)}} + \\frac{1.0 p_{\\phi}^{2} \\frac{d}{d l} r{\\left(l \\right)}}{r^{3}{\\left(l \\right)} \\sin^{2}{\\left(\\theta \\right)}}\\right) + p_{l} & p_{\\phi} & \\frac{1.0 h p_{\\phi}^{2} \\cos{\\left(\\theta \\right)}}{r^{2}{\\left(l \\right)} \\sin^{3}{\\left(\\theta \\right)}} + p_{\\theta}\\end{matrix}\\right]$"
      ],
      "text/plain": [
       "Matrix([[-0.5*h*p_t + t, 0.25*h**2*p_theta**2*Derivative(r(l), l)/r(l)**3 + 0.5*h*p_l + h*(0.5*h**2*p_phi**2*p_theta*cos(theta)*Derivative(r(l), l)/(r(l)**5*sin(theta)**3) + 0.5*h*p_phi**2*Derivative(r(l), l)/(r(l)**3*sin(theta)**2)) + l, 1.0*h*p_phi/(r(l)**2*sin(theta)**2) + phi, 0.5*h**2*p_phi**2*cos(theta)/(r(l)**4*sin(theta)**3) + 0.5*h*p_theta/r(l)**2 + theta, p_t, 0.5*h*p_theta**2*Derivative(r(l), l)/r(l)**3 + h*(1.0*h*p_phi**2*p_theta*cos(theta)*Derivative(r(l), l)/(r(l)**5*sin(theta)**3) + 1.0*p_phi**2*Derivative(r(l), l)/(r(l)**3*sin(theta)**2)) + p_l, p_phi, 1.0*h*p_phi**2*cos(theta)/(r(l)**2*sin(theta)**3) + p_theta]])"
      ]
     },
     "execution_count": 6,
     "metadata": {},
     "output_type": "execute_result"
    }
   ],
   "source": [
    "z3 = z2 + h*Poiss(z2, H3)\n",
    "z3"
   ]
  },
  {
   "cell_type": "code",
   "execution_count": 7,
   "metadata": {},
   "outputs": [
    {
     "data": {
      "text/latex": [
       "$\\displaystyle \\left[\\begin{matrix}- 0.5 h p_{t} + t & \\frac{0.25 h^{2} p_{\\theta}^{2} \\frac{d}{d l} r{\\left(l \\right)}}{r^{3}{\\left(l \\right)}} + 0.5 h p_{l} + 0.5 h \\left(\\frac{0.5 h p_{\\theta}^{2} \\frac{d}{d l} r{\\left(l \\right)}}{r^{3}{\\left(l \\right)}} + \\frac{1.0 h p_{\\theta} \\left(- \\frac{0.5 h^{2} p_{\\phi}^{2} p_{\\theta} \\frac{d}{d l} r{\\left(l \\right)}}{r^{5}{\\left(l \\right)} \\sin^{2}{\\left(\\theta \\right)}} - \\frac{1.5 h^{2} p_{\\phi}^{2} p_{\\theta} \\cos^{2}{\\left(\\theta \\right)} \\frac{d}{d l} r{\\left(l \\right)}}{r^{5}{\\left(l \\right)} \\sin^{4}{\\left(\\theta \\right)}} - \\frac{1.0 h p_{\\phi}^{2} \\cos{\\left(\\theta \\right)} \\frac{d}{d l} r{\\left(l \\right)}}{r^{3}{\\left(l \\right)} \\sin^{3}{\\left(\\theta \\right)}}\\right)}{r^{2}{\\left(l \\right)}}\\right) + h \\left(\\frac{0.5 h^{2} p_{\\phi}^{2} p_{\\theta} \\cos{\\left(\\theta \\right)} \\frac{d}{d l} r{\\left(l \\right)}}{r^{5}{\\left(l \\right)} \\sin^{3}{\\left(\\theta \\right)}} + \\frac{0.5 h p_{\\phi}^{2} \\frac{d}{d l} r{\\left(l \\right)}}{r^{3}{\\left(l \\right)} \\sin^{2}{\\left(\\theta \\right)}}\\right) + l & - \\frac{1.0 h^{2} p_{\\phi} p_{\\theta} \\cos{\\left(\\theta \\right)}}{r^{4}{\\left(l \\right)} \\sin^{3}{\\left(\\theta \\right)}} + \\frac{1.0 h p_{\\phi}}{r^{2}{\\left(l \\right)} \\sin^{2}{\\left(\\theta \\right)}} + \\phi & \\frac{0.5 h^{2} p_{\\phi}^{2} \\cos{\\left(\\theta \\right)}}{r^{4}{\\left(l \\right)} \\sin^{3}{\\left(\\theta \\right)}} + \\frac{0.5 h p_{\\theta} \\left(- \\frac{0.5 h^{2} p_{\\phi}^{2}}{r^{4}{\\left(l \\right)} \\sin^{2}{\\left(\\theta \\right)}} - \\frac{1.5 h^{2} p_{\\phi}^{2} \\cos^{2}{\\left(\\theta \\right)}}{r^{4}{\\left(l \\right)} \\sin^{4}{\\left(\\theta \\right)}} + 1\\right)}{r^{2}{\\left(l \\right)}} + \\frac{0.5 h p_{\\theta}}{r^{2}{\\left(l \\right)}} + \\theta & p_{t} & \\frac{0.5 h p_{\\theta}^{2} \\frac{d}{d l} r{\\left(l \\right)}}{r^{3}{\\left(l \\right)}} + 0.5 h \\left(\\frac{1.0 h p_{\\theta} \\left(- \\frac{1.0 h p_{\\phi}^{2} p_{\\theta} \\frac{d}{d l} r{\\left(l \\right)}}{r^{5}{\\left(l \\right)} \\sin^{2}{\\left(\\theta \\right)}} - \\frac{3.0 h p_{\\phi}^{2} p_{\\theta} \\cos^{2}{\\left(\\theta \\right)} \\frac{d}{d l} r{\\left(l \\right)}}{r^{5}{\\left(l \\right)} \\sin^{4}{\\left(\\theta \\right)}} - \\frac{2.0 p_{\\phi}^{2} \\cos{\\left(\\theta \\right)} \\frac{d}{d l} r{\\left(l \\right)}}{r^{3}{\\left(l \\right)} \\sin^{3}{\\left(\\theta \\right)}}\\right)}{r^{2}{\\left(l \\right)}} + \\frac{1.0 p_{\\theta}^{2} \\frac{d}{d l} r{\\left(l \\right)}}{r^{3}{\\left(l \\right)}}\\right) + h \\left(\\frac{1.0 h p_{\\phi}^{2} p_{\\theta} \\cos{\\left(\\theta \\right)} \\frac{d}{d l} r{\\left(l \\right)}}{r^{5}{\\left(l \\right)} \\sin^{3}{\\left(\\theta \\right)}} + \\frac{1.0 p_{\\phi}^{2} \\frac{d}{d l} r{\\left(l \\right)}}{r^{3}{\\left(l \\right)} \\sin^{2}{\\left(\\theta \\right)}}\\right) + p_{l} & p_{\\phi} & \\frac{1.0 h p_{\\phi}^{2} \\cos{\\left(\\theta \\right)}}{r^{2}{\\left(l \\right)} \\sin^{3}{\\left(\\theta \\right)}} + \\frac{0.5 h p_{\\theta} \\left(- \\frac{1.0 h p_{\\phi}^{2}}{r^{2}{\\left(l \\right)} \\sin^{2}{\\left(\\theta \\right)}} - \\frac{3.0 h p_{\\phi}^{2} \\cos^{2}{\\left(\\theta \\right)}}{r^{2}{\\left(l \\right)} \\sin^{4}{\\left(\\theta \\right)}}\\right)}{r^{2}{\\left(l \\right)}} + p_{\\theta}\\end{matrix}\\right]$"
      ],
      "text/plain": [
       "Matrix([[-0.5*h*p_t + t, 0.25*h**2*p_theta**2*Derivative(r(l), l)/r(l)**3 + 0.5*h*p_l + 0.5*h*(0.5*h*p_theta**2*Derivative(r(l), l)/r(l)**3 + 1.0*h*p_theta*(-0.5*h**2*p_phi**2*p_theta*Derivative(r(l), l)/(r(l)**5*sin(theta)**2) - 1.5*h**2*p_phi**2*p_theta*cos(theta)**2*Derivative(r(l), l)/(r(l)**5*sin(theta)**4) - 1.0*h*p_phi**2*cos(theta)*Derivative(r(l), l)/(r(l)**3*sin(theta)**3))/r(l)**2) + h*(0.5*h**2*p_phi**2*p_theta*cos(theta)*Derivative(r(l), l)/(r(l)**5*sin(theta)**3) + 0.5*h*p_phi**2*Derivative(r(l), l)/(r(l)**3*sin(theta)**2)) + l, -1.0*h**2*p_phi*p_theta*cos(theta)/(r(l)**4*sin(theta)**3) + 1.0*h*p_phi/(r(l)**2*sin(theta)**2) + phi, 0.5*h**2*p_phi**2*cos(theta)/(r(l)**4*sin(theta)**3) + 0.5*h*p_theta*(-0.5*h**2*p_phi**2/(r(l)**4*sin(theta)**2) - 1.5*h**2*p_phi**2*cos(theta)**2/(r(l)**4*sin(theta)**4) + 1)/r(l)**2 + 0.5*h*p_theta/r(l)**2 + theta, p_t, 0.5*h*p_theta**2*Derivative(r(l), l)/r(l)**3 + 0.5*h*(1.0*h*p_theta*(-1.0*h*p_phi**2*p_theta*Derivative(r(l), l)/(r(l)**5*sin(theta)**2) - 3.0*h*p_phi**2*p_theta*cos(theta)**2*Derivative(r(l), l)/(r(l)**5*sin(theta)**4) - 2.0*p_phi**2*cos(theta)*Derivative(r(l), l)/(r(l)**3*sin(theta)**3))/r(l)**2 + 1.0*p_theta**2*Derivative(r(l), l)/r(l)**3) + h*(1.0*h*p_phi**2*p_theta*cos(theta)*Derivative(r(l), l)/(r(l)**5*sin(theta)**3) + 1.0*p_phi**2*Derivative(r(l), l)/(r(l)**3*sin(theta)**2)) + p_l, p_phi, 1.0*h*p_phi**2*cos(theta)/(r(l)**2*sin(theta)**3) + 0.5*h*p_theta*(-1.0*h*p_phi**2/(r(l)**2*sin(theta)**2) - 3.0*h*p_phi**2*cos(theta)**2/(r(l)**2*sin(theta)**4))/r(l)**2 + p_theta]])"
      ]
     },
     "execution_count": 7,
     "metadata": {},
     "output_type": "execute_result"
    }
   ],
   "source": [
    "z4 = z3 + 0.5*h*Poiss(z3, H2)\n",
    "z4"
   ]
  },
  {
   "cell_type": "code",
   "execution_count": 196,
   "metadata": {},
   "outputs": [
    {
     "data": {
      "text/latex": [
       "$\\displaystyle \\left[\\begin{matrix}- 1.0 h p_{t} + t & \\frac{0.25 h^{2} p_{\\theta}^{2} \\frac{d}{d l} r{\\left(l \\right)}}{r^{3}{\\left(l \\right)}} + 0.5 h p_{l} \\left(\\frac{0.25 h^{2} p_{\\theta}^{2} \\frac{d^{2}}{d l^{2}} r{\\left(l \\right)}}{r^{3}{\\left(l \\right)}} - \\frac{0.75 h^{2} p_{\\theta}^{2} \\left(\\frac{d}{d l} r{\\left(l \\right)}\\right)^{2}}{r^{4}{\\left(l \\right)}} + 0.5 h \\left(\\frac{0.5 h p_{\\theta}^{2} \\frac{d^{2}}{d l^{2}} r{\\left(l \\right)}}{r^{3}{\\left(l \\right)}} - \\frac{1.5 h p_{\\theta}^{2} \\left(\\frac{d}{d l} r{\\left(l \\right)}\\right)^{2}}{r^{4}{\\left(l \\right)}} - \\frac{2.0 h p_{\\theta} \\left(- \\frac{0.5 h^{2} p_{\\phi}^{2} p_{\\theta} \\frac{d}{d l} r{\\left(l \\right)}}{r^{5}{\\left(l \\right)} \\sin^{2}{\\left(\\theta \\right)}} - \\frac{1.5 h^{2} p_{\\phi}^{2} p_{\\theta} \\cos^{2}{\\left(\\theta \\right)} \\frac{d}{d l} r{\\left(l \\right)}}{r^{5}{\\left(l \\right)} \\sin^{4}{\\left(\\theta \\right)}} - \\frac{1.0 h p_{\\phi}^{2} \\cos{\\left(\\theta \\right)} \\frac{d}{d l} r{\\left(l \\right)}}{r^{3}{\\left(l \\right)} \\sin^{3}{\\left(\\theta \\right)}}\\right) \\frac{d}{d l} r{\\left(l \\right)}}{r^{3}{\\left(l \\right)}} + \\frac{1.0 h p_{\\theta} \\left(- \\frac{0.5 h^{2} p_{\\phi}^{2} p_{\\theta} \\frac{d^{2}}{d l^{2}} r{\\left(l \\right)}}{r^{5}{\\left(l \\right)} \\sin^{2}{\\left(\\theta \\right)}} - \\frac{1.5 h^{2} p_{\\phi}^{2} p_{\\theta} \\cos^{2}{\\left(\\theta \\right)} \\frac{d^{2}}{d l^{2}} r{\\left(l \\right)}}{r^{5}{\\left(l \\right)} \\sin^{4}{\\left(\\theta \\right)}} + \\frac{2.5 h^{2} p_{\\phi}^{2} p_{\\theta} \\left(\\frac{d}{d l} r{\\left(l \\right)}\\right)^{2}}{r^{6}{\\left(l \\right)} \\sin^{2}{\\left(\\theta \\right)}} + \\frac{7.5 h^{2} p_{\\phi}^{2} p_{\\theta} \\cos^{2}{\\left(\\theta \\right)} \\left(\\frac{d}{d l} r{\\left(l \\right)}\\right)^{2}}{r^{6}{\\left(l \\right)} \\sin^{4}{\\left(\\theta \\right)}} - \\frac{1.0 h p_{\\phi}^{2} \\cos{\\left(\\theta \\right)} \\frac{d^{2}}{d l^{2}} r{\\left(l \\right)}}{r^{3}{\\left(l \\right)} \\sin^{3}{\\left(\\theta \\right)}} + \\frac{3.0 h p_{\\phi}^{2} \\cos{\\left(\\theta \\right)} \\left(\\frac{d}{d l} r{\\left(l \\right)}\\right)^{2}}{r^{4}{\\left(l \\right)} \\sin^{3}{\\left(\\theta \\right)}}\\right)}{r^{2}{\\left(l \\right)}}\\right) + h \\left(\\frac{0.5 h^{2} p_{\\phi}^{2} p_{\\theta} \\cos{\\left(\\theta \\right)} \\frac{d^{2}}{d l^{2}} r{\\left(l \\right)}}{r^{5}{\\left(l \\right)} \\sin^{3}{\\left(\\theta \\right)}} - \\frac{2.5 h^{2} p_{\\phi}^{2} p_{\\theta} \\cos{\\left(\\theta \\right)} \\left(\\frac{d}{d l} r{\\left(l \\right)}\\right)^{2}}{r^{6}{\\left(l \\right)} \\sin^{3}{\\left(\\theta \\right)}} + \\frac{0.5 h p_{\\phi}^{2} \\frac{d^{2}}{d l^{2}} r{\\left(l \\right)}}{r^{3}{\\left(l \\right)} \\sin^{2}{\\left(\\theta \\right)}} - \\frac{1.5 h p_{\\phi}^{2} \\left(\\frac{d}{d l} r{\\left(l \\right)}\\right)^{2}}{r^{4}{\\left(l \\right)} \\sin^{2}{\\left(\\theta \\right)}}\\right) + 1\\right) + 0.5 h p_{l} + 0.5 h \\left(\\frac{0.5 h p_{\\theta}^{2} \\frac{d}{d l} r{\\left(l \\right)}}{r^{3}{\\left(l \\right)}} + \\frac{1.0 h p_{\\theta} \\left(- \\frac{0.5 h^{2} p_{\\phi}^{2} p_{\\theta} \\frac{d}{d l} r{\\left(l \\right)}}{r^{5}{\\left(l \\right)} \\sin^{2}{\\left(\\theta \\right)}} - \\frac{1.5 h^{2} p_{\\phi}^{2} p_{\\theta} \\cos^{2}{\\left(\\theta \\right)} \\frac{d}{d l} r{\\left(l \\right)}}{r^{5}{\\left(l \\right)} \\sin^{4}{\\left(\\theta \\right)}} - \\frac{1.0 h p_{\\phi}^{2} \\cos{\\left(\\theta \\right)} \\frac{d}{d l} r{\\left(l \\right)}}{r^{3}{\\left(l \\right)} \\sin^{3}{\\left(\\theta \\right)}}\\right)}{r^{2}{\\left(l \\right)}}\\right) + h \\left(\\frac{0.5 h^{2} p_{\\phi}^{2} p_{\\theta} \\cos{\\left(\\theta \\right)} \\frac{d}{d l} r{\\left(l \\right)}}{r^{5}{\\left(l \\right)} \\sin^{3}{\\left(\\theta \\right)}} + \\frac{0.5 h p_{\\phi}^{2} \\frac{d}{d l} r{\\left(l \\right)}}{r^{3}{\\left(l \\right)} \\sin^{2}{\\left(\\theta \\right)}}\\right) + l & - \\frac{1.0 h^{2} p_{\\phi} p_{\\theta} \\cos{\\left(\\theta \\right)}}{r^{4}{\\left(l \\right)} \\sin^{3}{\\left(\\theta \\right)}} + 0.5 h p_{l} \\left(\\frac{4.0 h^{2} p_{\\phi} p_{\\theta} \\cos{\\left(\\theta \\right)} \\frac{d}{d l} r{\\left(l \\right)}}{r^{5}{\\left(l \\right)} \\sin^{3}{\\left(\\theta \\right)}} - \\frac{2.0 h p_{\\phi} \\frac{d}{d l} r{\\left(l \\right)}}{r^{3}{\\left(l \\right)} \\sin^{2}{\\left(\\theta \\right)}}\\right) + \\frac{1.0 h p_{\\phi}}{r^{2}{\\left(l \\right)} \\sin^{2}{\\left(\\theta \\right)}} + \\phi & \\frac{0.5 h^{2} p_{\\phi}^{2} \\cos{\\left(\\theta \\right)}}{r^{4}{\\left(l \\right)} \\sin^{3}{\\left(\\theta \\right)}} + 0.5 h p_{l} \\left(- \\frac{2.0 h^{2} p_{\\phi}^{2} \\cos{\\left(\\theta \\right)} \\frac{d}{d l} r{\\left(l \\right)}}{r^{5}{\\left(l \\right)} \\sin^{3}{\\left(\\theta \\right)}} + \\frac{0.5 h p_{\\theta} \\left(\\frac{2.0 h^{2} p_{\\phi}^{2} \\frac{d}{d l} r{\\left(l \\right)}}{r^{5}{\\left(l \\right)} \\sin^{2}{\\left(\\theta \\right)}} + \\frac{6.0 h^{2} p_{\\phi}^{2} \\cos^{2}{\\left(\\theta \\right)} \\frac{d}{d l} r{\\left(l \\right)}}{r^{5}{\\left(l \\right)} \\sin^{4}{\\left(\\theta \\right)}}\\right)}{r^{2}{\\left(l \\right)}} - \\frac{1.0 h p_{\\theta} \\left(- \\frac{0.5 h^{2} p_{\\phi}^{2}}{r^{4}{\\left(l \\right)} \\sin^{2}{\\left(\\theta \\right)}} - \\frac{1.5 h^{2} p_{\\phi}^{2} \\cos^{2}{\\left(\\theta \\right)}}{r^{4}{\\left(l \\right)} \\sin^{4}{\\left(\\theta \\right)}} + 1\\right) \\frac{d}{d l} r{\\left(l \\right)}}{r^{3}{\\left(l \\right)}} - \\frac{1.0 h p_{\\theta} \\frac{d}{d l} r{\\left(l \\right)}}{r^{3}{\\left(l \\right)}}\\right) + \\frac{0.5 h p_{\\theta} \\left(- \\frac{0.5 h^{2} p_{\\phi}^{2}}{r^{4}{\\left(l \\right)} \\sin^{2}{\\left(\\theta \\right)}} - \\frac{1.5 h^{2} p_{\\phi}^{2} \\cos^{2}{\\left(\\theta \\right)}}{r^{4}{\\left(l \\right)} \\sin^{4}{\\left(\\theta \\right)}} + 1\\right)}{r^{2}{\\left(l \\right)}} + \\frac{0.5 h p_{\\theta}}{r^{2}{\\left(l \\right)}} + \\theta & p_{t} & 0.5 h p_{l} \\left(\\frac{0.5 h p_{\\theta}^{2} \\frac{d^{2}}{d l^{2}} r{\\left(l \\right)}}{r^{3}{\\left(l \\right)}} - \\frac{1.5 h p_{\\theta}^{2} \\left(\\frac{d}{d l} r{\\left(l \\right)}\\right)^{2}}{r^{4}{\\left(l \\right)}} + 0.5 h \\left(- \\frac{2.0 h p_{\\theta} \\left(- \\frac{1.0 h p_{\\phi}^{2} p_{\\theta} \\frac{d}{d l} r{\\left(l \\right)}}{r^{5}{\\left(l \\right)} \\sin^{2}{\\left(\\theta \\right)}} - \\frac{3.0 h p_{\\phi}^{2} p_{\\theta} \\cos^{2}{\\left(\\theta \\right)} \\frac{d}{d l} r{\\left(l \\right)}}{r^{5}{\\left(l \\right)} \\sin^{4}{\\left(\\theta \\right)}} - \\frac{2.0 p_{\\phi}^{2} \\cos{\\left(\\theta \\right)} \\frac{d}{d l} r{\\left(l \\right)}}{r^{3}{\\left(l \\right)} \\sin^{3}{\\left(\\theta \\right)}}\\right) \\frac{d}{d l} r{\\left(l \\right)}}{r^{3}{\\left(l \\right)}} + \\frac{1.0 h p_{\\theta} \\left(- \\frac{1.0 h p_{\\phi}^{2} p_{\\theta} \\frac{d^{2}}{d l^{2}} r{\\left(l \\right)}}{r^{5}{\\left(l \\right)} \\sin^{2}{\\left(\\theta \\right)}} - \\frac{3.0 h p_{\\phi}^{2} p_{\\theta} \\cos^{2}{\\left(\\theta \\right)} \\frac{d^{2}}{d l^{2}} r{\\left(l \\right)}}{r^{5}{\\left(l \\right)} \\sin^{4}{\\left(\\theta \\right)}} + \\frac{5.0 h p_{\\phi}^{2} p_{\\theta} \\left(\\frac{d}{d l} r{\\left(l \\right)}\\right)^{2}}{r^{6}{\\left(l \\right)} \\sin^{2}{\\left(\\theta \\right)}} + \\frac{15.0 h p_{\\phi}^{2} p_{\\theta} \\cos^{2}{\\left(\\theta \\right)} \\left(\\frac{d}{d l} r{\\left(l \\right)}\\right)^{2}}{r^{6}{\\left(l \\right)} \\sin^{4}{\\left(\\theta \\right)}} - \\frac{2.0 p_{\\phi}^{2} \\cos{\\left(\\theta \\right)} \\frac{d^{2}}{d l^{2}} r{\\left(l \\right)}}{r^{3}{\\left(l \\right)} \\sin^{3}{\\left(\\theta \\right)}} + \\frac{6.0 p_{\\phi}^{2} \\cos{\\left(\\theta \\right)} \\left(\\frac{d}{d l} r{\\left(l \\right)}\\right)^{2}}{r^{4}{\\left(l \\right)} \\sin^{3}{\\left(\\theta \\right)}}\\right)}{r^{2}{\\left(l \\right)}} + \\frac{1.0 p_{\\theta}^{2} \\frac{d^{2}}{d l^{2}} r{\\left(l \\right)}}{r^{3}{\\left(l \\right)}} - \\frac{3.0 p_{\\theta}^{2} \\left(\\frac{d}{d l} r{\\left(l \\right)}\\right)^{2}}{r^{4}{\\left(l \\right)}}\\right) + h \\left(\\frac{1.0 h p_{\\phi}^{2} p_{\\theta} \\cos{\\left(\\theta \\right)} \\frac{d^{2}}{d l^{2}} r{\\left(l \\right)}}{r^{5}{\\left(l \\right)} \\sin^{3}{\\left(\\theta \\right)}} - \\frac{5.0 h p_{\\phi}^{2} p_{\\theta} \\cos{\\left(\\theta \\right)} \\left(\\frac{d}{d l} r{\\left(l \\right)}\\right)^{2}}{r^{6}{\\left(l \\right)} \\sin^{3}{\\left(\\theta \\right)}} + \\frac{1.0 p_{\\phi}^{2} \\frac{d^{2}}{d l^{2}} r{\\left(l \\right)}}{r^{3}{\\left(l \\right)} \\sin^{2}{\\left(\\theta \\right)}} - \\frac{3.0 p_{\\phi}^{2} \\left(\\frac{d}{d l} r{\\left(l \\right)}\\right)^{2}}{r^{4}{\\left(l \\right)} \\sin^{2}{\\left(\\theta \\right)}}\\right)\\right) + \\frac{0.5 h p_{\\theta}^{2} \\frac{d}{d l} r{\\left(l \\right)}}{r^{3}{\\left(l \\right)}} + 0.5 h \\left(\\frac{1.0 h p_{\\theta} \\left(- \\frac{1.0 h p_{\\phi}^{2} p_{\\theta} \\frac{d}{d l} r{\\left(l \\right)}}{r^{5}{\\left(l \\right)} \\sin^{2}{\\left(\\theta \\right)}} - \\frac{3.0 h p_{\\phi}^{2} p_{\\theta} \\cos^{2}{\\left(\\theta \\right)} \\frac{d}{d l} r{\\left(l \\right)}}{r^{5}{\\left(l \\right)} \\sin^{4}{\\left(\\theta \\right)}} - \\frac{2.0 p_{\\phi}^{2} \\cos{\\left(\\theta \\right)} \\frac{d}{d l} r{\\left(l \\right)}}{r^{3}{\\left(l \\right)} \\sin^{3}{\\left(\\theta \\right)}}\\right)}{r^{2}{\\left(l \\right)}} + \\frac{1.0 p_{\\theta}^{2} \\frac{d}{d l} r{\\left(l \\right)}}{r^{3}{\\left(l \\right)}}\\right) + h \\left(\\frac{1.0 h p_{\\phi}^{2} p_{\\theta} \\cos{\\left(\\theta \\right)} \\frac{d}{d l} r{\\left(l \\right)}}{r^{5}{\\left(l \\right)} \\sin^{3}{\\left(\\theta \\right)}} + \\frac{1.0 p_{\\phi}^{2} \\frac{d}{d l} r{\\left(l \\right)}}{r^{3}{\\left(l \\right)} \\sin^{2}{\\left(\\theta \\right)}}\\right) + p_{l} & p_{\\phi} & 0.5 h p_{l} \\left(- \\frac{2.0 h p_{\\phi}^{2} \\cos{\\left(\\theta \\right)} \\frac{d}{d l} r{\\left(l \\right)}}{r^{3}{\\left(l \\right)} \\sin^{3}{\\left(\\theta \\right)}} - \\frac{1.0 h p_{\\theta} \\left(- \\frac{1.0 h p_{\\phi}^{2}}{r^{2}{\\left(l \\right)} \\sin^{2}{\\left(\\theta \\right)}} - \\frac{3.0 h p_{\\phi}^{2} \\cos^{2}{\\left(\\theta \\right)}}{r^{2}{\\left(l \\right)} \\sin^{4}{\\left(\\theta \\right)}}\\right) \\frac{d}{d l} r{\\left(l \\right)}}{r^{3}{\\left(l \\right)}} + \\frac{0.5 h p_{\\theta} \\left(\\frac{2.0 h p_{\\phi}^{2} \\frac{d}{d l} r{\\left(l \\right)}}{r^{3}{\\left(l \\right)} \\sin^{2}{\\left(\\theta \\right)}} + \\frac{6.0 h p_{\\phi}^{2} \\cos^{2}{\\left(\\theta \\right)} \\frac{d}{d l} r{\\left(l \\right)}}{r^{3}{\\left(l \\right)} \\sin^{4}{\\left(\\theta \\right)}}\\right)}{r^{2}{\\left(l \\right)}}\\right) + \\frac{1.0 h p_{\\phi}^{2} \\cos{\\left(\\theta \\right)}}{r^{2}{\\left(l \\right)} \\sin^{3}{\\left(\\theta \\right)}} + \\frac{0.5 h p_{\\theta} \\left(- \\frac{1.0 h p_{\\phi}^{2}}{r^{2}{\\left(l \\right)} \\sin^{2}{\\left(\\theta \\right)}} - \\frac{3.0 h p_{\\phi}^{2} \\cos^{2}{\\left(\\theta \\right)}}{r^{2}{\\left(l \\right)} \\sin^{4}{\\left(\\theta \\right)}}\\right)}{r^{2}{\\left(l \\right)}} + p_{\\theta}\\end{matrix}\\right]$"
      ],
      "text/plain": [
       "Matrix([[-1.0*h*p_t + t, 0.25*h**2*p_theta**2*Derivative(r(l), l)/r(l)**3 + 0.5*h*p_l*(0.25*h**2*p_theta**2*Derivative(r(l), (l, 2))/r(l)**3 - 0.75*h**2*p_theta**2*Derivative(r(l), l)**2/r(l)**4 + 0.5*h*(0.5*h*p_theta**2*Derivative(r(l), (l, 2))/r(l)**3 - 1.5*h*p_theta**2*Derivative(r(l), l)**2/r(l)**4 - 2.0*h*p_theta*(-0.5*h**2*p_phi**2*p_theta*Derivative(r(l), l)/(r(l)**5*sin(theta)**2) - 1.5*h**2*p_phi**2*p_theta*cos(theta)**2*Derivative(r(l), l)/(r(l)**5*sin(theta)**4) - 1.0*h*p_phi**2*cos(theta)*Derivative(r(l), l)/(r(l)**3*sin(theta)**3))*Derivative(r(l), l)/r(l)**3 + 1.0*h*p_theta*(-0.5*h**2*p_phi**2*p_theta*Derivative(r(l), (l, 2))/(r(l)**5*sin(theta)**2) - 1.5*h**2*p_phi**2*p_theta*cos(theta)**2*Derivative(r(l), (l, 2))/(r(l)**5*sin(theta)**4) + 2.5*h**2*p_phi**2*p_theta*Derivative(r(l), l)**2/(r(l)**6*sin(theta)**2) + 7.5*h**2*p_phi**2*p_theta*cos(theta)**2*Derivative(r(l), l)**2/(r(l)**6*sin(theta)**4) - 1.0*h*p_phi**2*cos(theta)*Derivative(r(l), (l, 2))/(r(l)**3*sin(theta)**3) + 3.0*h*p_phi**2*cos(theta)*Derivative(r(l), l)**2/(r(l)**4*sin(theta)**3))/r(l)**2) + h*(0.5*h**2*p_phi**2*p_theta*cos(theta)*Derivative(r(l), (l, 2))/(r(l)**5*sin(theta)**3) - 2.5*h**2*p_phi**2*p_theta*cos(theta)*Derivative(r(l), l)**2/(r(l)**6*sin(theta)**3) + 0.5*h*p_phi**2*Derivative(r(l), (l, 2))/(r(l)**3*sin(theta)**2) - 1.5*h*p_phi**2*Derivative(r(l), l)**2/(r(l)**4*sin(theta)**2)) + 1) + 0.5*h*p_l + 0.5*h*(0.5*h*p_theta**2*Derivative(r(l), l)/r(l)**3 + 1.0*h*p_theta*(-0.5*h**2*p_phi**2*p_theta*Derivative(r(l), l)/(r(l)**5*sin(theta)**2) - 1.5*h**2*p_phi**2*p_theta*cos(theta)**2*Derivative(r(l), l)/(r(l)**5*sin(theta)**4) - 1.0*h*p_phi**2*cos(theta)*Derivative(r(l), l)/(r(l)**3*sin(theta)**3))/r(l)**2) + h*(0.5*h**2*p_phi**2*p_theta*cos(theta)*Derivative(r(l), l)/(r(l)**5*sin(theta)**3) + 0.5*h*p_phi**2*Derivative(r(l), l)/(r(l)**3*sin(theta)**2)) + l, -1.0*h**2*p_phi*p_theta*cos(theta)/(r(l)**4*sin(theta)**3) + 0.5*h*p_l*(4.0*h**2*p_phi*p_theta*cos(theta)*Derivative(r(l), l)/(r(l)**5*sin(theta)**3) - 2.0*h*p_phi*Derivative(r(l), l)/(r(l)**3*sin(theta)**2)) + 1.0*h*p_phi/(r(l)**2*sin(theta)**2) + phi, 0.5*h**2*p_phi**2*cos(theta)/(r(l)**4*sin(theta)**3) + 0.5*h*p_l*(-2.0*h**2*p_phi**2*cos(theta)*Derivative(r(l), l)/(r(l)**5*sin(theta)**3) + 0.5*h*p_theta*(2.0*h**2*p_phi**2*Derivative(r(l), l)/(r(l)**5*sin(theta)**2) + 6.0*h**2*p_phi**2*cos(theta)**2*Derivative(r(l), l)/(r(l)**5*sin(theta)**4))/r(l)**2 - 1.0*h*p_theta*(-0.5*h**2*p_phi**2/(r(l)**4*sin(theta)**2) - 1.5*h**2*p_phi**2*cos(theta)**2/(r(l)**4*sin(theta)**4) + 1)*Derivative(r(l), l)/r(l)**3 - 1.0*h*p_theta*Derivative(r(l), l)/r(l)**3) + 0.5*h*p_theta*(-0.5*h**2*p_phi**2/(r(l)**4*sin(theta)**2) - 1.5*h**2*p_phi**2*cos(theta)**2/(r(l)**4*sin(theta)**4) + 1)/r(l)**2 + 0.5*h*p_theta/r(l)**2 + theta, p_t, 0.5*h*p_l*(0.5*h*p_theta**2*Derivative(r(l), (l, 2))/r(l)**3 - 1.5*h*p_theta**2*Derivative(r(l), l)**2/r(l)**4 + 0.5*h*(-2.0*h*p_theta*(-1.0*h*p_phi**2*p_theta*Derivative(r(l), l)/(r(l)**5*sin(theta)**2) - 3.0*h*p_phi**2*p_theta*cos(theta)**2*Derivative(r(l), l)/(r(l)**5*sin(theta)**4) - 2.0*p_phi**2*cos(theta)*Derivative(r(l), l)/(r(l)**3*sin(theta)**3))*Derivative(r(l), l)/r(l)**3 + 1.0*h*p_theta*(-1.0*h*p_phi**2*p_theta*Derivative(r(l), (l, 2))/(r(l)**5*sin(theta)**2) - 3.0*h*p_phi**2*p_theta*cos(theta)**2*Derivative(r(l), (l, 2))/(r(l)**5*sin(theta)**4) + 5.0*h*p_phi**2*p_theta*Derivative(r(l), l)**2/(r(l)**6*sin(theta)**2) + 15.0*h*p_phi**2*p_theta*cos(theta)**2*Derivative(r(l), l)**2/(r(l)**6*sin(theta)**4) - 2.0*p_phi**2*cos(theta)*Derivative(r(l), (l, 2))/(r(l)**3*sin(theta)**3) + 6.0*p_phi**2*cos(theta)*Derivative(r(l), l)**2/(r(l)**4*sin(theta)**3))/r(l)**2 + 1.0*p_theta**2*Derivative(r(l), (l, 2))/r(l)**3 - 3.0*p_theta**2*Derivative(r(l), l)**2/r(l)**4) + h*(1.0*h*p_phi**2*p_theta*cos(theta)*Derivative(r(l), (l, 2))/(r(l)**5*sin(theta)**3) - 5.0*h*p_phi**2*p_theta*cos(theta)*Derivative(r(l), l)**2/(r(l)**6*sin(theta)**3) + 1.0*p_phi**2*Derivative(r(l), (l, 2))/(r(l)**3*sin(theta)**2) - 3.0*p_phi**2*Derivative(r(l), l)**2/(r(l)**4*sin(theta)**2))) + 0.5*h*p_theta**2*Derivative(r(l), l)/r(l)**3 + 0.5*h*(1.0*h*p_theta*(-1.0*h*p_phi**2*p_theta*Derivative(r(l), l)/(r(l)**5*sin(theta)**2) - 3.0*h*p_phi**2*p_theta*cos(theta)**2*Derivative(r(l), l)/(r(l)**5*sin(theta)**4) - 2.0*p_phi**2*cos(theta)*Derivative(r(l), l)/(r(l)**3*sin(theta)**3))/r(l)**2 + 1.0*p_theta**2*Derivative(r(l), l)/r(l)**3) + h*(1.0*h*p_phi**2*p_theta*cos(theta)*Derivative(r(l), l)/(r(l)**5*sin(theta)**3) + 1.0*p_phi**2*Derivative(r(l), l)/(r(l)**3*sin(theta)**2)) + p_l, p_phi, 0.5*h*p_l*(-2.0*h*p_phi**2*cos(theta)*Derivative(r(l), l)/(r(l)**3*sin(theta)**3) - 1.0*h*p_theta*(-1.0*h*p_phi**2/(r(l)**2*sin(theta)**2) - 3.0*h*p_phi**2*cos(theta)**2/(r(l)**2*sin(theta)**4))*Derivative(r(l), l)/r(l)**3 + 0.5*h*p_theta*(2.0*h*p_phi**2*Derivative(r(l), l)/(r(l)**3*sin(theta)**2) + 6.0*h*p_phi**2*cos(theta)**2*Derivative(r(l), l)/(r(l)**3*sin(theta)**4))/r(l)**2) + 1.0*h*p_phi**2*cos(theta)/(r(l)**2*sin(theta)**3) + 0.5*h*p_theta*(-1.0*h*p_phi**2/(r(l)**2*sin(theta)**2) - 3.0*h*p_phi**2*cos(theta)**2/(r(l)**2*sin(theta)**4))/r(l)**2 + p_theta]])"
      ]
     },
     "execution_count": 196,
     "metadata": {},
     "output_type": "execute_result"
    }
   ],
   "source": [
    "z5 = z4 + 0.5*h*Poiss(z4, H1)\n",
    "z5"
   ]
  },
  {
   "cell_type": "code",
   "execution_count": 197,
   "metadata": {},
   "outputs": [
    {
     "data": {
      "text/latex": [
       "$\\displaystyle \\left[\\begin{matrix}- 1.0 h p_{t} + 1.0 t\\\\\\frac{h^{5} p_{l} p_{\\phi}^{2} p_{\\theta}^{2} \\left(0.25 r{\\left(l \\right)} \\sin^{2}{\\left(\\theta \\right)} \\frac{d^{2}}{d l^{2}} r{\\left(l \\right)} - 0.375 r{\\left(l \\right)} \\frac{d^{2}}{d l^{2}} r{\\left(l \\right)} - 1.75 \\sin^{2}{\\left(\\theta \\right)} \\left(\\frac{d}{d l} r{\\left(l \\right)}\\right)^{2} + 2.625 \\left(\\frac{d}{d l} r{\\left(l \\right)}\\right)^{2}\\right) + h^{4} p_{\\phi}^{2} p_{\\theta}^{2} \\left(0.5 \\sin^{2}{\\left(\\theta \\right)} - 0.75\\right) r{\\left(l \\right)} \\frac{d}{d l} r{\\left(l \\right)} + h^{3} p_{l} \\left(0.25 p_{\\phi}^{2} r{\\left(l \\right)} \\frac{d^{2}}{d l^{2}} r{\\left(l \\right)} - 0.75 p_{\\phi}^{2} \\left(\\frac{d}{d l} r{\\left(l \\right)}\\right)^{2} + p_{\\theta}^{2} \\left(0.25 r{\\left(l \\right)} \\frac{d^{2}}{d l^{2}} r{\\left(l \\right)} - 0.75 \\left(\\frac{d}{d l} r{\\left(l \\right)}\\right)^{2}\\right) \\sin^{2}{\\left(\\theta \\right)}\\right) r^{4}{\\left(l \\right)} \\sin^{2}{\\left(\\theta \\right)} + 0.5 h^{2} \\left(p_{\\phi}^{2} + p_{\\theta}^{2} \\sin^{2}{\\left(\\theta \\right)}\\right) r^{5}{\\left(l \\right)} \\sin^{2}{\\left(\\theta \\right)} \\frac{d}{d l} r{\\left(l \\right)} + \\left(1.0 h p_{l} + l\\right) r^{8}{\\left(l \\right)} \\sin^{4}{\\left(\\theta \\right)}}{r^{8}{\\left(l \\right)} \\sin^{4}{\\left(\\theta \\right)}}\\\\\\frac{2.0 h^{3} p_{l} p_{\\phi} p_{\\theta} \\cos{\\left(\\theta \\right)} \\frac{d}{d l} r{\\left(l \\right)} - 1.0 h^{2} p_{\\phi} \\left(p_{l} r{\\left(l \\right)} \\sin{\\left(\\theta \\right)} \\frac{d}{d l} r{\\left(l \\right)} + p_{\\theta} \\cos{\\left(\\theta \\right)}\\right) r{\\left(l \\right)} + 1.0 h p_{\\phi} r^{3}{\\left(l \\right)} \\sin{\\left(\\theta \\right)} + \\phi r^{5}{\\left(l \\right)} \\sin^{3}{\\left(\\theta \\right)}}{r^{5}{\\left(l \\right)} \\sin^{3}{\\left(\\theta \\right)}}\\\\\\frac{- h^{4} p_{l} p_{\\phi}^{2} p_{\\theta} \\left(1.5 \\sin^{2}{\\left(\\theta \\right)} - 2.25\\right) \\frac{d}{d l} r{\\left(l \\right)} - h^{3} p_{\\phi}^{2} \\left(0.5 p_{l} r{\\left(l \\right)} \\sin{\\left(2 \\theta \\right)} \\frac{d}{d l} r{\\left(l \\right)} + 0.25 p_{\\theta} \\cos{\\left(2 \\theta \\right)} + 0.5 p_{\\theta}\\right) r{\\left(l \\right)} + 0.25 h^{2} \\left(- p_{l} p_{\\theta} \\left(1 - \\cos{\\left(2 \\theta \\right)}\\right)^{2} r{\\left(l \\right)} \\frac{d}{d l} r{\\left(l \\right)} + p_{\\phi}^{2} \\sin{\\left(2 \\theta \\right)}\\right) r^{3}{\\left(l \\right)} + 1.0 h p_{\\theta} r^{5}{\\left(l \\right)} \\sin^{4}{\\left(\\theta \\right)} + \\theta r^{7}{\\left(l \\right)} \\sin^{4}{\\left(\\theta \\right)}}{r^{7}{\\left(l \\right)} \\sin^{4}{\\left(\\theta \\right)}}\\\\p_{t}\\\\\\frac{h^{4} p_{l} p_{\\phi}^{2} p_{\\theta}^{2} \\left(0.5 r{\\left(l \\right)} \\sin^{2}{\\left(\\theta \\right)} \\frac{d^{2}}{d l^{2}} r{\\left(l \\right)} - 0.75 r{\\left(l \\right)} \\frac{d^{2}}{d l^{2}} r{\\left(l \\right)} - 3.5 \\sin^{2}{\\left(\\theta \\right)} \\left(\\frac{d}{d l} r{\\left(l \\right)}\\right)^{2} + 5.25 \\left(\\frac{d}{d l} r{\\left(l \\right)}\\right)^{2}\\right) + h^{3} p_{\\phi}^{2} p_{\\theta}^{2} \\left(1.0 \\sin^{2}{\\left(\\theta \\right)} - 1.5\\right) r{\\left(l \\right)} \\frac{d}{d l} r{\\left(l \\right)} + h^{2} p_{l} \\left(0.5 p_{\\phi}^{2} r{\\left(l \\right)} \\frac{d^{2}}{d l^{2}} r{\\left(l \\right)} - 1.5 p_{\\phi}^{2} \\left(\\frac{d}{d l} r{\\left(l \\right)}\\right)^{2} + p_{\\theta}^{2} \\left(0.5 r{\\left(l \\right)} \\frac{d^{2}}{d l^{2}} r{\\left(l \\right)} - 1.5 \\left(\\frac{d}{d l} r{\\left(l \\right)}\\right)^{2}\\right) \\sin^{2}{\\left(\\theta \\right)}\\right) r^{4}{\\left(l \\right)} \\sin^{2}{\\left(\\theta \\right)} + 1.0 h \\left(p_{\\phi}^{2} + p_{\\theta}^{2} \\sin^{2}{\\left(\\theta \\right)}\\right) r^{5}{\\left(l \\right)} \\sin^{2}{\\left(\\theta \\right)} \\frac{d}{d l} r{\\left(l \\right)} + p_{l} r^{8}{\\left(l \\right)} \\sin^{4}{\\left(\\theta \\right)}}{r^{8}{\\left(l \\right)} \\sin^{4}{\\left(\\theta \\right)}}\\\\p_{\\phi}\\\\\\frac{- h^{3} p_{l} p_{\\phi}^{2} p_{\\theta} \\left(2.0 \\sin^{2}{\\left(\\theta \\right)} - 3.0\\right) \\frac{d}{d l} r{\\left(l \\right)} - h^{2} p_{\\phi}^{2} \\left(0.5 p_{l} r{\\left(l \\right)} \\sin{\\left(2 \\theta \\right)} \\frac{d}{d l} r{\\left(l \\right)} + 0.5 p_{\\theta} \\cos{\\left(2 \\theta \\right)} + 1.0 p_{\\theta}\\right) r{\\left(l \\right)} + 0.5 h p_{\\phi}^{2} r^{3}{\\left(l \\right)} \\sin{\\left(2 \\theta \\right)} + p_{\\theta} r^{5}{\\left(l \\right)} \\sin^{4}{\\left(\\theta \\right)}}{r^{5}{\\left(l \\right)} \\sin^{4}{\\left(\\theta \\right)}}\\end{matrix}\\right]$"
      ],
      "text/plain": [
       "Matrix([\n",
       "[                                                                                                                                                                                                                                                                                                                                                                                                                                                                                                                                                                                                                                              -1.0*h*p_t + 1.0*t],\n",
       "[(h**5*p_l*p_phi**2*p_theta**2*(0.25*r(l)*sin(theta)**2*Derivative(r(l), (l, 2)) - 0.375*r(l)*Derivative(r(l), (l, 2)) - 1.75*sin(theta)**2*Derivative(r(l), l)**2 + 2.625*Derivative(r(l), l)**2) + h**4*p_phi**2*p_theta**2*(0.5*sin(theta)**2 - 0.75)*r(l)*Derivative(r(l), l) + h**3*p_l*(0.25*p_phi**2*r(l)*Derivative(r(l), (l, 2)) - 0.75*p_phi**2*Derivative(r(l), l)**2 + p_theta**2*(0.25*r(l)*Derivative(r(l), (l, 2)) - 0.75*Derivative(r(l), l)**2)*sin(theta)**2)*r(l)**4*sin(theta)**2 + 0.5*h**2*(p_phi**2 + p_theta**2*sin(theta)**2)*r(l)**5*sin(theta)**2*Derivative(r(l), l) + (1.0*h*p_l + l)*r(l)**8*sin(theta)**4)/(r(l)**8*sin(theta)**4)],\n",
       "[                                                                                                                                                                                                                                                                                                                                                                                                                           (2.0*h**3*p_l*p_phi*p_theta*cos(theta)*Derivative(r(l), l) - 1.0*h**2*p_phi*(p_l*r(l)*sin(theta)*Derivative(r(l), l) + p_theta*cos(theta))*r(l) + 1.0*h*p_phi*r(l)**3*sin(theta) + phi*r(l)**5*sin(theta)**3)/(r(l)**5*sin(theta)**3)],\n",
       "[                                                                                                                                                                                                                                                                (-h**4*p_l*p_phi**2*p_theta*(1.5*sin(theta)**2 - 2.25)*Derivative(r(l), l) - h**3*p_phi**2*(0.5*p_l*r(l)*sin(2*theta)*Derivative(r(l), l) + 0.25*p_theta*cos(2*theta) + 0.5*p_theta)*r(l) + 0.25*h**2*(-p_l*p_theta*(1 - cos(2*theta))**2*r(l)*Derivative(r(l), l) + p_phi**2*sin(2*theta))*r(l)**3 + 1.0*h*p_theta*r(l)**5*sin(theta)**4 + theta*r(l)**7*sin(theta)**4)/(r(l)**7*sin(theta)**4)],\n",
       "[                                                                                                                                                                                                                                                                                                                                                                                                                                                                                                                                                                                                                                                             p_t],\n",
       "[                        (h**4*p_l*p_phi**2*p_theta**2*(0.5*r(l)*sin(theta)**2*Derivative(r(l), (l, 2)) - 0.75*r(l)*Derivative(r(l), (l, 2)) - 3.5*sin(theta)**2*Derivative(r(l), l)**2 + 5.25*Derivative(r(l), l)**2) + h**3*p_phi**2*p_theta**2*(1.0*sin(theta)**2 - 1.5)*r(l)*Derivative(r(l), l) + h**2*p_l*(0.5*p_phi**2*r(l)*Derivative(r(l), (l, 2)) - 1.5*p_phi**2*Derivative(r(l), l)**2 + p_theta**2*(0.5*r(l)*Derivative(r(l), (l, 2)) - 1.5*Derivative(r(l), l)**2)*sin(theta)**2)*r(l)**4*sin(theta)**2 + 1.0*h*(p_phi**2 + p_theta**2*sin(theta)**2)*r(l)**5*sin(theta)**2*Derivative(r(l), l) + p_l*r(l)**8*sin(theta)**4)/(r(l)**8*sin(theta)**4)],\n",
       "[                                                                                                                                                                                                                                                                                                                                                                                                                                                                                                                                                                                                                                                           p_phi],\n",
       "[                                                                                                                                                                                                                                                                                                                                                                          (-h**3*p_l*p_phi**2*p_theta*(2.0*sin(theta)**2 - 3.0)*Derivative(r(l), l) - h**2*p_phi**2*(0.5*p_l*r(l)*sin(2*theta)*Derivative(r(l), l) + 0.5*p_theta*cos(2*theta) + 1.0*p_theta)*r(l) + 0.5*h*p_phi**2*r(l)**3*sin(2*theta) + p_theta*r(l)**5*sin(theta)**4)/(r(l)**5*sin(theta)**4)]])"
      ]
     },
     "execution_count": 197,
     "metadata": {},
     "output_type": "execute_result"
    }
   ],
   "source": [
    "Sy_C = polymatrix1D(z5, h)\n",
    "Sympl_DNeg = sp.simplify(sp.Matrix(Sy_C).T*sp.Matrix([h**i for i in range(len(Sy_C))]))\n",
    "Sympl_DNeg"
   ]
  },
  {
   "cell_type": "code",
   "execution_count": 198,
   "metadata": {},
   "outputs": [
    {
     "data": {
      "text/latex": [
       "$\\displaystyle \\left[\\begin{matrix}1.0 t & l & \\phi & \\theta & p_{t} & p_{l} & p_{\\phi} & p_{\\theta}\\end{matrix}\\right]$"
      ],
      "text/plain": [
       "Matrix([[1.0*t, l, phi, theta, p_t, p_l, p_phi, p_theta]])"
      ]
     },
     "execution_count": 198,
     "metadata": {},
     "output_type": "execute_result"
    }
   ],
   "source": [
    "Sy_C[0]"
   ]
  },
  {
   "cell_type": "code",
   "execution_count": 199,
   "metadata": {},
   "outputs": [
    {
     "data": {
      "text/latex": [
       "$\\displaystyle \\left[\\begin{matrix}- 1.0 p_{t} & 1.0 p_{l} & \\frac{1.0 p_{\\phi}}{r^{2}{\\left(l \\right)} \\sin^{2}{\\left(\\theta \\right)}} & \\frac{1.0 p_{\\theta}}{r^{2}{\\left(l \\right)}} & 0 & \\frac{1.0 \\left(\\frac{p_{\\phi}^{2}}{\\sin^{2}{\\left(\\theta \\right)}} + p_{\\theta}^{2}\\right) \\frac{d}{d l} r{\\left(l \\right)}}{r^{3}{\\left(l \\right)}} & 0 & \\frac{1.0 p_{\\phi}^{2} \\cos{\\left(\\theta \\right)}}{r^{2}{\\left(l \\right)} \\sin^{3}{\\left(\\theta \\right)}}\\end{matrix}\\right]$"
      ],
      "text/plain": [
       "Matrix([[-1.0*p_t, 1.0*p_l, 1.0*p_phi/(r(l)**2*sin(theta)**2), 1.0*p_theta/r(l)**2, 0, 1.0*(p_phi**2/sin(theta)**2 + p_theta**2)*Derivative(r(l), l)/r(l)**3, 0, 1.0*p_phi**2*cos(theta)/(r(l)**2*sin(theta)**3)]])"
      ]
     },
     "execution_count": 199,
     "metadata": {},
     "output_type": "execute_result"
    }
   ],
   "source": [
    "sp.simplify(Sy_C[1])"
   ]
  },
  {
   "cell_type": "code",
   "execution_count": 200,
   "metadata": {},
   "outputs": [
    {
     "data": {
      "text/latex": [
       "$\\displaystyle \\left[\\begin{matrix}0 & \\frac{0.5 \\left(\\frac{p_{\\phi}^{2}}{\\sin^{2}{\\left(\\theta \\right)}} + p_{\\theta}^{2}\\right) \\frac{d}{d l} r{\\left(l \\right)}}{r^{3}{\\left(l \\right)}} & - \\frac{1.0 p_{\\phi} \\left(p_{l} r{\\left(l \\right)} \\sin{\\left(\\theta \\right)} \\frac{d}{d l} r{\\left(l \\right)} + p_{\\theta} \\cos{\\left(\\theta \\right)}\\right)}{r^{4}{\\left(l \\right)} \\sin^{3}{\\left(\\theta \\right)}} & \\frac{- 1.0 p_{l} p_{\\theta} r{\\left(l \\right)} \\frac{d}{d l} r{\\left(l \\right)} + \\frac{0.5 p_{\\phi}^{2} \\cos{\\left(\\theta \\right)}}{\\sin^{3}{\\left(\\theta \\right)}}}{r^{4}{\\left(l \\right)}} & 0 & \\frac{p_{l} \\left(\\frac{0.5 p_{\\phi}^{2} r{\\left(l \\right)} \\frac{d^{2}}{d l^{2}} r{\\left(l \\right)}}{\\sin^{2}{\\left(\\theta \\right)}} - \\frac{1.5 p_{\\phi}^{2} \\left(\\frac{d}{d l} r{\\left(l \\right)}\\right)^{2}}{\\sin^{2}{\\left(\\theta \\right)}} + 0.5 p_{\\theta}^{2} r{\\left(l \\right)} \\frac{d^{2}}{d l^{2}} r{\\left(l \\right)} - 1.5 p_{\\theta}^{2} \\left(\\frac{d}{d l} r{\\left(l \\right)}\\right)^{2}\\right)}{r^{4}{\\left(l \\right)}} & 0 & - \\frac{p_{\\phi}^{2} \\left(0.5 p_{l} r{\\left(l \\right)} \\sin{\\left(2 \\theta \\right)} \\frac{d}{d l} r{\\left(l \\right)} + 0.5 p_{\\theta} \\cos{\\left(2 \\theta \\right)} + 1.0 p_{\\theta}\\right)}{r^{4}{\\left(l \\right)} \\sin^{4}{\\left(\\theta \\right)}}\\end{matrix}\\right]$"
      ],
      "text/plain": [
       "Matrix([[0, 0.5*(p_phi**2/sin(theta)**2 + p_theta**2)*Derivative(r(l), l)/r(l)**3, -1.0*p_phi*(p_l*r(l)*sin(theta)*Derivative(r(l), l) + p_theta*cos(theta))/(r(l)**4*sin(theta)**3), (-1.0*p_l*p_theta*r(l)*Derivative(r(l), l) + 0.5*p_phi**2*cos(theta)/sin(theta)**3)/r(l)**4, 0, p_l*(0.5*p_phi**2*r(l)*Derivative(r(l), (l, 2))/sin(theta)**2 - 1.5*p_phi**2*Derivative(r(l), l)**2/sin(theta)**2 + 0.5*p_theta**2*r(l)*Derivative(r(l), (l, 2)) - 1.5*p_theta**2*Derivative(r(l), l)**2)/r(l)**4, 0, -p_phi**2*(0.5*p_l*r(l)*sin(2*theta)*Derivative(r(l), l) + 0.5*p_theta*cos(2*theta) + 1.0*p_theta)/(r(l)**4*sin(theta)**4)]])"
      ]
     },
     "execution_count": 200,
     "metadata": {},
     "output_type": "execute_result"
    }
   ],
   "source": [
    "Sy_C[2]"
   ]
  },
  {
   "cell_type": "code",
   "execution_count": 173,
   "metadata": {},
   "outputs": [
    {
     "data": {
      "text/latex": [
       "$\\displaystyle \\left[\\begin{matrix}0 & \\frac{p_{l} \\left(0.25 p_{\\phi}^{2} r{\\left(l \\right)} \\frac{d^{2}}{d l^{2}} r{\\left(l \\right)} - 0.75 p_{\\phi}^{2} \\left(\\frac{d}{d l} r{\\left(l \\right)}\\right)^{2} + p_{\\theta}^{2} \\left(0.25 r{\\left(l \\right)} \\frac{d^{2}}{d l^{2}} r{\\left(l \\right)} - 0.75 \\left(\\frac{d}{d l} r{\\left(l \\right)}\\right)^{2}\\right) \\sin^{2}{\\left(\\theta \\right)}\\right)}{r^{4}{\\left(l \\right)} \\sin^{2}{\\left(\\theta \\right)}} & \\frac{2.0 p_{l} p_{\\phi} p_{\\theta} \\cos{\\left(\\theta \\right)} \\frac{d}{d l} r{\\left(l \\right)}}{r^{5}{\\left(l \\right)} \\sin^{3}{\\left(\\theta \\right)}} & - \\frac{p_{\\phi}^{2} \\left(0.5 p_{l} r{\\left(l \\right)} \\sin{\\left(2 \\theta \\right)} \\frac{d}{d l} r{\\left(l \\right)} + 0.25 p_{\\theta} \\cos{\\left(2 \\theta \\right)} + 0.5 p_{\\theta}\\right)}{r^{6}{\\left(l \\right)} \\sin^{4}{\\left(\\theta \\right)}} & 0 & \\frac{p_{\\phi}^{2} p_{\\theta}^{2} \\left(1.0 \\sin^{2}{\\left(\\theta \\right)} - 1.5\\right) \\frac{d}{d l} r{\\left(l \\right)}}{r^{7}{\\left(l \\right)} \\sin^{4}{\\left(\\theta \\right)}} & 0 & - \\frac{p_{l} p_{\\phi}^{2} p_{\\theta} \\left(2.0 \\sin^{2}{\\left(\\theta \\right)} - 3.0\\right) \\frac{d}{d l} r{\\left(l \\right)}}{r^{5}{\\left(l \\right)} \\sin^{4}{\\left(\\theta \\right)}}\\end{matrix}\\right]$"
      ],
      "text/plain": [
       "Matrix([[0, p_l*(0.25*p_phi**2*r(l)*Derivative(r(l), (l, 2)) - 0.75*p_phi**2*Derivative(r(l), l)**2 + p_theta**2*(0.25*r(l)*Derivative(r(l), (l, 2)) - 0.75*Derivative(r(l), l)**2)*sin(theta)**2)/(r(l)**4*sin(theta)**2), 2.0*p_l*p_phi*p_theta*cos(theta)*Derivative(r(l), l)/(r(l)**5*sin(theta)**3), -p_phi**2*(0.5*p_l*r(l)*sin(2*theta)*Derivative(r(l), l) + 0.25*p_theta*cos(2*theta) + 0.5*p_theta)/(r(l)**6*sin(theta)**4), 0, p_phi**2*p_theta**2*(1.0*sin(theta)**2 - 1.5)*Derivative(r(l), l)/(r(l)**7*sin(theta)**4), 0, -p_l*p_phi**2*p_theta*(2.0*sin(theta)**2 - 3.0)*Derivative(r(l), l)/(r(l)**5*sin(theta)**4)]])"
      ]
     },
     "execution_count": 173,
     "metadata": {},
     "output_type": "execute_result"
    }
   ],
   "source": [
    "sp.simplify(Sy_C[3])"
   ]
  },
  {
   "cell_type": "code",
   "execution_count": 174,
   "metadata": {},
   "outputs": [
    {
     "data": {
      "text/latex": [
       "$\\displaystyle \\left[\\begin{matrix}0 & \\frac{p_{\\phi}^{2} p_{\\theta}^{2} \\left(0.5 \\sin^{2}{\\left(\\theta \\right)} - 0.75\\right) \\frac{d}{d l} r{\\left(l \\right)}}{r^{7}{\\left(l \\right)} \\sin^{4}{\\left(\\theta \\right)}} & 0 & - \\frac{p_{l} p_{\\phi}^{2} p_{\\theta} \\left(1.5 \\sin^{2}{\\left(\\theta \\right)} - 2.25\\right) \\frac{d}{d l} r{\\left(l \\right)}}{r^{7}{\\left(l \\right)} \\sin^{4}{\\left(\\theta \\right)}} & 0 & \\frac{p_{l} p_{\\phi}^{2} p_{\\theta}^{2} \\left(0.5 r{\\left(l \\right)} \\sin^{2}{\\left(\\theta \\right)} \\frac{d^{2}}{d l^{2}} r{\\left(l \\right)} - 0.75 r{\\left(l \\right)} \\frac{d^{2}}{d l^{2}} r{\\left(l \\right)} - 3.5 \\sin^{2}{\\left(\\theta \\right)} \\left(\\frac{d}{d l} r{\\left(l \\right)}\\right)^{2} + 5.25 \\left(\\frac{d}{d l} r{\\left(l \\right)}\\right)^{2}\\right)}{r^{8}{\\left(l \\right)} \\sin^{4}{\\left(\\theta \\right)}} & 0 & 0\\end{matrix}\\right]$"
      ],
      "text/plain": [
       "Matrix([[0, p_phi**2*p_theta**2*(0.5*sin(theta)**2 - 0.75)*Derivative(r(l), l)/(r(l)**7*sin(theta)**4), 0, -p_l*p_phi**2*p_theta*(1.5*sin(theta)**2 - 2.25)*Derivative(r(l), l)/(r(l)**7*sin(theta)**4), 0, p_l*p_phi**2*p_theta**2*(0.5*r(l)*sin(theta)**2*Derivative(r(l), (l, 2)) - 0.75*r(l)*Derivative(r(l), (l, 2)) - 3.5*sin(theta)**2*Derivative(r(l), l)**2 + 5.25*Derivative(r(l), l)**2)/(r(l)**8*sin(theta)**4), 0, 0]])"
      ]
     },
     "execution_count": 174,
     "metadata": {},
     "output_type": "execute_result"
    }
   ],
   "source": [
    "sp.simplify(Sy_C[4])"
   ]
  },
  {
   "cell_type": "code",
   "execution_count": 175,
   "metadata": {},
   "outputs": [
    {
     "data": {
      "text/latex": [
       "$\\displaystyle \\left[\\begin{matrix}0 & \\frac{p_{l} p_{\\phi}^{2} p_{\\theta}^{2} \\left(0.25 r{\\left(l \\right)} \\sin^{2}{\\left(\\theta \\right)} \\frac{d^{2}}{d l^{2}} r{\\left(l \\right)} - 0.375 r{\\left(l \\right)} \\frac{d^{2}}{d l^{2}} r{\\left(l \\right)} - 1.75 \\sin^{2}{\\left(\\theta \\right)} \\left(\\frac{d}{d l} r{\\left(l \\right)}\\right)^{2} + 2.625 \\left(\\frac{d}{d l} r{\\left(l \\right)}\\right)^{2}\\right)}{r^{8}{\\left(l \\right)} \\sin^{4}{\\left(\\theta \\right)}} & 0 & 0 & 0 & 0 & 0 & 0\\end{matrix}\\right]$"
      ],
      "text/plain": [
       "Matrix([[0, p_l*p_phi**2*p_theta**2*(0.25*r(l)*sin(theta)**2*Derivative(r(l), (l, 2)) - 0.375*r(l)*Derivative(r(l), (l, 2)) - 1.75*sin(theta)**2*Derivative(r(l), l)**2 + 2.625*Derivative(r(l), l)**2)/(r(l)**8*sin(theta)**4), 0, 0, 0, 0, 0, 0]])"
      ]
     },
     "execution_count": 175,
     "metadata": {},
     "output_type": "execute_result"
    }
   ],
   "source": [
    "sp.simplify(Sy_C[5])"
   ]
  },
  {
   "cell_type": "code",
   "execution_count": 194,
   "metadata": {},
   "outputs": [
    {
     "data": {
      "text/latex": [
       "$\\displaystyle \\frac{p_{l} p_{\\phi}^{2} p_{\\theta}^{2} \\left(0.25 r{\\left(l \\right)} \\sin^{2}{\\left(\\theta \\right)} \\frac{d^{2}}{d l^{2}} r{\\left(l \\right)} - 0.375 r{\\left(l \\right)} \\frac{d^{2}}{d l^{2}} r{\\left(l \\right)} - 1.75 \\sin^{2}{\\left(\\theta \\right)} \\left(\\frac{d}{d l} r{\\left(l \\right)}\\right)^{2} + 2.625 \\left(\\frac{d}{d l} r{\\left(l \\right)}\\right)^{2}\\right)}{r^{8}{\\left(l \\right)} \\sin^{4}{\\left(\\theta \\right)}}$"
      ],
      "text/plain": [
       "p_l*p_phi**2*p_theta**2*(0.25*r(l)*sin(theta)**2*Derivative(r(l), (l, 2)) - 0.375*r(l)*Derivative(r(l), (l, 2)) - 1.75*sin(theta)**2*Derivative(r(l), l)**2 + 2.625*Derivative(r(l), l)**2)/(r(l)**8*sin(theta)**4)"
      ]
     },
     "execution_count": 194,
     "metadata": {},
     "output_type": "execute_result"
    }
   ],
   "source": [
    "sp.simplify(sp.simplify(Sy_C[4][5]) - sp.simplify(Sy_C[5][1]))"
   ]
  },
  {
   "cell_type": "code",
   "execution_count": 146,
   "metadata": {},
   "outputs": [],
   "source": [
    "def Jac(f, var):\n",
    "    J = []\n",
    "    for i in range(len(f)):\n",
    "        Grad_fi = []\n",
    "        for j in range(len(var)):\n",
    "            Grad_fi.append(sp.simplify(sp.diff(f[i], var[j])))\n",
    "        J.append(Grad_fi)\n",
    "    return sp.simplify(sp.Matrix(J))"
   ]
  },
  {
   "cell_type": "code",
   "execution_count": 148,
   "metadata": {},
   "outputs": [
    {
     "data": {
      "text/latex": [
       "$\\displaystyle \\left[\\begin{matrix}1.0 & 0 & 0 & 0 & - 1.0 h & 0 & 0 & 0\\\\0 & \\frac{h^{4} p_{\\phi}^{2} p_{\\theta}^{2} \\left(- 0.375 h p_{l} r^{2}{\\left(l \\right)} \\frac{d^{3}}{d l^{3}} r{\\left(l \\right)} + 7.875 h p_{l} r{\\left(l \\right)} \\frac{d}{d l} r{\\left(l \\right)} \\frac{d^{2}}{d l^{2}} r{\\left(l \\right)} - 21.0 h p_{l} \\left(\\frac{d}{d l} r{\\left(l \\right)}\\right)^{3} - 0.75 r^{2}{\\left(l \\right)} \\frac{d^{2}}{d l^{2}} r{\\left(l \\right)} + 5.25 r{\\left(l \\right)} \\left(\\frac{d}{d l} r{\\left(l \\right)}\\right)^{2}\\right) + h^{2} p_{\\phi}^{2} \\left(0.25 h^{3} p_{l} p_{\\theta}^{2} r^{2}{\\left(l \\right)} \\frac{d^{3}}{d l^{3}} r{\\left(l \\right)} - 5.25 h^{3} p_{l} p_{\\theta}^{2} r{\\left(l \\right)} \\frac{d}{d l} r{\\left(l \\right)} \\frac{d^{2}}{d l^{2}} r{\\left(l \\right)} + 14.0 h^{3} p_{l} p_{\\theta}^{2} \\left(\\frac{d}{d l} r{\\left(l \\right)}\\right)^{3} + 0.5 h^{2} p_{\\theta}^{2} r^{2}{\\left(l \\right)} \\frac{d^{2}}{d l^{2}} r{\\left(l \\right)} - 3.5 h^{2} p_{\\theta}^{2} r{\\left(l \\right)} \\left(\\frac{d}{d l} r{\\left(l \\right)}\\right)^{2} + 0.25 h p_{l} r^{6}{\\left(l \\right)} \\frac{d^{3}}{d l^{3}} r{\\left(l \\right)} - 2.25 h p_{l} r^{5}{\\left(l \\right)} \\frac{d}{d l} r{\\left(l \\right)} \\frac{d^{2}}{d l^{2}} r{\\left(l \\right)} + 3.0 h p_{l} r^{4}{\\left(l \\right)} \\left(\\frac{d}{d l} r{\\left(l \\right)}\\right)^{3} + 0.5 r^{6}{\\left(l \\right)} \\frac{d^{2}}{d l^{2}} r{\\left(l \\right)} - 1.5 r^{5}{\\left(l \\right)} \\left(\\frac{d}{d l} r{\\left(l \\right)}\\right)^{2}\\right) \\sin^{2}{\\left(\\theta \\right)} + \\left(0.25 h^{3} p_{l} p_{\\theta}^{2} r^{2}{\\left(l \\right)} \\frac{d^{3}}{d l^{3}} r{\\left(l \\right)} - 2.25 h^{3} p_{l} p_{\\theta}^{2} r{\\left(l \\right)} \\frac{d}{d l} r{\\left(l \\right)} \\frac{d^{2}}{d l^{2}} r{\\left(l \\right)} + 3.0 h^{3} p_{l} p_{\\theta}^{2} \\left(\\frac{d}{d l} r{\\left(l \\right)}\\right)^{3} + 0.5 h^{2} p_{\\theta}^{2} r^{2}{\\left(l \\right)} \\frac{d^{2}}{d l^{2}} r{\\left(l \\right)} - 1.5 h^{2} p_{\\theta}^{2} r{\\left(l \\right)} \\left(\\frac{d}{d l} r{\\left(l \\right)}\\right)^{2} + 1.0 r^{5}{\\left(l \\right)}\\right) r^{4}{\\left(l \\right)} \\sin^{4}{\\left(\\theta \\right)}}{r^{9}{\\left(l \\right)} \\sin^{4}{\\left(\\theta \\right)}} & 0 & \\frac{1.0 h^{2} p_{\\phi}^{2} \\left(1.5 h^{3} p_{l} p_{\\theta}^{2} r{\\left(l \\right)} \\frac{d^{2}}{d l^{2}} r{\\left(l \\right)} - 10.5 h^{3} p_{l} p_{\\theta}^{2} \\left(\\frac{d}{d l} r{\\left(l \\right)}\\right)^{2} + 3.0 h^{2} p_{\\theta}^{2} r{\\left(l \\right)} \\frac{d}{d l} r{\\left(l \\right)} - \\left(0.5 h^{3} p_{l} p_{\\theta}^{2} r{\\left(l \\right)} \\frac{d^{2}}{d l^{2}} r{\\left(l \\right)} - 3.5 h^{3} p_{l} p_{\\theta}^{2} \\left(\\frac{d}{d l} r{\\left(l \\right)}\\right)^{2} + 1.0 h^{2} p_{\\theta}^{2} r{\\left(l \\right)} \\frac{d}{d l} r{\\left(l \\right)} + 0.5 h p_{l} r^{5}{\\left(l \\right)} \\frac{d^{2}}{d l^{2}} r{\\left(l \\right)} - 1.5 h p_{l} r^{4}{\\left(l \\right)} \\left(\\frac{d}{d l} r{\\left(l \\right)}\\right)^{2} + 1.0 r^{5}{\\left(l \\right)} \\frac{d}{d l} r{\\left(l \\right)}\\right) \\sin^{2}{\\left(\\theta \\right)}\\right) \\cos{\\left(\\theta \\right)}}{r^{8}{\\left(l \\right)} \\sin^{5}{\\left(\\theta \\right)}} & 0 & \\frac{h \\left(h^{4} p_{\\phi}^{2} p_{\\theta}^{2} \\left(0.25 r{\\left(l \\right)} \\sin^{2}{\\left(\\theta \\right)} \\frac{d^{2}}{d l^{2}} r{\\left(l \\right)} - 0.375 r{\\left(l \\right)} \\frac{d^{2}}{d l^{2}} r{\\left(l \\right)} - 1.75 \\sin^{2}{\\left(\\theta \\right)} \\left(\\frac{d}{d l} r{\\left(l \\right)}\\right)^{2} + 2.625 \\left(\\frac{d}{d l} r{\\left(l \\right)}\\right)^{2}\\right) + h^{2} \\left(0.25 p_{\\phi}^{2} r{\\left(l \\right)} \\frac{d^{2}}{d l^{2}} r{\\left(l \\right)} - 0.75 p_{\\phi}^{2} \\left(\\frac{d}{d l} r{\\left(l \\right)}\\right)^{2} + p_{\\theta}^{2} \\left(0.25 r{\\left(l \\right)} \\frac{d^{2}}{d l^{2}} r{\\left(l \\right)} - 0.75 \\left(\\frac{d}{d l} r{\\left(l \\right)}\\right)^{2}\\right) \\sin^{2}{\\left(\\theta \\right)}\\right) r^{4}{\\left(l \\right)} \\sin^{2}{\\left(\\theta \\right)} + 1.0 r^{8}{\\left(l \\right)} \\sin^{4}{\\left(\\theta \\right)}\\right)}{r^{8}{\\left(l \\right)} \\sin^{4}{\\left(\\theta \\right)}} & \\frac{h^{2} p_{\\phi} \\left(- 0.75 h^{3} p_{l} p_{\\theta}^{2} r{\\left(l \\right)} \\frac{d^{2}}{d l^{2}} r{\\left(l \\right)} + 5.25 h^{3} p_{l} p_{\\theta}^{2} \\left(\\frac{d}{d l} r{\\left(l \\right)}\\right)^{2} - 1.5 h^{2} p_{\\theta}^{2} r{\\left(l \\right)} \\frac{d}{d l} r{\\left(l \\right)} + \\left(0.5 h^{3} p_{l} p_{\\theta}^{2} r{\\left(l \\right)} \\frac{d^{2}}{d l^{2}} r{\\left(l \\right)} - 3.5 h^{3} p_{l} p_{\\theta}^{2} \\left(\\frac{d}{d l} r{\\left(l \\right)}\\right)^{2} + 1.0 h^{2} p_{\\theta}^{2} r{\\left(l \\right)} \\frac{d}{d l} r{\\left(l \\right)} + 0.5 h p_{l} r^{5}{\\left(l \\right)} \\frac{d^{2}}{d l^{2}} r{\\left(l \\right)} - 1.5 h p_{l} r^{4}{\\left(l \\right)} \\left(\\frac{d}{d l} r{\\left(l \\right)}\\right)^{2} + 1.0 r^{5}{\\left(l \\right)} \\frac{d}{d l} r{\\left(l \\right)}\\right) \\sin^{2}{\\left(\\theta \\right)}\\right)}{r^{8}{\\left(l \\right)} \\sin^{4}{\\left(\\theta \\right)}} & \\frac{h^{2} p_{\\theta} \\left(2 h^{3} p_{l} p_{\\phi}^{2} \\left(0.25 r{\\left(l \\right)} \\sin^{2}{\\left(\\theta \\right)} \\frac{d^{2}}{d l^{2}} r{\\left(l \\right)} - 0.375 r{\\left(l \\right)} \\frac{d^{2}}{d l^{2}} r{\\left(l \\right)} - 1.75 \\sin^{2}{\\left(\\theta \\right)} \\left(\\frac{d}{d l} r{\\left(l \\right)}\\right)^{2} + 2.625 \\left(\\frac{d}{d l} r{\\left(l \\right)}\\right)^{2}\\right) + 2 h^{2} p_{\\phi}^{2} \\left(0.5 \\sin^{2}{\\left(\\theta \\right)} - 0.75\\right) r{\\left(l \\right)} \\frac{d}{d l} r{\\left(l \\right)} + 2 h p_{l} \\left(0.25 r{\\left(l \\right)} \\frac{d^{2}}{d l^{2}} r{\\left(l \\right)} - 0.75 \\left(\\frac{d}{d l} r{\\left(l \\right)}\\right)^{2}\\right) r^{4}{\\left(l \\right)} \\sin^{4}{\\left(\\theta \\right)} + 1.0 r^{5}{\\left(l \\right)} \\sin^{4}{\\left(\\theta \\right)} \\frac{d}{d l} r{\\left(l \\right)}\\right)}{r^{8}{\\left(l \\right)} \\sin^{4}{\\left(\\theta \\right)}}\\\\0 & \\frac{1.0 h p_{\\phi} \\left(2.0 h^{2} p_{l} p_{\\theta} r{\\left(l \\right)} \\cos{\\left(\\theta \\right)} \\frac{d^{2}}{d l^{2}} r{\\left(l \\right)} - 10.0 h^{2} p_{l} p_{\\theta} \\cos{\\left(\\theta \\right)} \\left(\\frac{d}{d l} r{\\left(l \\right)}\\right)^{2} - 1.0 h p_{l} r^{3}{\\left(l \\right)} \\sin{\\left(\\theta \\right)} \\frac{d^{2}}{d l^{2}} r{\\left(l \\right)} + 3.0 h p_{l} r^{2}{\\left(l \\right)} \\sin{\\left(\\theta \\right)} \\left(\\frac{d}{d l} r{\\left(l \\right)}\\right)^{2} + 4.0 h p_{\\theta} r{\\left(l \\right)} \\cos{\\left(\\theta \\right)} \\frac{d}{d l} r{\\left(l \\right)} - 2.0 r^{3}{\\left(l \\right)} \\sin{\\left(\\theta \\right)} \\frac{d}{d l} r{\\left(l \\right)}\\right)}{r^{6}{\\left(l \\right)} \\sin^{3}{\\left(\\theta \\right)}} & 1 & - \\frac{1.0 h p_{\\phi} \\left(2.0 h^{2} p_{l} p_{\\theta} \\cos{\\left(2 \\theta \\right)} \\frac{d}{d l} r{\\left(l \\right)} + 4.0 h^{2} p_{l} p_{\\theta} \\frac{d}{d l} r{\\left(l \\right)} - 1.0 h p_{l} r^{2}{\\left(l \\right)} \\sin{\\left(2 \\theta \\right)} \\frac{d}{d l} r{\\left(l \\right)} - 1.0 h p_{\\theta} r{\\left(l \\right)} \\cos{\\left(2 \\theta \\right)} - 2.0 h p_{\\theta} r{\\left(l \\right)} + 1.0 r^{3}{\\left(l \\right)} \\sin{\\left(2 \\theta \\right)}\\right)}{r^{5}{\\left(l \\right)} \\sin^{4}{\\left(\\theta \\right)}} & 0 & \\frac{h^{2} p_{\\phi} \\left(2.0 h p_{\\theta} \\cos{\\left(\\theta \\right)} - 1.0 r^{2}{\\left(l \\right)} \\sin{\\left(\\theta \\right)}\\right) \\frac{d}{d l} r{\\left(l \\right)}}{r^{5}{\\left(l \\right)} \\sin^{3}{\\left(\\theta \\right)}} & \\frac{h \\left(2.0 h^{2} p_{l} p_{\\theta} \\cos{\\left(\\theta \\right)} \\frac{d}{d l} r{\\left(l \\right)} - 1.0 h \\left(p_{l} r{\\left(l \\right)} \\sin{\\left(\\theta \\right)} \\frac{d}{d l} r{\\left(l \\right)} + p_{\\theta} \\cos{\\left(\\theta \\right)}\\right) r{\\left(l \\right)} + 1.0 r^{3}{\\left(l \\right)} \\sin{\\left(\\theta \\right)}\\right)}{r^{5}{\\left(l \\right)} \\sin^{3}{\\left(\\theta \\right)}} & \\frac{h^{2} p_{\\phi} \\left(2.0 h p_{l} \\frac{d}{d l} r{\\left(l \\right)} - 1.0 r{\\left(l \\right)}\\right) \\cos{\\left(\\theta \\right)}}{r^{5}{\\left(l \\right)} \\sin^{3}{\\left(\\theta \\right)}}\\\\0 & \\frac{h \\left(0.75 h^{3} p_{l} p_{\\phi}^{2} p_{\\theta} r{\\left(l \\right)} \\cos{\\left(2 \\theta \\right)} \\frac{d^{2}}{d l^{2}} r{\\left(l \\right)} + 1.5 h^{3} p_{l} p_{\\phi}^{2} p_{\\theta} r{\\left(l \\right)} \\frac{d^{2}}{d l^{2}} r{\\left(l \\right)} - 5.25 h^{3} p_{l} p_{\\phi}^{2} p_{\\theta} \\cos{\\left(2 \\theta \\right)} \\left(\\frac{d}{d l} r{\\left(l \\right)}\\right)^{2} - 10.5 h^{3} p_{l} p_{\\phi}^{2} p_{\\theta} \\left(\\frac{d}{d l} r{\\left(l \\right)}\\right)^{2} - 0.5 h^{2} p_{l} p_{\\phi}^{2} r^{3}{\\left(l \\right)} \\sin{\\left(2 \\theta \\right)} \\frac{d^{2}}{d l^{2}} r{\\left(l \\right)} + 2.5 h^{2} p_{l} p_{\\phi}^{2} r^{2}{\\left(l \\right)} \\sin{\\left(2 \\theta \\right)} \\left(\\frac{d}{d l} r{\\left(l \\right)}\\right)^{2} + 1.5 h^{2} p_{\\phi}^{2} p_{\\theta} r{\\left(l \\right)} \\cos{\\left(2 \\theta \\right)} \\frac{d}{d l} r{\\left(l \\right)} + 3.0 h^{2} p_{\\phi}^{2} p_{\\theta} r{\\left(l \\right)} \\frac{d}{d l} r{\\left(l \\right)} - 1.0 h p_{l} p_{\\theta} r^{5}{\\left(l \\right)} \\sin^{4}{\\left(\\theta \\right)} \\frac{d^{2}}{d l^{2}} r{\\left(l \\right)} + 3.0 h p_{l} p_{\\theta} r^{4}{\\left(l \\right)} \\sin^{4}{\\left(\\theta \\right)} \\left(\\frac{d}{d l} r{\\left(l \\right)}\\right)^{2} - 1.0 h p_{\\phi}^{2} r^{3}{\\left(l \\right)} \\sin{\\left(2 \\theta \\right)} \\frac{d}{d l} r{\\left(l \\right)} - 2.0 p_{\\theta} r^{5}{\\left(l \\right)} \\sin^{4}{\\left(\\theta \\right)} \\frac{d}{d l} r{\\left(l \\right)}\\right)}{r^{8}{\\left(l \\right)} \\sin^{4}{\\left(\\theta \\right)}} & 0 & \\frac{- 3.0 h^{4} p_{l} p_{\\phi}^{2} p_{\\theta} \\cos^{3}{\\left(\\theta \\right)} \\frac{d}{d l} r{\\left(l \\right)} - 6.0 h^{4} p_{l} p_{\\phi}^{2} p_{\\theta} \\cos{\\left(\\theta \\right)} \\frac{d}{d l} r{\\left(l \\right)} - 2.0 h^{3} p_{l} p_{\\phi}^{2} r^{2}{\\left(l \\right)} \\sin^{3}{\\left(\\theta \\right)} \\frac{d}{d l} r{\\left(l \\right)} + 3.0 h^{3} p_{l} p_{\\phi}^{2} r^{2}{\\left(l \\right)} \\sin{\\left(\\theta \\right)} \\frac{d}{d l} r{\\left(l \\right)} + 1.0 h^{3} p_{\\phi}^{2} p_{\\theta} r{\\left(l \\right)} \\cos^{3}{\\left(\\theta \\right)} + 2.0 h^{3} p_{\\phi}^{2} p_{\\theta} r{\\left(l \\right)} \\cos{\\left(\\theta \\right)} + 1.0 h^{2} p_{\\phi}^{2} r^{3}{\\left(l \\right)} \\sin^{3}{\\left(\\theta \\right)} - 1.5 h^{2} p_{\\phi}^{2} r^{3}{\\left(l \\right)} \\sin{\\left(\\theta \\right)} + 1.0 r^{7}{\\left(l \\right)} \\sin^{5}{\\left(\\theta \\right)}}{r^{7}{\\left(l \\right)} \\sin^{5}{\\left(\\theta \\right)}} & 0 & - \\frac{h^{2} \\left(h^{2} p_{\\phi}^{2} p_{\\theta} \\left(1.5 \\sin^{2}{\\left(\\theta \\right)} - 2.25\\right) + 0.5 h p_{\\phi}^{2} r^{2}{\\left(l \\right)} \\sin{\\left(2 \\theta \\right)} + 1.0 p_{\\theta} r^{4}{\\left(l \\right)} \\sin^{4}{\\left(\\theta \\right)}\\right) \\frac{d}{d l} r{\\left(l \\right)}}{r^{7}{\\left(l \\right)} \\sin^{4}{\\left(\\theta \\right)}} & - \\frac{h^{2} p_{\\phi} \\left(2 h^{2} p_{l} p_{\\theta} \\left(1.5 \\sin^{2}{\\left(\\theta \\right)} - 2.25\\right) \\frac{d}{d l} r{\\left(l \\right)} + 2 h \\left(0.5 p_{l} r{\\left(l \\right)} \\sin{\\left(2 \\theta \\right)} \\frac{d}{d l} r{\\left(l \\right)} + 0.25 p_{\\theta} \\cos{\\left(2 \\theta \\right)} + 0.5 p_{\\theta}\\right) r{\\left(l \\right)} - 0.5 r^{3}{\\left(l \\right)} \\sin{\\left(2 \\theta \\right)}\\right)}{r^{7}{\\left(l \\right)} \\sin^{4}{\\left(\\theta \\right)}} & - \\frac{h \\left(h^{2} p_{\\phi}^{2} \\left(1.5 h p_{l} \\frac{d}{d l} r{\\left(l \\right)} - 0.5 r{\\left(l \\right)}\\right) \\sin^{2}{\\left(\\theta \\right)} - h^{2} p_{\\phi}^{2} \\left(2.25 h p_{l} \\frac{d}{d l} r{\\left(l \\right)} - 0.75 r{\\left(l \\right)}\\right) + 1.0 \\left(h p_{l} \\frac{d}{d l} r{\\left(l \\right)} - r{\\left(l \\right)}\\right) r^{4}{\\left(l \\right)} \\sin^{4}{\\left(\\theta \\right)}\\right)}{r^{7}{\\left(l \\right)} \\sin^{4}{\\left(\\theta \\right)}}\\\\0 & 0 & 0 & 0 & 1 & 0 & 0 & 0\\\\0 & \\frac{1.0 h \\left(h^{2} p_{\\phi}^{2} p_{\\theta}^{2} \\left(- 0.75 h p_{l} r^{2}{\\left(l \\right)} \\frac{d^{3}}{d l^{3}} r{\\left(l \\right)} + 15.75 h p_{l} r{\\left(l \\right)} \\frac{d}{d l} r{\\left(l \\right)} \\frac{d^{2}}{d l^{2}} r{\\left(l \\right)} - 42.0 h p_{l} \\left(\\frac{d}{d l} r{\\left(l \\right)}\\right)^{3} - 1.5 r^{2}{\\left(l \\right)} \\frac{d^{2}}{d l^{2}} r{\\left(l \\right)} + 10.5 r{\\left(l \\right)} \\left(\\frac{d}{d l} r{\\left(l \\right)}\\right)^{2}\\right) + p_{\\phi}^{2} \\left(0.5 h^{3} p_{l} p_{\\theta}^{2} r^{2}{\\left(l \\right)} \\frac{d^{3}}{d l^{3}} r{\\left(l \\right)} - 10.5 h^{3} p_{l} p_{\\theta}^{2} r{\\left(l \\right)} \\frac{d}{d l} r{\\left(l \\right)} \\frac{d^{2}}{d l^{2}} r{\\left(l \\right)} + 28.0 h^{3} p_{l} p_{\\theta}^{2} \\left(\\frac{d}{d l} r{\\left(l \\right)}\\right)^{3} + 1.0 h^{2} p_{\\theta}^{2} r^{2}{\\left(l \\right)} \\frac{d^{2}}{d l^{2}} r{\\left(l \\right)} - 7.0 h^{2} p_{\\theta}^{2} r{\\left(l \\right)} \\left(\\frac{d}{d l} r{\\left(l \\right)}\\right)^{2} + 0.5 h p_{l} r^{6}{\\left(l \\right)} \\frac{d^{3}}{d l^{3}} r{\\left(l \\right)} - 4.5 h p_{l} r^{5}{\\left(l \\right)} \\frac{d}{d l} r{\\left(l \\right)} \\frac{d^{2}}{d l^{2}} r{\\left(l \\right)} + 6.0 h p_{l} r^{4}{\\left(l \\right)} \\left(\\frac{d}{d l} r{\\left(l \\right)}\\right)^{3} + 1.0 r^{6}{\\left(l \\right)} \\frac{d^{2}}{d l^{2}} r{\\left(l \\right)} - 3.0 r^{5}{\\left(l \\right)} \\left(\\frac{d}{d l} r{\\left(l \\right)}\\right)^{2}\\right) \\sin^{2}{\\left(\\theta \\right)} + p_{\\theta}^{2} \\left(0.5 h p_{l} r^{2}{\\left(l \\right)} \\frac{d^{3}}{d l^{3}} r{\\left(l \\right)} - 4.5 h p_{l} r{\\left(l \\right)} \\frac{d}{d l} r{\\left(l \\right)} \\frac{d^{2}}{d l^{2}} r{\\left(l \\right)} + 6.0 h p_{l} \\left(\\frac{d}{d l} r{\\left(l \\right)}\\right)^{3} + 1.0 r^{2}{\\left(l \\right)} \\frac{d^{2}}{d l^{2}} r{\\left(l \\right)} - 3.0 r{\\left(l \\right)} \\left(\\frac{d}{d l} r{\\left(l \\right)}\\right)^{2}\\right) r^{4}{\\left(l \\right)} \\sin^{4}{\\left(\\theta \\right)}\\right)}{r^{9}{\\left(l \\right)} \\sin^{4}{\\left(\\theta \\right)}} & 0 & \\frac{1.0 h p_{\\phi}^{2} \\left(3.0 h^{3} p_{l} p_{\\theta}^{2} r{\\left(l \\right)} \\frac{d^{2}}{d l^{2}} r{\\left(l \\right)} - 21.0 h^{3} p_{l} p_{\\theta}^{2} \\left(\\frac{d}{d l} r{\\left(l \\right)}\\right)^{2} + 6.0 h^{2} p_{\\theta}^{2} r{\\left(l \\right)} \\frac{d}{d l} r{\\left(l \\right)} - \\left(1.0 h^{3} p_{l} p_{\\theta}^{2} r{\\left(l \\right)} \\frac{d^{2}}{d l^{2}} r{\\left(l \\right)} - 7.0 h^{3} p_{l} p_{\\theta}^{2} \\left(\\frac{d}{d l} r{\\left(l \\right)}\\right)^{2} + 2.0 h^{2} p_{\\theta}^{2} r{\\left(l \\right)} \\frac{d}{d l} r{\\left(l \\right)} + 1.0 h p_{l} r^{5}{\\left(l \\right)} \\frac{d^{2}}{d l^{2}} r{\\left(l \\right)} - 3.0 h p_{l} r^{4}{\\left(l \\right)} \\left(\\frac{d}{d l} r{\\left(l \\right)}\\right)^{2} + 2.0 r^{5}{\\left(l \\right)} \\frac{d}{d l} r{\\left(l \\right)}\\right) \\sin^{2}{\\left(\\theta \\right)}\\right) \\cos{\\left(\\theta \\right)}}{r^{8}{\\left(l \\right)} \\sin^{5}{\\left(\\theta \\right)}} & 0 & \\frac{h^{4} p_{\\phi}^{2} p_{\\theta}^{2} \\left(0.5 r{\\left(l \\right)} \\sin^{2}{\\left(\\theta \\right)} \\frac{d^{2}}{d l^{2}} r{\\left(l \\right)} - 0.75 r{\\left(l \\right)} \\frac{d^{2}}{d l^{2}} r{\\left(l \\right)} - 3.5 \\sin^{2}{\\left(\\theta \\right)} \\left(\\frac{d}{d l} r{\\left(l \\right)}\\right)^{2} + 5.25 \\left(\\frac{d}{d l} r{\\left(l \\right)}\\right)^{2}\\right) + h^{2} \\left(0.5 p_{\\phi}^{2} r{\\left(l \\right)} \\frac{d^{2}}{d l^{2}} r{\\left(l \\right)} - 1.5 p_{\\phi}^{2} \\left(\\frac{d}{d l} r{\\left(l \\right)}\\right)^{2} + p_{\\theta}^{2} \\left(0.5 r{\\left(l \\right)} \\frac{d^{2}}{d l^{2}} r{\\left(l \\right)} - 1.5 \\left(\\frac{d}{d l} r{\\left(l \\right)}\\right)^{2}\\right) \\sin^{2}{\\left(\\theta \\right)}\\right) r^{4}{\\left(l \\right)} \\sin^{2}{\\left(\\theta \\right)} + r^{8}{\\left(l \\right)} \\sin^{4}{\\left(\\theta \\right)}}{r^{8}{\\left(l \\right)} \\sin^{4}{\\left(\\theta \\right)}} & \\frac{h p_{\\phi} \\left(- 1.5 h^{3} p_{l} p_{\\theta}^{2} r{\\left(l \\right)} \\frac{d^{2}}{d l^{2}} r{\\left(l \\right)} + 10.5 h^{3} p_{l} p_{\\theta}^{2} \\left(\\frac{d}{d l} r{\\left(l \\right)}\\right)^{2} - 3.0 h^{2} p_{\\theta}^{2} r{\\left(l \\right)} \\frac{d}{d l} r{\\left(l \\right)} + \\left(1.0 h^{3} p_{l} p_{\\theta}^{2} r{\\left(l \\right)} \\frac{d^{2}}{d l^{2}} r{\\left(l \\right)} - 7.0 h^{3} p_{l} p_{\\theta}^{2} \\left(\\frac{d}{d l} r{\\left(l \\right)}\\right)^{2} + 2.0 h^{2} p_{\\theta}^{2} r{\\left(l \\right)} \\frac{d}{d l} r{\\left(l \\right)} + 1.0 h p_{l} r^{5}{\\left(l \\right)} \\frac{d^{2}}{d l^{2}} r{\\left(l \\right)} - 3.0 h p_{l} r^{4}{\\left(l \\right)} \\left(\\frac{d}{d l} r{\\left(l \\right)}\\right)^{2} + 2.0 r^{5}{\\left(l \\right)} \\frac{d}{d l} r{\\left(l \\right)}\\right) \\sin^{2}{\\left(\\theta \\right)}\\right)}{r^{8}{\\left(l \\right)} \\sin^{4}{\\left(\\theta \\right)}} & \\frac{h p_{\\theta} \\left(2 h^{3} p_{l} p_{\\phi}^{2} \\left(0.5 r{\\left(l \\right)} \\sin^{2}{\\left(\\theta \\right)} \\frac{d^{2}}{d l^{2}} r{\\left(l \\right)} - 0.75 r{\\left(l \\right)} \\frac{d^{2}}{d l^{2}} r{\\left(l \\right)} - 3.5 \\sin^{2}{\\left(\\theta \\right)} \\left(\\frac{d}{d l} r{\\left(l \\right)}\\right)^{2} + 5.25 \\left(\\frac{d}{d l} r{\\left(l \\right)}\\right)^{2}\\right) + 2 h^{2} p_{\\phi}^{2} \\left(1.0 \\sin^{2}{\\left(\\theta \\right)} - 1.5\\right) r{\\left(l \\right)} \\frac{d}{d l} r{\\left(l \\right)} + 2 h p_{l} \\left(0.5 r{\\left(l \\right)} \\frac{d^{2}}{d l^{2}} r{\\left(l \\right)} - 1.5 \\left(\\frac{d}{d l} r{\\left(l \\right)}\\right)^{2}\\right) r^{4}{\\left(l \\right)} \\sin^{4}{\\left(\\theta \\right)} + 2.0 r^{5}{\\left(l \\right)} \\sin^{4}{\\left(\\theta \\right)} \\frac{d}{d l} r{\\left(l \\right)}\\right)}{r^{8}{\\left(l \\right)} \\sin^{4}{\\left(\\theta \\right)}}\\\\0 & 0 & 0 & 0 & 0 & 0 & 1 & 0\\\\0 & \\frac{1.0 h p_{\\phi}^{2} \\left(- 2.0 h^{2} p_{l} p_{\\theta} r{\\left(l \\right)} \\sin^{2}{\\left(\\theta \\right)} \\frac{d^{2}}{d l^{2}} r{\\left(l \\right)} + 3.0 h^{2} p_{l} p_{\\theta} r{\\left(l \\right)} \\frac{d^{2}}{d l^{2}} r{\\left(l \\right)} + 10.0 h^{2} p_{l} p_{\\theta} \\sin^{2}{\\left(\\theta \\right)} \\left(\\frac{d}{d l} r{\\left(l \\right)}\\right)^{2} - 15.0 h^{2} p_{l} p_{\\theta} \\left(\\frac{d}{d l} r{\\left(l \\right)}\\right)^{2} - 0.5 h p_{l} r^{3}{\\left(l \\right)} \\sin{\\left(2 \\theta \\right)} \\frac{d^{2}}{d l^{2}} r{\\left(l \\right)} + 1.5 h p_{l} r^{2}{\\left(l \\right)} \\sin{\\left(2 \\theta \\right)} \\left(\\frac{d}{d l} r{\\left(l \\right)}\\right)^{2} + 2.0 h p_{\\theta} r{\\left(l \\right)} \\cos{\\left(2 \\theta \\right)} \\frac{d}{d l} r{\\left(l \\right)} + 4.0 h p_{\\theta} r{\\left(l \\right)} \\frac{d}{d l} r{\\left(l \\right)} - 1.0 r^{3}{\\left(l \\right)} \\sin{\\left(2 \\theta \\right)} \\frac{d}{d l} r{\\left(l \\right)}\\right)}{r^{6}{\\left(l \\right)} \\sin^{4}{\\left(\\theta \\right)}} & 0 & - \\frac{1.0 h p_{\\phi}^{2} \\left(4.0 h^{2} p_{l} p_{\\theta} \\cos^{3}{\\left(\\theta \\right)} \\frac{d}{d l} r{\\left(l \\right)} + 8.0 h^{2} p_{l} p_{\\theta} \\cos{\\left(\\theta \\right)} \\frac{d}{d l} r{\\left(l \\right)} + 2.0 h p_{l} r^{2}{\\left(l \\right)} \\sin^{3}{\\left(\\theta \\right)} \\frac{d}{d l} r{\\left(l \\right)} - 3.0 h p_{l} r^{2}{\\left(l \\right)} \\sin{\\left(\\theta \\right)} \\frac{d}{d l} r{\\left(l \\right)} - 2.0 h p_{\\theta} r{\\left(l \\right)} \\cos^{3}{\\left(\\theta \\right)} - 4.0 h p_{\\theta} r{\\left(l \\right)} \\cos{\\left(\\theta \\right)} - 2.0 r^{3}{\\left(l \\right)} \\sin^{3}{\\left(\\theta \\right)} + 3.0 r^{3}{\\left(l \\right)} \\sin{\\left(\\theta \\right)}\\right)}{r^{5}{\\left(l \\right)} \\sin^{5}{\\left(\\theta \\right)}} & 0 & - \\frac{h^{2} p_{\\phi}^{2} \\left(h p_{\\theta} \\left(2.0 \\sin^{2}{\\left(\\theta \\right)} - 3.0\\right) + 0.5 r^{2}{\\left(l \\right)} \\sin{\\left(2 \\theta \\right)}\\right) \\frac{d}{d l} r{\\left(l \\right)}}{r^{5}{\\left(l \\right)} \\sin^{4}{\\left(\\theta \\right)}} & - \\frac{h p_{\\phi} \\left(2 h^{2} p_{l} p_{\\theta} \\left(2.0 \\sin^{2}{\\left(\\theta \\right)} - 3.0\\right) \\frac{d}{d l} r{\\left(l \\right)} + 2 h \\left(0.5 p_{l} r{\\left(l \\right)} \\sin{\\left(2 \\theta \\right)} \\frac{d}{d l} r{\\left(l \\right)} + 0.5 p_{\\theta} \\cos{\\left(2 \\theta \\right)} + 1.0 p_{\\theta}\\right) r{\\left(l \\right)} - 1.0 r^{3}{\\left(l \\right)} \\sin{\\left(2 \\theta \\right)}\\right)}{r^{5}{\\left(l \\right)} \\sin^{4}{\\left(\\theta \\right)}} & \\frac{- h^{3} p_{l} p_{\\phi}^{2} \\left(2.0 \\sin^{2}{\\left(\\theta \\right)} - 3.0\\right) \\frac{d}{d l} r{\\left(l \\right)} - h^{2} p_{\\phi}^{2} \\left(0.5 \\cos{\\left(2 \\theta \\right)} + 1.0\\right) r{\\left(l \\right)} + r^{5}{\\left(l \\right)} \\sin^{4}{\\left(\\theta \\right)}}{r^{5}{\\left(l \\right)} \\sin^{4}{\\left(\\theta \\right)}}\\end{matrix}\\right]$"
      ],
      "text/plain": [
       "Matrix([\n",
       "[1.0,                                                                                                                                                                                                                                                                                                                                                                                                                                                                                                                                                                                                                                                                                                                                                                                                                                                                                                                                                                                                                                                                                                                                                                                                   0, 0,                                                                                                                                                                                                                                                                                                                                                                                                                                                                                                               0, -1.0*h,                                                                                                                                                                                                                                                                                                                                                                                                                                                                    0,                                                                                                                                                                                                                                                                                                                                                                                                                                                                                               0,                                                                                                                                                                                                                                                                                                                                                                                                                                                       0],\n",
       "[  0, (h**4*p_phi**2*p_theta**2*(-0.375*h*p_l*r(l)**2*Derivative(r(l), (l, 3)) + 7.875*h*p_l*r(l)*Derivative(r(l), l)*Derivative(r(l), (l, 2)) - 21.0*h*p_l*Derivative(r(l), l)**3 - 0.75*r(l)**2*Derivative(r(l), (l, 2)) + 5.25*r(l)*Derivative(r(l), l)**2) + h**2*p_phi**2*(0.25*h**3*p_l*p_theta**2*r(l)**2*Derivative(r(l), (l, 3)) - 5.25*h**3*p_l*p_theta**2*r(l)*Derivative(r(l), l)*Derivative(r(l), (l, 2)) + 14.0*h**3*p_l*p_theta**2*Derivative(r(l), l)**3 + 0.5*h**2*p_theta**2*r(l)**2*Derivative(r(l), (l, 2)) - 3.5*h**2*p_theta**2*r(l)*Derivative(r(l), l)**2 + 0.25*h*p_l*r(l)**6*Derivative(r(l), (l, 3)) - 2.25*h*p_l*r(l)**5*Derivative(r(l), l)*Derivative(r(l), (l, 2)) + 3.0*h*p_l*r(l)**4*Derivative(r(l), l)**3 + 0.5*r(l)**6*Derivative(r(l), (l, 2)) - 1.5*r(l)**5*Derivative(r(l), l)**2)*sin(theta)**2 + (0.25*h**3*p_l*p_theta**2*r(l)**2*Derivative(r(l), (l, 3)) - 2.25*h**3*p_l*p_theta**2*r(l)*Derivative(r(l), l)*Derivative(r(l), (l, 2)) + 3.0*h**3*p_l*p_theta**2*Derivative(r(l), l)**3 + 0.5*h**2*p_theta**2*r(l)**2*Derivative(r(l), (l, 2)) - 1.5*h**2*p_theta**2*r(l)*Derivative(r(l), l)**2 + 1.0*r(l)**5)*r(l)**4*sin(theta)**4)/(r(l)**9*sin(theta)**4), 0, 1.0*h**2*p_phi**2*(1.5*h**3*p_l*p_theta**2*r(l)*Derivative(r(l), (l, 2)) - 10.5*h**3*p_l*p_theta**2*Derivative(r(l), l)**2 + 3.0*h**2*p_theta**2*r(l)*Derivative(r(l), l) - (0.5*h**3*p_l*p_theta**2*r(l)*Derivative(r(l), (l, 2)) - 3.5*h**3*p_l*p_theta**2*Derivative(r(l), l)**2 + 1.0*h**2*p_theta**2*r(l)*Derivative(r(l), l) + 0.5*h*p_l*r(l)**5*Derivative(r(l), (l, 2)) - 1.5*h*p_l*r(l)**4*Derivative(r(l), l)**2 + 1.0*r(l)**5*Derivative(r(l), l))*sin(theta)**2)*cos(theta)/(r(l)**8*sin(theta)**5),      0, h*(h**4*p_phi**2*p_theta**2*(0.25*r(l)*sin(theta)**2*Derivative(r(l), (l, 2)) - 0.375*r(l)*Derivative(r(l), (l, 2)) - 1.75*sin(theta)**2*Derivative(r(l), l)**2 + 2.625*Derivative(r(l), l)**2) + h**2*(0.25*p_phi**2*r(l)*Derivative(r(l), (l, 2)) - 0.75*p_phi**2*Derivative(r(l), l)**2 + p_theta**2*(0.25*r(l)*Derivative(r(l), (l, 2)) - 0.75*Derivative(r(l), l)**2)*sin(theta)**2)*r(l)**4*sin(theta)**2 + 1.0*r(l)**8*sin(theta)**4)/(r(l)**8*sin(theta)**4), h**2*p_phi*(-0.75*h**3*p_l*p_theta**2*r(l)*Derivative(r(l), (l, 2)) + 5.25*h**3*p_l*p_theta**2*Derivative(r(l), l)**2 - 1.5*h**2*p_theta**2*r(l)*Derivative(r(l), l) + (0.5*h**3*p_l*p_theta**2*r(l)*Derivative(r(l), (l, 2)) - 3.5*h**3*p_l*p_theta**2*Derivative(r(l), l)**2 + 1.0*h**2*p_theta**2*r(l)*Derivative(r(l), l) + 0.5*h*p_l*r(l)**5*Derivative(r(l), (l, 2)) - 1.5*h*p_l*r(l)**4*Derivative(r(l), l)**2 + 1.0*r(l)**5*Derivative(r(l), l))*sin(theta)**2)/(r(l)**8*sin(theta)**4), h**2*p_theta*(2*h**3*p_l*p_phi**2*(0.25*r(l)*sin(theta)**2*Derivative(r(l), (l, 2)) - 0.375*r(l)*Derivative(r(l), (l, 2)) - 1.75*sin(theta)**2*Derivative(r(l), l)**2 + 2.625*Derivative(r(l), l)**2) + 2*h**2*p_phi**2*(0.5*sin(theta)**2 - 0.75)*r(l)*Derivative(r(l), l) + 2*h*p_l*(0.25*r(l)*Derivative(r(l), (l, 2)) - 0.75*Derivative(r(l), l)**2)*r(l)**4*sin(theta)**4 + 1.0*r(l)**5*sin(theta)**4*Derivative(r(l), l))/(r(l)**8*sin(theta)**4)],\n",
       "[  0,                                                                                                                                                                                                                                                                                                                                                                                                                                                                                                                                                                                                                                                                                                                                                                                                                        1.0*h*p_phi*(2.0*h**2*p_l*p_theta*r(l)*cos(theta)*Derivative(r(l), (l, 2)) - 10.0*h**2*p_l*p_theta*cos(theta)*Derivative(r(l), l)**2 - 1.0*h*p_l*r(l)**3*sin(theta)*Derivative(r(l), (l, 2)) + 3.0*h*p_l*r(l)**2*sin(theta)*Derivative(r(l), l)**2 + 4.0*h*p_theta*r(l)*cos(theta)*Derivative(r(l), l) - 2.0*r(l)**3*sin(theta)*Derivative(r(l), l))/(r(l)**6*sin(theta)**3), 1,                                                                                                                                                                                                                                  -1.0*h*p_phi*(2.0*h**2*p_l*p_theta*cos(2*theta)*Derivative(r(l), l) + 4.0*h**2*p_l*p_theta*Derivative(r(l), l) - 1.0*h*p_l*r(l)**2*sin(2*theta)*Derivative(r(l), l) - 1.0*h*p_theta*r(l)*cos(2*theta) - 2.0*h*p_theta*r(l) + 1.0*r(l)**3*sin(2*theta))/(r(l)**5*sin(theta)**4),      0,                                                                                                                                                                                                                                                                                                                                                           h**2*p_phi*(2.0*h*p_theta*cos(theta) - 1.0*r(l)**2*sin(theta))*Derivative(r(l), l)/(r(l)**5*sin(theta)**3),                                                                                                                                                                                                                                                                                                            h*(2.0*h**2*p_l*p_theta*cos(theta)*Derivative(r(l), l) - 1.0*h*(p_l*r(l)*sin(theta)*Derivative(r(l), l) + p_theta*cos(theta))*r(l) + 1.0*r(l)**3*sin(theta))/(r(l)**5*sin(theta)**3),                                                                                                                                                                                                                                                                                                                                                                h**2*p_phi*(2.0*h*p_l*Derivative(r(l), l) - 1.0*r(l))*cos(theta)/(r(l)**5*sin(theta)**3)],\n",
       "[  0,                                                                                                                                                                                                                                                                                                                                                                             h*(0.75*h**3*p_l*p_phi**2*p_theta*r(l)*cos(2*theta)*Derivative(r(l), (l, 2)) + 1.5*h**3*p_l*p_phi**2*p_theta*r(l)*Derivative(r(l), (l, 2)) - 5.25*h**3*p_l*p_phi**2*p_theta*cos(2*theta)*Derivative(r(l), l)**2 - 10.5*h**3*p_l*p_phi**2*p_theta*Derivative(r(l), l)**2 - 0.5*h**2*p_l*p_phi**2*r(l)**3*sin(2*theta)*Derivative(r(l), (l, 2)) + 2.5*h**2*p_l*p_phi**2*r(l)**2*sin(2*theta)*Derivative(r(l), l)**2 + 1.5*h**2*p_phi**2*p_theta*r(l)*cos(2*theta)*Derivative(r(l), l) + 3.0*h**2*p_phi**2*p_theta*r(l)*Derivative(r(l), l) - 1.0*h*p_l*p_theta*r(l)**5*sin(theta)**4*Derivative(r(l), (l, 2)) + 3.0*h*p_l*p_theta*r(l)**4*sin(theta)**4*Derivative(r(l), l)**2 - 1.0*h*p_phi**2*r(l)**3*sin(2*theta)*Derivative(r(l), l) - 2.0*p_theta*r(l)**5*sin(theta)**4*Derivative(r(l), l))/(r(l)**8*sin(theta)**4), 0,              (-3.0*h**4*p_l*p_phi**2*p_theta*cos(theta)**3*Derivative(r(l), l) - 6.0*h**4*p_l*p_phi**2*p_theta*cos(theta)*Derivative(r(l), l) - 2.0*h**3*p_l*p_phi**2*r(l)**2*sin(theta)**3*Derivative(r(l), l) + 3.0*h**3*p_l*p_phi**2*r(l)**2*sin(theta)*Derivative(r(l), l) + 1.0*h**3*p_phi**2*p_theta*r(l)*cos(theta)**3 + 2.0*h**3*p_phi**2*p_theta*r(l)*cos(theta) + 1.0*h**2*p_phi**2*r(l)**3*sin(theta)**3 - 1.5*h**2*p_phi**2*r(l)**3*sin(theta) + 1.0*r(l)**7*sin(theta)**5)/(r(l)**7*sin(theta)**5),      0,                                                                                                                                                                                                                                                                                       -h**2*(h**2*p_phi**2*p_theta*(1.5*sin(theta)**2 - 2.25) + 0.5*h*p_phi**2*r(l)**2*sin(2*theta) + 1.0*p_theta*r(l)**4*sin(theta)**4)*Derivative(r(l), l)/(r(l)**7*sin(theta)**4),                                                                                                                                                                                                                                                         -h**2*p_phi*(2*h**2*p_l*p_theta*(1.5*sin(theta)**2 - 2.25)*Derivative(r(l), l) + 2*h*(0.5*p_l*r(l)*sin(2*theta)*Derivative(r(l), l) + 0.25*p_theta*cos(2*theta) + 0.5*p_theta)*r(l) - 0.5*r(l)**3*sin(2*theta))/(r(l)**7*sin(theta)**4),                                                                                                                                                                                                                         -h*(h**2*p_phi**2*(1.5*h*p_l*Derivative(r(l), l) - 0.5*r(l))*sin(theta)**2 - h**2*p_phi**2*(2.25*h*p_l*Derivative(r(l), l) - 0.75*r(l)) + 1.0*(h*p_l*Derivative(r(l), l) - r(l))*r(l)**4*sin(theta)**4)/(r(l)**7*sin(theta)**4)],\n",
       "[  0,                                                                                                                                                                                                                                                                                                                                                                                                                                                                                                                                                                                                                                                                                                                                                                                                                                                                                                                                                                                                                                                                                                                                                                                                   0, 0,                                                                                                                                                                                                                                                                                                                                                                                                                                                                                                               0,      1,                                                                                                                                                                                                                                                                                                                                                                                                                                                                    0,                                                                                                                                                                                                                                                                                                                                                                                                                                                                                               0,                                                                                                                                                                                                                                                                                                                                                                                                                                                       0],\n",
       "[  0,                                                                                    1.0*h*(h**2*p_phi**2*p_theta**2*(-0.75*h*p_l*r(l)**2*Derivative(r(l), (l, 3)) + 15.75*h*p_l*r(l)*Derivative(r(l), l)*Derivative(r(l), (l, 2)) - 42.0*h*p_l*Derivative(r(l), l)**3 - 1.5*r(l)**2*Derivative(r(l), (l, 2)) + 10.5*r(l)*Derivative(r(l), l)**2) + p_phi**2*(0.5*h**3*p_l*p_theta**2*r(l)**2*Derivative(r(l), (l, 3)) - 10.5*h**3*p_l*p_theta**2*r(l)*Derivative(r(l), l)*Derivative(r(l), (l, 2)) + 28.0*h**3*p_l*p_theta**2*Derivative(r(l), l)**3 + 1.0*h**2*p_theta**2*r(l)**2*Derivative(r(l), (l, 2)) - 7.0*h**2*p_theta**2*r(l)*Derivative(r(l), l)**2 + 0.5*h*p_l*r(l)**6*Derivative(r(l), (l, 3)) - 4.5*h*p_l*r(l)**5*Derivative(r(l), l)*Derivative(r(l), (l, 2)) + 6.0*h*p_l*r(l)**4*Derivative(r(l), l)**3 + 1.0*r(l)**6*Derivative(r(l), (l, 2)) - 3.0*r(l)**5*Derivative(r(l), l)**2)*sin(theta)**2 + p_theta**2*(0.5*h*p_l*r(l)**2*Derivative(r(l), (l, 3)) - 4.5*h*p_l*r(l)*Derivative(r(l), l)*Derivative(r(l), (l, 2)) + 6.0*h*p_l*Derivative(r(l), l)**3 + 1.0*r(l)**2*Derivative(r(l), (l, 2)) - 3.0*r(l)*Derivative(r(l), l)**2)*r(l)**4*sin(theta)**4)/(r(l)**9*sin(theta)**4), 0,    1.0*h*p_phi**2*(3.0*h**3*p_l*p_theta**2*r(l)*Derivative(r(l), (l, 2)) - 21.0*h**3*p_l*p_theta**2*Derivative(r(l), l)**2 + 6.0*h**2*p_theta**2*r(l)*Derivative(r(l), l) - (1.0*h**3*p_l*p_theta**2*r(l)*Derivative(r(l), (l, 2)) - 7.0*h**3*p_l*p_theta**2*Derivative(r(l), l)**2 + 2.0*h**2*p_theta**2*r(l)*Derivative(r(l), l) + 1.0*h*p_l*r(l)**5*Derivative(r(l), (l, 2)) - 3.0*h*p_l*r(l)**4*Derivative(r(l), l)**2 + 2.0*r(l)**5*Derivative(r(l), l))*sin(theta)**2)*cos(theta)/(r(l)**8*sin(theta)**5),      0,               (h**4*p_phi**2*p_theta**2*(0.5*r(l)*sin(theta)**2*Derivative(r(l), (l, 2)) - 0.75*r(l)*Derivative(r(l), (l, 2)) - 3.5*sin(theta)**2*Derivative(r(l), l)**2 + 5.25*Derivative(r(l), l)**2) + h**2*(0.5*p_phi**2*r(l)*Derivative(r(l), (l, 2)) - 1.5*p_phi**2*Derivative(r(l), l)**2 + p_theta**2*(0.5*r(l)*Derivative(r(l), (l, 2)) - 1.5*Derivative(r(l), l)**2)*sin(theta)**2)*r(l)**4*sin(theta)**2 + r(l)**8*sin(theta)**4)/(r(l)**8*sin(theta)**4),     h*p_phi*(-1.5*h**3*p_l*p_theta**2*r(l)*Derivative(r(l), (l, 2)) + 10.5*h**3*p_l*p_theta**2*Derivative(r(l), l)**2 - 3.0*h**2*p_theta**2*r(l)*Derivative(r(l), l) + (1.0*h**3*p_l*p_theta**2*r(l)*Derivative(r(l), (l, 2)) - 7.0*h**3*p_l*p_theta**2*Derivative(r(l), l)**2 + 2.0*h**2*p_theta**2*r(l)*Derivative(r(l), l) + 1.0*h*p_l*r(l)**5*Derivative(r(l), (l, 2)) - 3.0*h*p_l*r(l)**4*Derivative(r(l), l)**2 + 2.0*r(l)**5*Derivative(r(l), l))*sin(theta)**2)/(r(l)**8*sin(theta)**4),           h*p_theta*(2*h**3*p_l*p_phi**2*(0.5*r(l)*sin(theta)**2*Derivative(r(l), (l, 2)) - 0.75*r(l)*Derivative(r(l), (l, 2)) - 3.5*sin(theta)**2*Derivative(r(l), l)**2 + 5.25*Derivative(r(l), l)**2) + 2*h**2*p_phi**2*(1.0*sin(theta)**2 - 1.5)*r(l)*Derivative(r(l), l) + 2*h*p_l*(0.5*r(l)*Derivative(r(l), (l, 2)) - 1.5*Derivative(r(l), l)**2)*r(l)**4*sin(theta)**4 + 2.0*r(l)**5*sin(theta)**4*Derivative(r(l), l))/(r(l)**8*sin(theta)**4)],\n",
       "[  0,                                                                                                                                                                                                                                                                                                                                                                                                                                                                                                                                                                                                                                                                                                                                                                                                                                                                                                                                                                                                                                                                                                                                                                                                   0, 0,                                                                                                                                                                                                                                                                                                                                                                                                                                                                                                               0,      0,                                                                                                                                                                                                                                                                                                                                                                                                                                                                    0,                                                                                                                                                                                                                                                                                                                                                                                                                                                                                               1,                                                                                                                                                                                                                                                                                                                                                                                                                                                       0],\n",
       "[  0,                                                                                                                                                                                                                                                                                                                                                                                                                                                                                                                                                                                                                                                         1.0*h*p_phi**2*(-2.0*h**2*p_l*p_theta*r(l)*sin(theta)**2*Derivative(r(l), (l, 2)) + 3.0*h**2*p_l*p_theta*r(l)*Derivative(r(l), (l, 2)) + 10.0*h**2*p_l*p_theta*sin(theta)**2*Derivative(r(l), l)**2 - 15.0*h**2*p_l*p_theta*Derivative(r(l), l)**2 - 0.5*h*p_l*r(l)**3*sin(2*theta)*Derivative(r(l), (l, 2)) + 1.5*h*p_l*r(l)**2*sin(2*theta)*Derivative(r(l), l)**2 + 2.0*h*p_theta*r(l)*cos(2*theta)*Derivative(r(l), l) + 4.0*h*p_theta*r(l)*Derivative(r(l), l) - 1.0*r(l)**3*sin(2*theta)*Derivative(r(l), l))/(r(l)**6*sin(theta)**4), 0,                                                                                                                         -1.0*h*p_phi**2*(4.0*h**2*p_l*p_theta*cos(theta)**3*Derivative(r(l), l) + 8.0*h**2*p_l*p_theta*cos(theta)*Derivative(r(l), l) + 2.0*h*p_l*r(l)**2*sin(theta)**3*Derivative(r(l), l) - 3.0*h*p_l*r(l)**2*sin(theta)*Derivative(r(l), l) - 2.0*h*p_theta*r(l)*cos(theta)**3 - 4.0*h*p_theta*r(l)*cos(theta) - 2.0*r(l)**3*sin(theta)**3 + 3.0*r(l)**3*sin(theta))/(r(l)**5*sin(theta)**5),      0,                                                                                                                                                                                                                                                                                                                                          -h**2*p_phi**2*(h*p_theta*(2.0*sin(theta)**2 - 3.0) + 0.5*r(l)**2*sin(2*theta))*Derivative(r(l), l)/(r(l)**5*sin(theta)**4),                                                                                                                                                                                                                                                              -h*p_phi*(2*h**2*p_l*p_theta*(2.0*sin(theta)**2 - 3.0)*Derivative(r(l), l) + 2*h*(0.5*p_l*r(l)*sin(2*theta)*Derivative(r(l), l) + 0.5*p_theta*cos(2*theta) + 1.0*p_theta)*r(l) - 1.0*r(l)**3*sin(2*theta))/(r(l)**5*sin(theta)**4),                                                                                                                                                                                                                                                                                        (-h**3*p_l*p_phi**2*(2.0*sin(theta)**2 - 3.0)*Derivative(r(l), l) - h**2*p_phi**2*(0.5*cos(2*theta) + 1.0)*r(l) + r(l)**5*sin(theta)**4)/(r(l)**5*sin(theta)**4)]])"
      ]
     },
     "execution_count": 148,
     "metadata": {},
     "output_type": "execute_result"
    }
   ],
   "source": [
    "Sympl_DNeg_J = Jac(Sympl_DNeg, z0)\n",
    "Sympl_DNeg_J"
   ]
  },
  {
   "cell_type": "code",
   "execution_count": 149,
   "metadata": {},
   "outputs": [
    {
     "data": {
      "text/latex": [
       "$\\displaystyle \\left[\\begin{matrix}0 & 0 & 0 & 0 & -1 & 0 & 0 & 0\\\\0 & 0 & 0 & 0 & 0 & -1 & 0 & 0\\\\0 & 0 & 0 & 0 & 0 & 0 & -1 & 0\\\\0 & 0 & 0 & 0 & 0 & 0 & 0 & -1\\\\1 & 0 & 0 & 0 & 0 & 0 & 0 & 0\\\\0 & 1 & 0 & 0 & 0 & 0 & 0 & 0\\\\0 & 0 & 1 & 0 & 0 & 0 & 0 & 0\\\\0 & 0 & 0 & 1 & 0 & 0 & 0 & 0\\end{matrix}\\right]$"
      ],
      "text/plain": [
       "Matrix([\n",
       "[0, 0, 0, 0, -1,  0,  0,  0],\n",
       "[0, 0, 0, 0,  0, -1,  0,  0],\n",
       "[0, 0, 0, 0,  0,  0, -1,  0],\n",
       "[0, 0, 0, 0,  0,  0,  0, -1],\n",
       "[1, 0, 0, 0,  0,  0,  0,  0],\n",
       "[0, 1, 0, 0,  0,  0,  0,  0],\n",
       "[0, 0, 1, 0,  0,  0,  0,  0],\n",
       "[0, 0, 0, 1,  0,  0,  0,  0]])"
      ]
     },
     "execution_count": 149,
     "metadata": {},
     "output_type": "execute_result"
    }
   ],
   "source": [
    "I = sp.zeros(8)\n",
    "I[4:,:4] = sp.eye(4)\n",
    "I[:4,4:] = -sp.eye(4)\n",
    "I"
   ]
  },
  {
   "cell_type": "code",
   "execution_count": 150,
   "metadata": {},
   "outputs": [],
   "source": [
    "A = sp.simplify(Sympl_DNeg_J.T*I*Sympl_DNeg_J)"
   ]
  },
  {
   "cell_type": "code",
   "execution_count": 151,
   "metadata": {},
   "outputs": [],
   "source": [
    "A_poly = polymatrix2D(A, h)"
   ]
  },
  {
   "cell_type": "code",
   "execution_count": 152,
   "metadata": {},
   "outputs": [
    {
     "data": {
      "text/latex": [
       "$\\displaystyle \\left[\\begin{matrix}0 & 0 & 0 & 0 & -1.0 & 0 & 0 & 0\\\\0 & 0 & 0 & 0 & 0 & -1.0 & 0 & 0\\\\0 & 0 & 0 & 0 & 0 & 0 & -1 & 0\\\\0 & 0 & 0 & 0 & 0 & 0 & 0 & -1.0\\\\1.0 & 0 & 0 & 0 & 0 & 0 & 0 & 0\\\\0 & 1.0 & 0 & 0 & 0 & 0 & 0 & 0\\\\0 & 0 & 1 & 0 & 0 & 0 & 0 & 0\\\\0 & 0 & 0 & 1.0 & 0 & 0 & 0 & 0\\end{matrix}\\right]$"
      ],
      "text/plain": [
       "Matrix([\n",
       "[  0,   0, 0,   0, -1.0,    0,  0,    0],\n",
       "[  0,   0, 0,   0,    0, -1.0,  0,    0],\n",
       "[  0,   0, 0,   0,    0,    0, -1,    0],\n",
       "[  0,   0, 0,   0,    0,    0,  0, -1.0],\n",
       "[1.0,   0, 0,   0,    0,    0,  0,    0],\n",
       "[  0, 1.0, 0,   0,    0,    0,  0,    0],\n",
       "[  0,   0, 1,   0,    0,    0,  0,    0],\n",
       "[  0,   0, 0, 1.0,    0,    0,  0,    0]])"
      ]
     },
     "execution_count": 152,
     "metadata": {},
     "output_type": "execute_result"
    }
   ],
   "source": [
    "(A_poly[0] + h*A_poly[1] + h**2*A_poly[2])"
   ]
  },
  {
   "cell_type": "code",
   "execution_count": 164,
   "metadata": {},
   "outputs": [
    {
     "data": {
      "text/plain": [
       "[1, 2, 3, 4, 5, 6]"
      ]
     },
     "execution_count": 164,
     "metadata": {},
     "output_type": "execute_result"
    }
   ],
   "source": [
    "[1,2,3,4,5,6][0:6]"
   ]
  },
  {
   "cell_type": "code",
   "execution_count": 167,
   "metadata": {},
   "outputs": [
    {
     "data": {
      "text/latex": [
       "$\\displaystyle \\left[\\begin{matrix}0 & 0 & 0 & 0 & -1.0 & 0 & 0 & 0\\\\0 & 0 & 0 & 0 & 0 & -1.0 & \\frac{2.0 h^{2} p_{\\phi} p_{\\theta} \\left(\\sin{\\left(2 \\theta \\right)} \\tan{\\left(\\theta \\right)} + \\cos{\\left(2 \\theta \\right)} - 1\\right) \\frac{d}{d l} r{\\left(l \\right)}}{r^{5}{\\left(l \\right)} \\sin^{4}{\\left(\\theta \\right)} \\tan{\\left(\\theta \\right)}} & 0\\\\0 & 0 & 0 & 0 & 0 & 0 & -1.0 & 0\\\\0 & 0 & 0 & 0 & 0 & 0 & 0 & -1.0\\\\1.0 & 0 & 0 & 0 & 0 & 0 & 0 & 0\\\\0 & 1.0 & 0 & 0 & 0 & 0 & 0 & 0\\\\0 & 0 & 1.0 & 0 & 0 & 0 & 0 & 0\\\\0 & 0 & 0 & 1.0 & 0 & 0 & 0 & 0\\end{matrix}\\right]$"
      ],
      "text/plain": [
       "Matrix([\n",
       "[  0,   0,   0,   0, -1.0,    0,                                                                                                                          0,    0],\n",
       "[  0,   0,   0,   0,    0, -1.0, 2.0*h**2*p_phi*p_theta*(sin(2*theta)*tan(theta) + cos(2*theta) - 1)*Derivative(r(l), l)/(r(l)**5*sin(theta)**4*tan(theta)),    0],\n",
       "[  0,   0,   0,   0,    0,    0,                                                                                                                       -1.0,    0],\n",
       "[  0,   0,   0,   0,    0,    0,                                                                                                                          0, -1.0],\n",
       "[1.0,   0,   0,   0,    0,    0,                                                                                                                          0,    0],\n",
       "[  0, 1.0,   0,   0,    0,    0,                                                                                                                          0,    0],\n",
       "[  0,   0, 1.0,   0,    0,    0,                                                                                                                          0,    0],\n",
       "[  0,   0,   0, 1.0,    0,    0,                                                                                                                          0,    0]])"
      ]
     },
     "execution_count": 167,
     "metadata": {},
     "output_type": "execute_result"
    }
   ],
   "source": [
    "Sympl_DNeg2 = sp.simplify(sp.Matrix(Sy_C[0:3]).T*sp.Matrix([h**i for i in range(len(Sy_C[0:3]))]))\n",
    "Sympl_DNeg_J2 = Jac(Sympl_DNeg2, z0)\n",
    "A2 = sp.simplify(Sympl_DNeg_J2.T*I*Sympl_DNeg_J2)\n",
    "A_poly2 = polymatrix2D(A2, h)\n",
    "(A_poly2[0] + h*A_poly2[1] + h**2*A_poly2[2])"
   ]
  },
  {
   "cell_type": "code",
   "execution_count": 155,
   "metadata": {},
   "outputs": [
    {
     "data": {
      "text/latex": [
       "$\\displaystyle \\left[\\begin{matrix}0 & 0 & 0 & 0 & -1.0 & 0 & 0 & 0\\\\0 & 0 & 0 & 0 & 0 & -1.0 & 0 & 0\\\\0 & 0 & 0 & 0 & 0 & 0 & -1 & 0\\\\0 & 0 & 0 & 0 & 0 & 0 & 0 & - \\frac{1.11022302462516 \\cdot 10^{-16} h^{2} p_{\\phi}^{2}}{r^{4}{\\left(l \\right)} \\sin^{4}{\\left(\\theta \\right)}} - 1.0\\\\1.0 & 0 & 0 & 0 & 0 & 0 & 0 & 0\\\\0 & 1.0 & 0 & 0 & 0 & 0 & 0 & 0\\\\0 & 0 & 1 & 0 & 0 & 0 & 0 & 0\\\\0 & 0 & 0 & \\frac{1.11022302462516 \\cdot 10^{-16} h^{2} p_{\\phi}^{2}}{r^{4}{\\left(l \\right)} \\sin^{4}{\\left(\\theta \\right)}} + 1.0 & 0 & 0 & 0 & 0\\end{matrix}\\right]$"
      ],
      "text/plain": [
       "Matrix([\n",
       "[  0,   0, 0,                                                                0, -1.0,    0,  0,                                                                 0],\n",
       "[  0,   0, 0,                                                                0,    0, -1.0,  0,                                                                 0],\n",
       "[  0,   0, 0,                                                                0,    0,    0, -1,                                                                 0],\n",
       "[  0,   0, 0,                                                                0,    0,    0,  0, -1.11022302462516e-16*h**2*p_phi**2/(r(l)**4*sin(theta)**4) - 1.0],\n",
       "[1.0,   0, 0,                                                                0,    0,    0,  0,                                                                 0],\n",
       "[  0, 1.0, 0,                                                                0,    0,    0,  0,                                                                 0],\n",
       "[  0,   0, 1,                                                                0,    0,    0,  0,                                                                 0],\n",
       "[  0,   0, 0, 1.11022302462516e-16*h**2*p_phi**2/(r(l)**4*sin(theta)**4) + 1.0,    0,    0,  0,                                                                 0]])"
      ]
     },
     "execution_count": 155,
     "metadata": {},
     "output_type": "execute_result"
    }
   ],
   "source": [
    "Sympl_DNeg3 = sp.simplify(sp.Matrix(Sy_C[0:4]).T*sp.Matrix([h**i for i in range(len(Sy_C[0:4]))]))\n",
    "Sympl_DNeg_J3 = Jac(Sympl_DNeg3, z0)\n",
    "A3 = sp.simplify(Sympl_DNeg_J3.T*I*Sympl_DNeg_J3)\n",
    "A_poly3 = polymatrix2D(A3, h)\n",
    "(A_poly3[0] + h*A_poly3[1] + h**2*A_poly3[2])"
   ]
  },
  {
   "cell_type": "code",
   "execution_count": 166,
   "metadata": {},
   "outputs": [
    {
     "data": {
      "text/latex": [
       "$\\displaystyle \\left[\\begin{matrix}0 & 0 & 0 & 0 & -1.0 & 0 & 0 & 0\\\\0 & 0 & 0 & 0 & 0 & -1.0 & 0 & 0\\\\0 & 0 & 0 & 0 & 0 & 0 & -1 & 0\\\\0 & 0 & 0 & 0 & 0 & 0 & 0 & -1.0\\\\1.0 & 0 & 0 & 0 & 0 & 0 & 0 & 0\\\\0 & 1.0 & 0 & 0 & 0 & 0 & 0 & 0\\\\0 & 0 & 1 & 0 & 0 & 0 & 0 & 0\\\\0 & 0 & 0 & 1.0 & 0 & 0 & 0 & 0\\end{matrix}\\right]$"
      ],
      "text/plain": [
       "Matrix([\n",
       "[  0,   0, 0,   0, -1.0,    0,  0,    0],\n",
       "[  0,   0, 0,   0,    0, -1.0,  0,    0],\n",
       "[  0,   0, 0,   0,    0,    0, -1,    0],\n",
       "[  0,   0, 0,   0,    0,    0,  0, -1.0],\n",
       "[1.0,   0, 0,   0,    0,    0,  0,    0],\n",
       "[  0, 1.0, 0,   0,    0,    0,  0,    0],\n",
       "[  0,   0, 1,   0,    0,    0,  0,    0],\n",
       "[  0,   0, 0, 1.0,    0,    0,  0,    0]])"
      ]
     },
     "execution_count": 166,
     "metadata": {},
     "output_type": "execute_result"
    }
   ],
   "source": [
    "Sympl_DNeg4 = sp.simplify(sp.Matrix(Sy_C[0:5]).T*sp.Matrix([h**i for i in range(len(Sy_C[0:5]))]))\n",
    "Sympl_DNeg_J4 = Jac(Sympl_DNeg4, z0)\n",
    "A4 = sp.simplify(Sympl_DNeg_J4.T*I*Sympl_DNeg_J4)\n",
    "A_poly4 = polymatrix2D(A4, h)\n",
    "(A_poly4[0] + h*A_poly4[1] + h**2*A_poly4[2])"
   ]
  },
  {
   "cell_type": "code",
   "execution_count": null,
   "metadata": {},
   "outputs": [],
   "source": []
  },
  {
   "cell_type": "code",
   "execution_count": 17,
   "metadata": {},
   "outputs": [],
   "source": [
    "A_h0 = A.subs(h,0)\n",
    "A_h1 = sp.simplify((A - A.subs(h,0))/h)\n",
    "A_h2 = sp.simplify((A_h1 - A_h1.subs(h,0))/h)\n",
    "#sp.simplify(A_h0 + h*A_h1 + h**2*A_h2)"
   ]
  },
  {
   "cell_type": "code",
   "execution_count": null,
   "metadata": {},
   "outputs": [],
   "source": []
  },
  {
   "cell_type": "code",
   "execution_count": null,
   "metadata": {},
   "outputs": [],
   "source": [
    "Sympl_DNeg_J_Det = sp.simplify(Sympl_DNeg_J2.det())\n",
    "Sympl_DNeg_J_Det"
   ]
  },
  {
   "cell_type": "code",
   "execution_count": 208,
   "metadata": {},
   "outputs": [],
   "source": [
    "from sympy.plotting import plot3d\n",
    "%matplotlib notebook"
   ]
  },
  {
   "cell_type": "code",
   "execution_count": null,
   "metadata": {},
   "outputs": [],
   "source": []
  },
  {
   "cell_type": "code",
   "execution_count": 220,
   "metadata": {},
   "outputs": [
    {
     "data": {
      "text/plain": [
       "{l: 0.1*t}"
      ]
     },
     "execution_count": 220,
     "metadata": {},
     "output_type": "execute_result"
    }
   ],
   "source": [
    "sp.solve((0.1 - l/t,0), (l,t))"
   ]
  },
  {
   "cell_type": "code",
   "execution_count": null,
   "metadata": {},
   "outputs": [],
   "source": []
  }
 ],
 "metadata": {
  "kernelspec": {
   "display_name": "Python 3",
   "language": "python",
   "name": "python3"
  },
  "language_info": {
   "codemirror_mode": {
    "name": "ipython",
    "version": 3
   },
   "file_extension": ".py",
   "mimetype": "text/x-python",
   "name": "python",
   "nbconvert_exporter": "python",
   "pygments_lexer": "ipython3",
   "version": "3.8.5"
  }
 },
 "nbformat": 4,
 "nbformat_minor": 4
}
