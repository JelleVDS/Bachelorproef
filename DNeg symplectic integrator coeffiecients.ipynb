{
 "cells": [
  {
   "cell_type": "code",
   "execution_count": 2,
   "metadata": {},
   "outputs": [],
   "source": [
    "import sympy as sp"
   ]
  },
  {
   "cell_type": "code",
   "execution_count": 4,
   "metadata": {},
   "outputs": [],
   "source": [
    "t, l, phi, theta, p_t, p_l, p_phi, p_theta, h = sp.symbols('t l phi theta p_t p_l p_phi p_theta h')\n",
    "z0 = sp.Matrix([[t, l, phi, theta, p_t, p_l, p_phi, p_theta]])\n",
    "r = sp.Function('r')(l)\n",
    "\n",
    "H1 = 0.5*(-p_t**2 + p_l**2)\n",
    "H2 = 0.5*(p_theta**2/r**2)\n",
    "H3 = 0.5*(p_phi**2/(r*sp.sin(theta))**2)"
   ]
  },
  {
   "cell_type": "code",
   "execution_count": 3,
   "metadata": {},
   "outputs": [],
   "source": [
    "def Poiss(z, H):\n",
    "    Z = 0*z\n",
    "    for i in range(4):\n",
    "        Z = Z + sp.diff(z, z0[i])*sp.diff(H, z0[i+4])\n",
    "        Z = Z - sp.diff(z, z0[i+4])*sp.diff(H, z0[i])\n",
    "    return Z"
   ]
  },
  {
   "cell_type": "code",
   "execution_count": 4,
   "metadata": {},
   "outputs": [
    {
     "data": {
      "text/latex": [
       "$\\displaystyle \\left[\\begin{matrix}- 0.5 h p_{t} + t & 0.5 h p_{l} + l & \\phi & \\theta & p_{t} & p_{l} & p_{\\phi} & p_{\\theta}\\end{matrix}\\right]$"
      ],
      "text/plain": [
       "Matrix([[-0.5*h*p_t + t, 0.5*h*p_l + l, phi, theta, p_t, p_l, p_phi, p_theta]])"
      ]
     },
     "execution_count": 4,
     "metadata": {},
     "output_type": "execute_result"
    }
   ],
   "source": [
    "z1 = z0 + 0.5*h*Poiss(z0, H1)\n",
    "z1"
   ]
  },
  {
   "cell_type": "code",
   "execution_count": 5,
   "metadata": {},
   "outputs": [
    {
     "data": {
      "text/latex": [
       "$\\displaystyle \\left[\\begin{matrix}- 0.5 h p_{t} + t & \\frac{0.25 h^{2} p_{\\theta}^{2} \\frac{d}{d l} r{\\left(l \\right)}}{r^{3}{\\left(l \\right)}} + 0.5 h p_{l} + l & \\phi & \\frac{0.5 h p_{\\theta}}{r^{2}{\\left(l \\right)}} + \\theta & p_{t} & \\frac{0.5 h p_{\\theta}^{2} \\frac{d}{d l} r{\\left(l \\right)}}{r^{3}{\\left(l \\right)}} + p_{l} & p_{\\phi} & p_{\\theta}\\end{matrix}\\right]$"
      ],
      "text/plain": [
       "Matrix([[-0.5*h*p_t + t, 0.25*h**2*p_theta**2*Derivative(r(l), l)/r(l)**3 + 0.5*h*p_l + l, phi, 0.5*h*p_theta/r(l)**2 + theta, p_t, 0.5*h*p_theta**2*Derivative(r(l), l)/r(l)**3 + p_l, p_phi, p_theta]])"
      ]
     },
     "execution_count": 5,
     "metadata": {},
     "output_type": "execute_result"
    }
   ],
   "source": [
    "z2 = z1 + 0.5*h*Poiss(z1, H2)\n",
    "z2"
   ]
  },
  {
   "cell_type": "code",
   "execution_count": 6,
   "metadata": {},
   "outputs": [
    {
     "data": {
      "text/latex": [
       "$\\displaystyle \\left[\\begin{matrix}- 0.5 h p_{t} + t & \\frac{0.25 h^{2} p_{\\theta}^{2} \\frac{d}{d l} r{\\left(l \\right)}}{r^{3}{\\left(l \\right)}} + 0.5 h p_{l} + h \\left(\\frac{0.5 h^{2} p_{\\phi}^{2} p_{\\theta} \\cos{\\left(\\theta \\right)} \\frac{d}{d l} r{\\left(l \\right)}}{r^{5}{\\left(l \\right)} \\sin^{3}{\\left(\\theta \\right)}} + \\frac{0.5 h p_{\\phi}^{2} \\frac{d}{d l} r{\\left(l \\right)}}{r^{3}{\\left(l \\right)} \\sin^{2}{\\left(\\theta \\right)}}\\right) + l & \\frac{1.0 h p_{\\phi}}{r^{2}{\\left(l \\right)} \\sin^{2}{\\left(\\theta \\right)}} + \\phi & \\frac{0.5 h^{2} p_{\\phi}^{2} \\cos{\\left(\\theta \\right)}}{r^{4}{\\left(l \\right)} \\sin^{3}{\\left(\\theta \\right)}} + \\frac{0.5 h p_{\\theta}}{r^{2}{\\left(l \\right)}} + \\theta & p_{t} & \\frac{0.5 h p_{\\theta}^{2} \\frac{d}{d l} r{\\left(l \\right)}}{r^{3}{\\left(l \\right)}} + h \\left(\\frac{1.0 h p_{\\phi}^{2} p_{\\theta} \\cos{\\left(\\theta \\right)} \\frac{d}{d l} r{\\left(l \\right)}}{r^{5}{\\left(l \\right)} \\sin^{3}{\\left(\\theta \\right)}} + \\frac{1.0 p_{\\phi}^{2} \\frac{d}{d l} r{\\left(l \\right)}}{r^{3}{\\left(l \\right)} \\sin^{2}{\\left(\\theta \\right)}}\\right) + p_{l} & p_{\\phi} & \\frac{1.0 h p_{\\phi}^{2} \\cos{\\left(\\theta \\right)}}{r^{2}{\\left(l \\right)} \\sin^{3}{\\left(\\theta \\right)}} + p_{\\theta}\\end{matrix}\\right]$"
      ],
      "text/plain": [
       "Matrix([[-0.5*h*p_t + t, 0.25*h**2*p_theta**2*Derivative(r(l), l)/r(l)**3 + 0.5*h*p_l + h*(0.5*h**2*p_phi**2*p_theta*cos(theta)*Derivative(r(l), l)/(r(l)**5*sin(theta)**3) + 0.5*h*p_phi**2*Derivative(r(l), l)/(r(l)**3*sin(theta)**2)) + l, 1.0*h*p_phi/(r(l)**2*sin(theta)**2) + phi, 0.5*h**2*p_phi**2*cos(theta)/(r(l)**4*sin(theta)**3) + 0.5*h*p_theta/r(l)**2 + theta, p_t, 0.5*h*p_theta**2*Derivative(r(l), l)/r(l)**3 + h*(1.0*h*p_phi**2*p_theta*cos(theta)*Derivative(r(l), l)/(r(l)**5*sin(theta)**3) + 1.0*p_phi**2*Derivative(r(l), l)/(r(l)**3*sin(theta)**2)) + p_l, p_phi, 1.0*h*p_phi**2*cos(theta)/(r(l)**2*sin(theta)**3) + p_theta]])"
      ]
     },
     "execution_count": 6,
     "metadata": {},
     "output_type": "execute_result"
    }
   ],
   "source": [
    "z3 = z2 + h*Poiss(z2, H3)\n",
    "z3"
   ]
  },
  {
   "cell_type": "code",
   "execution_count": 7,
   "metadata": {},
   "outputs": [
    {
     "data": {
      "text/latex": [
       "$\\displaystyle \\left[\\begin{matrix}- 0.5 h p_{t} + t & \\frac{0.25 h^{2} p_{\\theta}^{2} \\frac{d}{d l} r{\\left(l \\right)}}{r^{3}{\\left(l \\right)}} + 0.5 h p_{l} + 0.5 h \\left(\\frac{0.5 h p_{\\theta}^{2} \\frac{d}{d l} r{\\left(l \\right)}}{r^{3}{\\left(l \\right)}} + \\frac{1.0 h p_{\\theta} \\left(- \\frac{0.5 h^{2} p_{\\phi}^{2} p_{\\theta} \\frac{d}{d l} r{\\left(l \\right)}}{r^{5}{\\left(l \\right)} \\sin^{2}{\\left(\\theta \\right)}} - \\frac{1.5 h^{2} p_{\\phi}^{2} p_{\\theta} \\cos^{2}{\\left(\\theta \\right)} \\frac{d}{d l} r{\\left(l \\right)}}{r^{5}{\\left(l \\right)} \\sin^{4}{\\left(\\theta \\right)}} - \\frac{1.0 h p_{\\phi}^{2} \\cos{\\left(\\theta \\right)} \\frac{d}{d l} r{\\left(l \\right)}}{r^{3}{\\left(l \\right)} \\sin^{3}{\\left(\\theta \\right)}}\\right)}{r^{2}{\\left(l \\right)}}\\right) + h \\left(\\frac{0.5 h^{2} p_{\\phi}^{2} p_{\\theta} \\cos{\\left(\\theta \\right)} \\frac{d}{d l} r{\\left(l \\right)}}{r^{5}{\\left(l \\right)} \\sin^{3}{\\left(\\theta \\right)}} + \\frac{0.5 h p_{\\phi}^{2} \\frac{d}{d l} r{\\left(l \\right)}}{r^{3}{\\left(l \\right)} \\sin^{2}{\\left(\\theta \\right)}}\\right) + l & - \\frac{1.0 h^{2} p_{\\phi} p_{\\theta} \\cos{\\left(\\theta \\right)}}{r^{4}{\\left(l \\right)} \\sin^{3}{\\left(\\theta \\right)}} + \\frac{1.0 h p_{\\phi}}{r^{2}{\\left(l \\right)} \\sin^{2}{\\left(\\theta \\right)}} + \\phi & \\frac{0.5 h^{2} p_{\\phi}^{2} \\cos{\\left(\\theta \\right)}}{r^{4}{\\left(l \\right)} \\sin^{3}{\\left(\\theta \\right)}} + \\frac{0.5 h p_{\\theta} \\left(- \\frac{0.5 h^{2} p_{\\phi}^{2}}{r^{4}{\\left(l \\right)} \\sin^{2}{\\left(\\theta \\right)}} - \\frac{1.5 h^{2} p_{\\phi}^{2} \\cos^{2}{\\left(\\theta \\right)}}{r^{4}{\\left(l \\right)} \\sin^{4}{\\left(\\theta \\right)}} + 1\\right)}{r^{2}{\\left(l \\right)}} + \\frac{0.5 h p_{\\theta}}{r^{2}{\\left(l \\right)}} + \\theta & p_{t} & \\frac{0.5 h p_{\\theta}^{2} \\frac{d}{d l} r{\\left(l \\right)}}{r^{3}{\\left(l \\right)}} + 0.5 h \\left(\\frac{1.0 h p_{\\theta} \\left(- \\frac{1.0 h p_{\\phi}^{2} p_{\\theta} \\frac{d}{d l} r{\\left(l \\right)}}{r^{5}{\\left(l \\right)} \\sin^{2}{\\left(\\theta \\right)}} - \\frac{3.0 h p_{\\phi}^{2} p_{\\theta} \\cos^{2}{\\left(\\theta \\right)} \\frac{d}{d l} r{\\left(l \\right)}}{r^{5}{\\left(l \\right)} \\sin^{4}{\\left(\\theta \\right)}} - \\frac{2.0 p_{\\phi}^{2} \\cos{\\left(\\theta \\right)} \\frac{d}{d l} r{\\left(l \\right)}}{r^{3}{\\left(l \\right)} \\sin^{3}{\\left(\\theta \\right)}}\\right)}{r^{2}{\\left(l \\right)}} + \\frac{1.0 p_{\\theta}^{2} \\frac{d}{d l} r{\\left(l \\right)}}{r^{3}{\\left(l \\right)}}\\right) + h \\left(\\frac{1.0 h p_{\\phi}^{2} p_{\\theta} \\cos{\\left(\\theta \\right)} \\frac{d}{d l} r{\\left(l \\right)}}{r^{5}{\\left(l \\right)} \\sin^{3}{\\left(\\theta \\right)}} + \\frac{1.0 p_{\\phi}^{2} \\frac{d}{d l} r{\\left(l \\right)}}{r^{3}{\\left(l \\right)} \\sin^{2}{\\left(\\theta \\right)}}\\right) + p_{l} & p_{\\phi} & \\frac{1.0 h p_{\\phi}^{2} \\cos{\\left(\\theta \\right)}}{r^{2}{\\left(l \\right)} \\sin^{3}{\\left(\\theta \\right)}} + \\frac{0.5 h p_{\\theta} \\left(- \\frac{1.0 h p_{\\phi}^{2}}{r^{2}{\\left(l \\right)} \\sin^{2}{\\left(\\theta \\right)}} - \\frac{3.0 h p_{\\phi}^{2} \\cos^{2}{\\left(\\theta \\right)}}{r^{2}{\\left(l \\right)} \\sin^{4}{\\left(\\theta \\right)}}\\right)}{r^{2}{\\left(l \\right)}} + p_{\\theta}\\end{matrix}\\right]$"
      ],
      "text/plain": [
       "Matrix([[-0.5*h*p_t + t, 0.25*h**2*p_theta**2*Derivative(r(l), l)/r(l)**3 + 0.5*h*p_l + 0.5*h*(0.5*h*p_theta**2*Derivative(r(l), l)/r(l)**3 + 1.0*h*p_theta*(-0.5*h**2*p_phi**2*p_theta*Derivative(r(l), l)/(r(l)**5*sin(theta)**2) - 1.5*h**2*p_phi**2*p_theta*cos(theta)**2*Derivative(r(l), l)/(r(l)**5*sin(theta)**4) - 1.0*h*p_phi**2*cos(theta)*Derivative(r(l), l)/(r(l)**3*sin(theta)**3))/r(l)**2) + h*(0.5*h**2*p_phi**2*p_theta*cos(theta)*Derivative(r(l), l)/(r(l)**5*sin(theta)**3) + 0.5*h*p_phi**2*Derivative(r(l), l)/(r(l)**3*sin(theta)**2)) + l, -1.0*h**2*p_phi*p_theta*cos(theta)/(r(l)**4*sin(theta)**3) + 1.0*h*p_phi/(r(l)**2*sin(theta)**2) + phi, 0.5*h**2*p_phi**2*cos(theta)/(r(l)**4*sin(theta)**3) + 0.5*h*p_theta*(-0.5*h**2*p_phi**2/(r(l)**4*sin(theta)**2) - 1.5*h**2*p_phi**2*cos(theta)**2/(r(l)**4*sin(theta)**4) + 1)/r(l)**2 + 0.5*h*p_theta/r(l)**2 + theta, p_t, 0.5*h*p_theta**2*Derivative(r(l), l)/r(l)**3 + 0.5*h*(1.0*h*p_theta*(-1.0*h*p_phi**2*p_theta*Derivative(r(l), l)/(r(l)**5*sin(theta)**2) - 3.0*h*p_phi**2*p_theta*cos(theta)**2*Derivative(r(l), l)/(r(l)**5*sin(theta)**4) - 2.0*p_phi**2*cos(theta)*Derivative(r(l), l)/(r(l)**3*sin(theta)**3))/r(l)**2 + 1.0*p_theta**2*Derivative(r(l), l)/r(l)**3) + h*(1.0*h*p_phi**2*p_theta*cos(theta)*Derivative(r(l), l)/(r(l)**5*sin(theta)**3) + 1.0*p_phi**2*Derivative(r(l), l)/(r(l)**3*sin(theta)**2)) + p_l, p_phi, 1.0*h*p_phi**2*cos(theta)/(r(l)**2*sin(theta)**3) + 0.5*h*p_theta*(-1.0*h*p_phi**2/(r(l)**2*sin(theta)**2) - 3.0*h*p_phi**2*cos(theta)**2/(r(l)**2*sin(theta)**4))/r(l)**2 + p_theta]])"
      ]
     },
     "execution_count": 7,
     "metadata": {},
     "output_type": "execute_result"
    }
   ],
   "source": [
    "z4 = z3 + 0.5*h*Poiss(z3, H2)\n",
    "z4"
   ]
  },
  {
   "cell_type": "code",
   "execution_count": 8,
   "metadata": {},
   "outputs": [
    {
     "data": {
      "text/latex": [
       "$\\displaystyle \\left[\\begin{matrix}- 1.0 h p_{t} + t & \\frac{0.25 h^{2} p_{\\theta}^{2} \\frac{d}{d l} r{\\left(l \\right)}}{r^{3}{\\left(l \\right)}} + 0.5 h p_{l} \\left(\\frac{0.25 h^{2} p_{\\theta}^{2} \\frac{d^{2}}{d l^{2}} r{\\left(l \\right)}}{r^{3}{\\left(l \\right)}} - \\frac{0.75 h^{2} p_{\\theta}^{2} \\left(\\frac{d}{d l} r{\\left(l \\right)}\\right)^{2}}{r^{4}{\\left(l \\right)}} + 0.5 h \\left(\\frac{0.5 h p_{\\theta}^{2} \\frac{d^{2}}{d l^{2}} r{\\left(l \\right)}}{r^{3}{\\left(l \\right)}} - \\frac{1.5 h p_{\\theta}^{2} \\left(\\frac{d}{d l} r{\\left(l \\right)}\\right)^{2}}{r^{4}{\\left(l \\right)}} - \\frac{2.0 h p_{\\theta} \\left(- \\frac{0.5 h^{2} p_{\\phi}^{2} p_{\\theta} \\frac{d}{d l} r{\\left(l \\right)}}{r^{5}{\\left(l \\right)} \\sin^{2}{\\left(\\theta \\right)}} - \\frac{1.5 h^{2} p_{\\phi}^{2} p_{\\theta} \\cos^{2}{\\left(\\theta \\right)} \\frac{d}{d l} r{\\left(l \\right)}}{r^{5}{\\left(l \\right)} \\sin^{4}{\\left(\\theta \\right)}} - \\frac{1.0 h p_{\\phi}^{2} \\cos{\\left(\\theta \\right)} \\frac{d}{d l} r{\\left(l \\right)}}{r^{3}{\\left(l \\right)} \\sin^{3}{\\left(\\theta \\right)}}\\right) \\frac{d}{d l} r{\\left(l \\right)}}{r^{3}{\\left(l \\right)}} + \\frac{1.0 h p_{\\theta} \\left(- \\frac{0.5 h^{2} p_{\\phi}^{2} p_{\\theta} \\frac{d^{2}}{d l^{2}} r{\\left(l \\right)}}{r^{5}{\\left(l \\right)} \\sin^{2}{\\left(\\theta \\right)}} - \\frac{1.5 h^{2} p_{\\phi}^{2} p_{\\theta} \\cos^{2}{\\left(\\theta \\right)} \\frac{d^{2}}{d l^{2}} r{\\left(l \\right)}}{r^{5}{\\left(l \\right)} \\sin^{4}{\\left(\\theta \\right)}} + \\frac{2.5 h^{2} p_{\\phi}^{2} p_{\\theta} \\left(\\frac{d}{d l} r{\\left(l \\right)}\\right)^{2}}{r^{6}{\\left(l \\right)} \\sin^{2}{\\left(\\theta \\right)}} + \\frac{7.5 h^{2} p_{\\phi}^{2} p_{\\theta} \\cos^{2}{\\left(\\theta \\right)} \\left(\\frac{d}{d l} r{\\left(l \\right)}\\right)^{2}}{r^{6}{\\left(l \\right)} \\sin^{4}{\\left(\\theta \\right)}} - \\frac{1.0 h p_{\\phi}^{2} \\cos{\\left(\\theta \\right)} \\frac{d^{2}}{d l^{2}} r{\\left(l \\right)}}{r^{3}{\\left(l \\right)} \\sin^{3}{\\left(\\theta \\right)}} + \\frac{3.0 h p_{\\phi}^{2} \\cos{\\left(\\theta \\right)} \\left(\\frac{d}{d l} r{\\left(l \\right)}\\right)^{2}}{r^{4}{\\left(l \\right)} \\sin^{3}{\\left(\\theta \\right)}}\\right)}{r^{2}{\\left(l \\right)}}\\right) + h \\left(\\frac{0.5 h^{2} p_{\\phi}^{2} p_{\\theta} \\cos{\\left(\\theta \\right)} \\frac{d^{2}}{d l^{2}} r{\\left(l \\right)}}{r^{5}{\\left(l \\right)} \\sin^{3}{\\left(\\theta \\right)}} - \\frac{2.5 h^{2} p_{\\phi}^{2} p_{\\theta} \\cos{\\left(\\theta \\right)} \\left(\\frac{d}{d l} r{\\left(l \\right)}\\right)^{2}}{r^{6}{\\left(l \\right)} \\sin^{3}{\\left(\\theta \\right)}} + \\frac{0.5 h p_{\\phi}^{2} \\frac{d^{2}}{d l^{2}} r{\\left(l \\right)}}{r^{3}{\\left(l \\right)} \\sin^{2}{\\left(\\theta \\right)}} - \\frac{1.5 h p_{\\phi}^{2} \\left(\\frac{d}{d l} r{\\left(l \\right)}\\right)^{2}}{r^{4}{\\left(l \\right)} \\sin^{2}{\\left(\\theta \\right)}}\\right) + 1\\right) + 0.5 h p_{l} + 0.5 h \\left(\\frac{0.5 h p_{\\theta}^{2} \\frac{d}{d l} r{\\left(l \\right)}}{r^{3}{\\left(l \\right)}} + \\frac{1.0 h p_{\\theta} \\left(- \\frac{0.5 h^{2} p_{\\phi}^{2} p_{\\theta} \\frac{d}{d l} r{\\left(l \\right)}}{r^{5}{\\left(l \\right)} \\sin^{2}{\\left(\\theta \\right)}} - \\frac{1.5 h^{2} p_{\\phi}^{2} p_{\\theta} \\cos^{2}{\\left(\\theta \\right)} \\frac{d}{d l} r{\\left(l \\right)}}{r^{5}{\\left(l \\right)} \\sin^{4}{\\left(\\theta \\right)}} - \\frac{1.0 h p_{\\phi}^{2} \\cos{\\left(\\theta \\right)} \\frac{d}{d l} r{\\left(l \\right)}}{r^{3}{\\left(l \\right)} \\sin^{3}{\\left(\\theta \\right)}}\\right)}{r^{2}{\\left(l \\right)}}\\right) + h \\left(\\frac{0.5 h^{2} p_{\\phi}^{2} p_{\\theta} \\cos{\\left(\\theta \\right)} \\frac{d}{d l} r{\\left(l \\right)}}{r^{5}{\\left(l \\right)} \\sin^{3}{\\left(\\theta \\right)}} + \\frac{0.5 h p_{\\phi}^{2} \\frac{d}{d l} r{\\left(l \\right)}}{r^{3}{\\left(l \\right)} \\sin^{2}{\\left(\\theta \\right)}}\\right) + l & - \\frac{1.0 h^{2} p_{\\phi} p_{\\theta} \\cos{\\left(\\theta \\right)}}{r^{4}{\\left(l \\right)} \\sin^{3}{\\left(\\theta \\right)}} + 0.5 h p_{l} \\left(\\frac{4.0 h^{2} p_{\\phi} p_{\\theta} \\cos{\\left(\\theta \\right)} \\frac{d}{d l} r{\\left(l \\right)}}{r^{5}{\\left(l \\right)} \\sin^{3}{\\left(\\theta \\right)}} - \\frac{2.0 h p_{\\phi} \\frac{d}{d l} r{\\left(l \\right)}}{r^{3}{\\left(l \\right)} \\sin^{2}{\\left(\\theta \\right)}}\\right) + \\frac{1.0 h p_{\\phi}}{r^{2}{\\left(l \\right)} \\sin^{2}{\\left(\\theta \\right)}} + \\phi & \\frac{0.5 h^{2} p_{\\phi}^{2} \\cos{\\left(\\theta \\right)}}{r^{4}{\\left(l \\right)} \\sin^{3}{\\left(\\theta \\right)}} + 0.5 h p_{l} \\left(- \\frac{2.0 h^{2} p_{\\phi}^{2} \\cos{\\left(\\theta \\right)} \\frac{d}{d l} r{\\left(l \\right)}}{r^{5}{\\left(l \\right)} \\sin^{3}{\\left(\\theta \\right)}} + \\frac{0.5 h p_{\\theta} \\left(\\frac{2.0 h^{2} p_{\\phi}^{2} \\frac{d}{d l} r{\\left(l \\right)}}{r^{5}{\\left(l \\right)} \\sin^{2}{\\left(\\theta \\right)}} + \\frac{6.0 h^{2} p_{\\phi}^{2} \\cos^{2}{\\left(\\theta \\right)} \\frac{d}{d l} r{\\left(l \\right)}}{r^{5}{\\left(l \\right)} \\sin^{4}{\\left(\\theta \\right)}}\\right)}{r^{2}{\\left(l \\right)}} - \\frac{1.0 h p_{\\theta} \\left(- \\frac{0.5 h^{2} p_{\\phi}^{2}}{r^{4}{\\left(l \\right)} \\sin^{2}{\\left(\\theta \\right)}} - \\frac{1.5 h^{2} p_{\\phi}^{2} \\cos^{2}{\\left(\\theta \\right)}}{r^{4}{\\left(l \\right)} \\sin^{4}{\\left(\\theta \\right)}} + 1\\right) \\frac{d}{d l} r{\\left(l \\right)}}{r^{3}{\\left(l \\right)}} - \\frac{1.0 h p_{\\theta} \\frac{d}{d l} r{\\left(l \\right)}}{r^{3}{\\left(l \\right)}}\\right) + \\frac{0.5 h p_{\\theta} \\left(- \\frac{0.5 h^{2} p_{\\phi}^{2}}{r^{4}{\\left(l \\right)} \\sin^{2}{\\left(\\theta \\right)}} - \\frac{1.5 h^{2} p_{\\phi}^{2} \\cos^{2}{\\left(\\theta \\right)}}{r^{4}{\\left(l \\right)} \\sin^{4}{\\left(\\theta \\right)}} + 1\\right)}{r^{2}{\\left(l \\right)}} + \\frac{0.5 h p_{\\theta}}{r^{2}{\\left(l \\right)}} + \\theta & p_{t} & 0.5 h p_{l} \\left(\\frac{0.5 h p_{\\theta}^{2} \\frac{d^{2}}{d l^{2}} r{\\left(l \\right)}}{r^{3}{\\left(l \\right)}} - \\frac{1.5 h p_{\\theta}^{2} \\left(\\frac{d}{d l} r{\\left(l \\right)}\\right)^{2}}{r^{4}{\\left(l \\right)}} + 0.5 h \\left(- \\frac{2.0 h p_{\\theta} \\left(- \\frac{1.0 h p_{\\phi}^{2} p_{\\theta} \\frac{d}{d l} r{\\left(l \\right)}}{r^{5}{\\left(l \\right)} \\sin^{2}{\\left(\\theta \\right)}} - \\frac{3.0 h p_{\\phi}^{2} p_{\\theta} \\cos^{2}{\\left(\\theta \\right)} \\frac{d}{d l} r{\\left(l \\right)}}{r^{5}{\\left(l \\right)} \\sin^{4}{\\left(\\theta \\right)}} - \\frac{2.0 p_{\\phi}^{2} \\cos{\\left(\\theta \\right)} \\frac{d}{d l} r{\\left(l \\right)}}{r^{3}{\\left(l \\right)} \\sin^{3}{\\left(\\theta \\right)}}\\right) \\frac{d}{d l} r{\\left(l \\right)}}{r^{3}{\\left(l \\right)}} + \\frac{1.0 h p_{\\theta} \\left(- \\frac{1.0 h p_{\\phi}^{2} p_{\\theta} \\frac{d^{2}}{d l^{2}} r{\\left(l \\right)}}{r^{5}{\\left(l \\right)} \\sin^{2}{\\left(\\theta \\right)}} - \\frac{3.0 h p_{\\phi}^{2} p_{\\theta} \\cos^{2}{\\left(\\theta \\right)} \\frac{d^{2}}{d l^{2}} r{\\left(l \\right)}}{r^{5}{\\left(l \\right)} \\sin^{4}{\\left(\\theta \\right)}} + \\frac{5.0 h p_{\\phi}^{2} p_{\\theta} \\left(\\frac{d}{d l} r{\\left(l \\right)}\\right)^{2}}{r^{6}{\\left(l \\right)} \\sin^{2}{\\left(\\theta \\right)}} + \\frac{15.0 h p_{\\phi}^{2} p_{\\theta} \\cos^{2}{\\left(\\theta \\right)} \\left(\\frac{d}{d l} r{\\left(l \\right)}\\right)^{2}}{r^{6}{\\left(l \\right)} \\sin^{4}{\\left(\\theta \\right)}} - \\frac{2.0 p_{\\phi}^{2} \\cos{\\left(\\theta \\right)} \\frac{d^{2}}{d l^{2}} r{\\left(l \\right)}}{r^{3}{\\left(l \\right)} \\sin^{3}{\\left(\\theta \\right)}} + \\frac{6.0 p_{\\phi}^{2} \\cos{\\left(\\theta \\right)} \\left(\\frac{d}{d l} r{\\left(l \\right)}\\right)^{2}}{r^{4}{\\left(l \\right)} \\sin^{3}{\\left(\\theta \\right)}}\\right)}{r^{2}{\\left(l \\right)}} + \\frac{1.0 p_{\\theta}^{2} \\frac{d^{2}}{d l^{2}} r{\\left(l \\right)}}{r^{3}{\\left(l \\right)}} - \\frac{3.0 p_{\\theta}^{2} \\left(\\frac{d}{d l} r{\\left(l \\right)}\\right)^{2}}{r^{4}{\\left(l \\right)}}\\right) + h \\left(\\frac{1.0 h p_{\\phi}^{2} p_{\\theta} \\cos{\\left(\\theta \\right)} \\frac{d^{2}}{d l^{2}} r{\\left(l \\right)}}{r^{5}{\\left(l \\right)} \\sin^{3}{\\left(\\theta \\right)}} - \\frac{5.0 h p_{\\phi}^{2} p_{\\theta} \\cos{\\left(\\theta \\right)} \\left(\\frac{d}{d l} r{\\left(l \\right)}\\right)^{2}}{r^{6}{\\left(l \\right)} \\sin^{3}{\\left(\\theta \\right)}} + \\frac{1.0 p_{\\phi}^{2} \\frac{d^{2}}{d l^{2}} r{\\left(l \\right)}}{r^{3}{\\left(l \\right)} \\sin^{2}{\\left(\\theta \\right)}} - \\frac{3.0 p_{\\phi}^{2} \\left(\\frac{d}{d l} r{\\left(l \\right)}\\right)^{2}}{r^{4}{\\left(l \\right)} \\sin^{2}{\\left(\\theta \\right)}}\\right)\\right) + \\frac{0.5 h p_{\\theta}^{2} \\frac{d}{d l} r{\\left(l \\right)}}{r^{3}{\\left(l \\right)}} + 0.5 h \\left(\\frac{1.0 h p_{\\theta} \\left(- \\frac{1.0 h p_{\\phi}^{2} p_{\\theta} \\frac{d}{d l} r{\\left(l \\right)}}{r^{5}{\\left(l \\right)} \\sin^{2}{\\left(\\theta \\right)}} - \\frac{3.0 h p_{\\phi}^{2} p_{\\theta} \\cos^{2}{\\left(\\theta \\right)} \\frac{d}{d l} r{\\left(l \\right)}}{r^{5}{\\left(l \\right)} \\sin^{4}{\\left(\\theta \\right)}} - \\frac{2.0 p_{\\phi}^{2} \\cos{\\left(\\theta \\right)} \\frac{d}{d l} r{\\left(l \\right)}}{r^{3}{\\left(l \\right)} \\sin^{3}{\\left(\\theta \\right)}}\\right)}{r^{2}{\\left(l \\right)}} + \\frac{1.0 p_{\\theta}^{2} \\frac{d}{d l} r{\\left(l \\right)}}{r^{3}{\\left(l \\right)}}\\right) + h \\left(\\frac{1.0 h p_{\\phi}^{2} p_{\\theta} \\cos{\\left(\\theta \\right)} \\frac{d}{d l} r{\\left(l \\right)}}{r^{5}{\\left(l \\right)} \\sin^{3}{\\left(\\theta \\right)}} + \\frac{1.0 p_{\\phi}^{2} \\frac{d}{d l} r{\\left(l \\right)}}{r^{3}{\\left(l \\right)} \\sin^{2}{\\left(\\theta \\right)}}\\right) + p_{l} & p_{\\phi} & 0.5 h p_{l} \\left(- \\frac{2.0 h p_{\\phi}^{2} \\cos{\\left(\\theta \\right)} \\frac{d}{d l} r{\\left(l \\right)}}{r^{3}{\\left(l \\right)} \\sin^{3}{\\left(\\theta \\right)}} - \\frac{1.0 h p_{\\theta} \\left(- \\frac{1.0 h p_{\\phi}^{2}}{r^{2}{\\left(l \\right)} \\sin^{2}{\\left(\\theta \\right)}} - \\frac{3.0 h p_{\\phi}^{2} \\cos^{2}{\\left(\\theta \\right)}}{r^{2}{\\left(l \\right)} \\sin^{4}{\\left(\\theta \\right)}}\\right) \\frac{d}{d l} r{\\left(l \\right)}}{r^{3}{\\left(l \\right)}} + \\frac{0.5 h p_{\\theta} \\left(\\frac{2.0 h p_{\\phi}^{2} \\frac{d}{d l} r{\\left(l \\right)}}{r^{3}{\\left(l \\right)} \\sin^{2}{\\left(\\theta \\right)}} + \\frac{6.0 h p_{\\phi}^{2} \\cos^{2}{\\left(\\theta \\right)} \\frac{d}{d l} r{\\left(l \\right)}}{r^{3}{\\left(l \\right)} \\sin^{4}{\\left(\\theta \\right)}}\\right)}{r^{2}{\\left(l \\right)}}\\right) + \\frac{1.0 h p_{\\phi}^{2} \\cos{\\left(\\theta \\right)}}{r^{2}{\\left(l \\right)} \\sin^{3}{\\left(\\theta \\right)}} + \\frac{0.5 h p_{\\theta} \\left(- \\frac{1.0 h p_{\\phi}^{2}}{r^{2}{\\left(l \\right)} \\sin^{2}{\\left(\\theta \\right)}} - \\frac{3.0 h p_{\\phi}^{2} \\cos^{2}{\\left(\\theta \\right)}}{r^{2}{\\left(l \\right)} \\sin^{4}{\\left(\\theta \\right)}}\\right)}{r^{2}{\\left(l \\right)}} + p_{\\theta}\\end{matrix}\\right]$"
      ],
      "text/plain": [
       "Matrix([[-1.0*h*p_t + t, 0.25*h**2*p_theta**2*Derivative(r(l), l)/r(l)**3 + 0.5*h*p_l*(0.25*h**2*p_theta**2*Derivative(r(l), (l, 2))/r(l)**3 - 0.75*h**2*p_theta**2*Derivative(r(l), l)**2/r(l)**4 + 0.5*h*(0.5*h*p_theta**2*Derivative(r(l), (l, 2))/r(l)**3 - 1.5*h*p_theta**2*Derivative(r(l), l)**2/r(l)**4 - 2.0*h*p_theta*(-0.5*h**2*p_phi**2*p_theta*Derivative(r(l), l)/(r(l)**5*sin(theta)**2) - 1.5*h**2*p_phi**2*p_theta*cos(theta)**2*Derivative(r(l), l)/(r(l)**5*sin(theta)**4) - 1.0*h*p_phi**2*cos(theta)*Derivative(r(l), l)/(r(l)**3*sin(theta)**3))*Derivative(r(l), l)/r(l)**3 + 1.0*h*p_theta*(-0.5*h**2*p_phi**2*p_theta*Derivative(r(l), (l, 2))/(r(l)**5*sin(theta)**2) - 1.5*h**2*p_phi**2*p_theta*cos(theta)**2*Derivative(r(l), (l, 2))/(r(l)**5*sin(theta)**4) + 2.5*h**2*p_phi**2*p_theta*Derivative(r(l), l)**2/(r(l)**6*sin(theta)**2) + 7.5*h**2*p_phi**2*p_theta*cos(theta)**2*Derivative(r(l), l)**2/(r(l)**6*sin(theta)**4) - 1.0*h*p_phi**2*cos(theta)*Derivative(r(l), (l, 2))/(r(l)**3*sin(theta)**3) + 3.0*h*p_phi**2*cos(theta)*Derivative(r(l), l)**2/(r(l)**4*sin(theta)**3))/r(l)**2) + h*(0.5*h**2*p_phi**2*p_theta*cos(theta)*Derivative(r(l), (l, 2))/(r(l)**5*sin(theta)**3) - 2.5*h**2*p_phi**2*p_theta*cos(theta)*Derivative(r(l), l)**2/(r(l)**6*sin(theta)**3) + 0.5*h*p_phi**2*Derivative(r(l), (l, 2))/(r(l)**3*sin(theta)**2) - 1.5*h*p_phi**2*Derivative(r(l), l)**2/(r(l)**4*sin(theta)**2)) + 1) + 0.5*h*p_l + 0.5*h*(0.5*h*p_theta**2*Derivative(r(l), l)/r(l)**3 + 1.0*h*p_theta*(-0.5*h**2*p_phi**2*p_theta*Derivative(r(l), l)/(r(l)**5*sin(theta)**2) - 1.5*h**2*p_phi**2*p_theta*cos(theta)**2*Derivative(r(l), l)/(r(l)**5*sin(theta)**4) - 1.0*h*p_phi**2*cos(theta)*Derivative(r(l), l)/(r(l)**3*sin(theta)**3))/r(l)**2) + h*(0.5*h**2*p_phi**2*p_theta*cos(theta)*Derivative(r(l), l)/(r(l)**5*sin(theta)**3) + 0.5*h*p_phi**2*Derivative(r(l), l)/(r(l)**3*sin(theta)**2)) + l, -1.0*h**2*p_phi*p_theta*cos(theta)/(r(l)**4*sin(theta)**3) + 0.5*h*p_l*(4.0*h**2*p_phi*p_theta*cos(theta)*Derivative(r(l), l)/(r(l)**5*sin(theta)**3) - 2.0*h*p_phi*Derivative(r(l), l)/(r(l)**3*sin(theta)**2)) + 1.0*h*p_phi/(r(l)**2*sin(theta)**2) + phi, 0.5*h**2*p_phi**2*cos(theta)/(r(l)**4*sin(theta)**3) + 0.5*h*p_l*(-2.0*h**2*p_phi**2*cos(theta)*Derivative(r(l), l)/(r(l)**5*sin(theta)**3) + 0.5*h*p_theta*(2.0*h**2*p_phi**2*Derivative(r(l), l)/(r(l)**5*sin(theta)**2) + 6.0*h**2*p_phi**2*cos(theta)**2*Derivative(r(l), l)/(r(l)**5*sin(theta)**4))/r(l)**2 - 1.0*h*p_theta*(-0.5*h**2*p_phi**2/(r(l)**4*sin(theta)**2) - 1.5*h**2*p_phi**2*cos(theta)**2/(r(l)**4*sin(theta)**4) + 1)*Derivative(r(l), l)/r(l)**3 - 1.0*h*p_theta*Derivative(r(l), l)/r(l)**3) + 0.5*h*p_theta*(-0.5*h**2*p_phi**2/(r(l)**4*sin(theta)**2) - 1.5*h**2*p_phi**2*cos(theta)**2/(r(l)**4*sin(theta)**4) + 1)/r(l)**2 + 0.5*h*p_theta/r(l)**2 + theta, p_t, 0.5*h*p_l*(0.5*h*p_theta**2*Derivative(r(l), (l, 2))/r(l)**3 - 1.5*h*p_theta**2*Derivative(r(l), l)**2/r(l)**4 + 0.5*h*(-2.0*h*p_theta*(-1.0*h*p_phi**2*p_theta*Derivative(r(l), l)/(r(l)**5*sin(theta)**2) - 3.0*h*p_phi**2*p_theta*cos(theta)**2*Derivative(r(l), l)/(r(l)**5*sin(theta)**4) - 2.0*p_phi**2*cos(theta)*Derivative(r(l), l)/(r(l)**3*sin(theta)**3))*Derivative(r(l), l)/r(l)**3 + 1.0*h*p_theta*(-1.0*h*p_phi**2*p_theta*Derivative(r(l), (l, 2))/(r(l)**5*sin(theta)**2) - 3.0*h*p_phi**2*p_theta*cos(theta)**2*Derivative(r(l), (l, 2))/(r(l)**5*sin(theta)**4) + 5.0*h*p_phi**2*p_theta*Derivative(r(l), l)**2/(r(l)**6*sin(theta)**2) + 15.0*h*p_phi**2*p_theta*cos(theta)**2*Derivative(r(l), l)**2/(r(l)**6*sin(theta)**4) - 2.0*p_phi**2*cos(theta)*Derivative(r(l), (l, 2))/(r(l)**3*sin(theta)**3) + 6.0*p_phi**2*cos(theta)*Derivative(r(l), l)**2/(r(l)**4*sin(theta)**3))/r(l)**2 + 1.0*p_theta**2*Derivative(r(l), (l, 2))/r(l)**3 - 3.0*p_theta**2*Derivative(r(l), l)**2/r(l)**4) + h*(1.0*h*p_phi**2*p_theta*cos(theta)*Derivative(r(l), (l, 2))/(r(l)**5*sin(theta)**3) - 5.0*h*p_phi**2*p_theta*cos(theta)*Derivative(r(l), l)**2/(r(l)**6*sin(theta)**3) + 1.0*p_phi**2*Derivative(r(l), (l, 2))/(r(l)**3*sin(theta)**2) - 3.0*p_phi**2*Derivative(r(l), l)**2/(r(l)**4*sin(theta)**2))) + 0.5*h*p_theta**2*Derivative(r(l), l)/r(l)**3 + 0.5*h*(1.0*h*p_theta*(-1.0*h*p_phi**2*p_theta*Derivative(r(l), l)/(r(l)**5*sin(theta)**2) - 3.0*h*p_phi**2*p_theta*cos(theta)**2*Derivative(r(l), l)/(r(l)**5*sin(theta)**4) - 2.0*p_phi**2*cos(theta)*Derivative(r(l), l)/(r(l)**3*sin(theta)**3))/r(l)**2 + 1.0*p_theta**2*Derivative(r(l), l)/r(l)**3) + h*(1.0*h*p_phi**2*p_theta*cos(theta)*Derivative(r(l), l)/(r(l)**5*sin(theta)**3) + 1.0*p_phi**2*Derivative(r(l), l)/(r(l)**3*sin(theta)**2)) + p_l, p_phi, 0.5*h*p_l*(-2.0*h*p_phi**2*cos(theta)*Derivative(r(l), l)/(r(l)**3*sin(theta)**3) - 1.0*h*p_theta*(-1.0*h*p_phi**2/(r(l)**2*sin(theta)**2) - 3.0*h*p_phi**2*cos(theta)**2/(r(l)**2*sin(theta)**4))*Derivative(r(l), l)/r(l)**3 + 0.5*h*p_theta*(2.0*h*p_phi**2*Derivative(r(l), l)/(r(l)**3*sin(theta)**2) + 6.0*h*p_phi**2*cos(theta)**2*Derivative(r(l), l)/(r(l)**3*sin(theta)**4))/r(l)**2) + 1.0*h*p_phi**2*cos(theta)/(r(l)**2*sin(theta)**3) + 0.5*h*p_theta*(-1.0*h*p_phi**2/(r(l)**2*sin(theta)**2) - 3.0*h*p_phi**2*cos(theta)**2/(r(l)**2*sin(theta)**4))/r(l)**2 + p_theta]])"
      ]
     },
     "execution_count": 8,
     "metadata": {},
     "output_type": "execute_result"
    }
   ],
   "source": [
    "z5 = z4 + 0.5*h*Poiss(z4, H1)\n",
    "z5"
   ]
  },
  {
   "cell_type": "code",
   "execution_count": 12,
   "metadata": {},
   "outputs": [
    {
     "data": {
      "text/latex": [
       "$\\displaystyle \\left[\\begin{matrix}t & l & \\phi & \\theta & p_{t} & p_{l} & p_{\\phi} & p_{\\theta}\\end{matrix}\\right]$"
      ],
      "text/plain": [
       "Matrix([[t, l, phi, theta, p_t, p_l, p_phi, p_theta]])"
      ]
     },
     "execution_count": 12,
     "metadata": {},
     "output_type": "execute_result"
    }
   ],
   "source": [
    "z_h0 = z5.subs(h,0)\n",
    "z_h0"
   ]
  },
  {
   "cell_type": "code",
   "execution_count": 13,
   "metadata": {},
   "outputs": [
    {
     "data": {
      "text/latex": [
       "$\\displaystyle \\left[\\begin{matrix}- 1.0 p_{t} & 1.0 p_{l} & \\frac{1.0 p_{\\phi}}{r^{2}{\\left(l \\right)} \\sin^{2}{\\left(\\theta \\right)}} & \\frac{1.0 p_{\\theta}}{r^{2}{\\left(l \\right)}} & 0 & \\frac{1.0 \\left(\\frac{p_{\\phi}^{2}}{\\sin^{2}{\\left(\\theta \\right)}} + p_{\\theta}^{2}\\right) \\frac{d}{d l} r{\\left(l \\right)}}{r^{3}{\\left(l \\right)}} & 0 & \\frac{1.0 p_{\\phi}^{2} \\cos{\\left(\\theta \\right)}}{r^{2}{\\left(l \\right)} \\sin^{3}{\\left(\\theta \\right)}}\\end{matrix}\\right]$"
      ],
      "text/plain": [
       "Matrix([[-1.0*p_t, 1.0*p_l, 1.0*p_phi/(r(l)**2*sin(theta)**2), 1.0*p_theta/r(l)**2, 0, 1.0*(p_phi**2/sin(theta)**2 + p_theta**2)*Derivative(r(l), l)/r(l)**3, 0, 1.0*p_phi**2*cos(theta)/(r(l)**2*sin(theta)**3)]])"
      ]
     },
     "execution_count": 13,
     "metadata": {},
     "output_type": "execute_result"
    }
   ],
   "source": [
    "z_h1 = sp.simplify((z5 - z_h0)/h).subs(h,0)\n",
    "sp.simplify(z_h1)"
   ]
  },
  {
   "cell_type": "code",
   "execution_count": 14,
   "metadata": {},
   "outputs": [
    {
     "data": {
      "text/latex": [
       "$\\displaystyle \\left[\\begin{matrix}0 & \\frac{0.5 \\left(\\frac{p_{\\phi}^{2}}{\\sin^{2}{\\left(\\theta \\right)}} + p_{\\theta}^{2}\\right) \\frac{d}{d l} r{\\left(l \\right)}}{r^{3}{\\left(l \\right)}} & - \\frac{1.0 p_{\\phi} \\left(p_{l} r{\\left(l \\right)} \\sin{\\left(\\theta \\right)} \\frac{d}{d l} r{\\left(l \\right)} + p_{\\theta} \\cos{\\left(\\theta \\right)}\\right)}{r^{4}{\\left(l \\right)} \\sin^{3}{\\left(\\theta \\right)}} & \\frac{0.25 \\left(- 4 p_{l} p_{\\theta} r{\\left(l \\right)} \\frac{d}{d l} r{\\left(l \\right)} + \\frac{2 p_{\\phi}^{2} \\cos{\\left(\\theta \\right)}}{\\sin^{3}{\\left(\\theta \\right)}}\\right)}{r^{4}{\\left(l \\right)}} & 0 & \\frac{p_{l} \\left(0.5 p_{\\phi}^{2} r{\\left(l \\right)} \\frac{d^{2}}{d l^{2}} r{\\left(l \\right)} - 1.5 p_{\\phi}^{2} \\left(\\frac{d}{d l} r{\\left(l \\right)}\\right)^{2} + p_{\\theta}^{2} \\left(0.5 r{\\left(l \\right)} \\frac{d^{2}}{d l^{2}} r{\\left(l \\right)} - 1.5 \\left(\\frac{d}{d l} r{\\left(l \\right)}\\right)^{2}\\right) \\sin^{2}{\\left(\\theta \\right)}\\right)}{r^{4}{\\left(l \\right)} \\sin^{2}{\\left(\\theta \\right)}} & 0 & \\frac{0.5 p_{\\phi}^{2} \\left(- p_{l} r{\\left(l \\right)} \\sin{\\left(2 \\theta \\right)} \\frac{d}{d l} r{\\left(l \\right)} + p_{\\theta} \\left(2.0 \\sin^{2}{\\left(\\theta \\right)} - 3.0\\right)\\right)}{r^{4}{\\left(l \\right)} \\sin^{4}{\\left(\\theta \\right)}}\\end{matrix}\\right]$"
      ],
      "text/plain": [
       "Matrix([[0, 0.5*(p_phi**2/sin(theta)**2 + p_theta**2)*Derivative(r(l), l)/r(l)**3, -1.0*p_phi*(p_l*r(l)*sin(theta)*Derivative(r(l), l) + p_theta*cos(theta))/(r(l)**4*sin(theta)**3), 0.25*(-4*p_l*p_theta*r(l)*Derivative(r(l), l) + 2*p_phi**2*cos(theta)/sin(theta)**3)/r(l)**4, 0, p_l*(0.5*p_phi**2*r(l)*Derivative(r(l), (l, 2)) - 1.5*p_phi**2*Derivative(r(l), l)**2 + p_theta**2*(0.5*r(l)*Derivative(r(l), (l, 2)) - 1.5*Derivative(r(l), l)**2)*sin(theta)**2)/(r(l)**4*sin(theta)**2), 0, 0.5*p_phi**2*(-p_l*r(l)*sin(2*theta)*Derivative(r(l), l) + p_theta*(2.0*sin(theta)**2 - 3.0))/(r(l)**4*sin(theta)**4)]])"
      ]
     },
     "execution_count": 14,
     "metadata": {},
     "output_type": "execute_result"
    }
   ],
   "source": [
    "z_h2 = sp.simplify( ((z5 - z_h0)/h - z_h1)/h ).subs(h,0)\n",
    "sp.simplify(z_h2)"
   ]
  },
  {
   "cell_type": "code",
   "execution_count": 9,
   "metadata": {},
   "outputs": [
    {
     "data": {
      "text/latex": [
       "$\\displaystyle \\frac{0.4}{0.004 + 0.1 \\pi^{2}}$"
      ],
      "text/plain": [
       "0.4/(0.004 + 0.1*pi**2)"
      ]
     },
     "execution_count": 9,
     "metadata": {},
     "output_type": "execute_result"
    }
   ],
   "source": [
    "4*1*0.1/(sp.pi**2*1**2*sp.Abs(0.1) + 4*sp.Abs(0.1)**3)"
   ]
  },
  {
   "cell_type": "code",
   "execution_count": null,
   "metadata": {},
   "outputs": [],
   "source": []
  }
 ],
 "metadata": {
  "kernelspec": {
   "display_name": "Python 3",
   "language": "python",
   "name": "python3"
  },
  "language_info": {
   "codemirror_mode": {
    "name": "ipython",
    "version": 3
   },
   "file_extension": ".py",
   "mimetype": "text/x-python",
   "name": "python",
   "nbconvert_exporter": "python",
   "pygments_lexer": "ipython3",
   "version": "3.8.5"
  }
 },
 "nbformat": 4,
 "nbformat_minor": 4
}
