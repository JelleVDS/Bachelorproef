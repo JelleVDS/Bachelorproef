{
 "cells": [
  {
   "cell_type": "code",
   "execution_count": 1,
   "metadata": {},
   "outputs": [],
   "source": [
    "%matplotlib notebook\n",
    "import numpy as np\n",
    "import matplotlib.pyplot as plt\n",
    "import cv2\n",
    "import os"
   ]
  },
  {
   "cell_type": "code",
   "execution_count": 2,
   "metadata": {},
   "outputs": [],
   "source": [
    "import InbeddingDiagramDNeg as Dia\n",
    "import WormholeRayTracer as wrmhole\n",
    "import WormholeGraphics as wg\n",
    "import Symplectic_DNeg as Smpl"
   ]
  },
  {
   "cell_type": "code",
   "execution_count": 3,
   "metadata": {},
   "outputs": [],
   "source": [
    "path = os.getcwd()"
   ]
  },
  {
   "cell_type": "code",
   "execution_count": 4,
   "metadata": {},
   "outputs": [],
   "source": [
    "Par = [0.8/1.42953, 8.6*2/3, 4.3*2/3] # M, rho, a parameters wormhole\n",
    "\n",
    "initial_q = np.array([12, np.pi, np.pi/2])"
   ]
  },
  {
   "cell_type": "code",
   "execution_count": null,
   "metadata": {},
   "outputs": [
    {
     "name": "stdout",
     "output_type": "stream",
     "text": [
      "[12.          3.14159265  1.57079633]\n"
     ]
    }
   ],
   "source": [
    "print(Par, initial_q)\n",
    "Grid_dimension = '3D'\n",
    "mode = 0\n",
    "Motion1, Grid1, CM1 = wrmhole.Simulate_DNeg(Smpl.Sympl_DNeg, Par, 0.05, 2000, initial_q, 20**2, 20**2, Grid_dimension, mode, wg.Grid_constr_3D_Sph)"
   ]
  },
  {
   "cell_type": "code",
   "execution_count": null,
   "metadata": {},
   "outputs": [],
   "source": [
    "Cosyst =  ' Sph '\n",
    "cv2.imwrite(os.path.join(path, \"Pictures/Image \"+Grid_dimension+\"Gr\"+Cosyst+\"DNeg Sympl\"+str(Par)+\" \"+str(initial_q)+\".png\"),\n",
    "            255*wg.Make_Pict_RGBP(Motion1[-1, 1], Grid1))"
   ]
  },
  {
   "cell_type": "code",
   "execution_count": null,
   "metadata": {},
   "outputs": [],
   "source": [
    "cv2.imwrite(os.path.join(path, \"Pictures/Image \"+\"2DGr DNeg Sympl\"+str(Par)+\" \"+str(initial_q)+\".png\"),\n",
    "            255*wg.Make_Pict_RGBP(Motion1[-1, 1], wg.Grid_constr_2D(Motion1[-1, 1], 11, 1, 0.05)))"
   ]
  },
  {
   "cell_type": "code",
   "execution_count": null,
   "metadata": {},
   "outputs": [],
   "source": [
    "cv2.imwrite(os.path.join(path, \"Pictures/Image \"+\"NoGrid DNeg Sympl\"+str(Par)+\" \"+str(initial_q)+\".png\"),\n",
    "            255*wg.Make_Pict_RGBP(Motion1[-1, 1], np.zeros(Motion1[-1, 1, 0].shape, dtype=bool)))"
   ]
  },
  {
   "cell_type": "code",
   "execution_count": null,
   "metadata": {},
   "outputs": [],
   "source": [
    "Motion2 = wrmhole.simulate_raytracer_fullpath(100, Par, initial_q, 20**2, 20**2)"
   ]
  },
  {
   "cell_type": "code",
   "execution_count": null,
   "metadata": {},
   "outputs": [],
   "source": [
    "cv2.imwrite(os.path.join(path, \"Pictures/Image \"+\"2DGr DNeg Scipy intgr.\"+str(Par)+\" \"+str(initial_q)+\".png\"),\n",
    "            255*wg.Make_Pict_RGBP(Motion2[-1, 1], wg.Grid_constr_2D(Motion2[-1, 1], 11, 1, 0.05)))"
   ]
  },
  {
   "cell_type": "code",
   "execution_count": null,
   "metadata": {},
   "outputs": [],
   "source": [
    "Geo_label = None #list of strings for labeling geodesics, turn Geo_sel to None\n",
    "#Geo_Sel = None\n",
    "Geo_Sel = [[31,29],[64,54],[99,31],[97,52],[146,146],[203,39]]\n",
    "if Geo_Sel == None:\n",
    "    Geo_txt = \"\"\n",
    "else:\n",
    "    Geo_txt = str(Geo_Sel)\n",
    "wg.gdsc(Motion1, Par, \"Pictures/geodesics \"+Geo_txt+\" DNeg Sympl\"+str(Par)+\" \"+str(initial_q)+\".png\", path, Geo_label, Geo_Sel)"
   ]
  },
  {
   "cell_type": "code",
   "execution_count": null,
   "metadata": {},
   "outputs": [],
   "source": []
  },
  {
   "cell_type": "code",
   "execution_count": null,
   "metadata": {},
   "outputs": [],
   "source": []
  }
 ],
 "metadata": {
  "kernelspec": {
   "display_name": "Python 3",
   "language": "python",
   "name": "python3"
  },
  "language_info": {
   "codemirror_mode": {
    "name": "ipython",
    "version": 3
   },
   "file_extension": ".py",
   "mimetype": "text/x-python",
   "name": "python",
   "nbconvert_exporter": "python",
   "pygments_lexer": "ipython3",
   "version": "3.8.5"
  }
 },
 "nbformat": 4,
 "nbformat_minor": 4
}
